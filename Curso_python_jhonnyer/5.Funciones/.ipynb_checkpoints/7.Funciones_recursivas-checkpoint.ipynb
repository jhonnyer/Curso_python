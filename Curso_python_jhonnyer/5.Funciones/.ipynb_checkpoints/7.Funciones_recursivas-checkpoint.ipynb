{
 "cells": [
  {
   "cell_type": "code",
   "execution_count": 5,
   "id": "fffc5414",
   "metadata": {},
   "outputs": [
    {
     "name": "stdout",
     "output_type": "stream",
     "text": [
      "4\n",
      "3\n",
      "2\n",
      "1\n",
      "Boooooooom!\n",
      "Fin de la función 0\n",
      "Fin de la función 1\n",
      "Fin de la función 2\n",
      "Fin de la función 3\n",
      "Fin de la función 4\n"
     ]
    }
   ],
   "source": [
    "#Funciones recursivas\n",
    "#Se trata de funciones que se llaman a sí mismas durante su propia ejecución. Funcionan de forma similar a las iteraciones, pero debemos encargarnos de planificar el momento en que dejan de llamarse a sí mismas o tendremos una función rescursiva infinita.\n",
    "\n",
    "#Suele utilizarse para dividir una tarea en subtareas más simples de forma que sea más fácil abordar el problema y solucionarlo.\n",
    "\n",
    "#Ejemplo sin retorno\n",
    "#Cuenta regresiva hasta cero a partir de un número:\n",
    "\n",
    "\n",
    "def cuenta_atras(num):\n",
    "    num -= 1\n",
    "    if num > 0:\n",
    "        print(num)\n",
    "        cuenta_atras(num)\n",
    "    else:\n",
    "        print(\"Boooooooom!\")\n",
    "    print(\"Fin de la función\", num)\n",
    "\n",
    "cuenta_atras(5)\n",
    "\n"
   ]
  },
  {
   "cell_type": "code",
   "execution_count": 6,
   "id": "977bcd60",
   "metadata": {},
   "outputs": [
    {
     "name": "stdout",
     "output_type": "stream",
     "text": [
      "Valor inicial -> 5\n",
      "Valor inicial -> 4\n",
      "Valor inicial -> 3\n",
      "Valor inicial -> 2\n",
      "Valor inicial -> 1\n",
      "valor final -> 1\n",
      "2\n",
      "valor final -> 2\n",
      "6\n",
      "valor final -> 6\n",
      "24\n",
      "valor final -> 24\n",
      "120\n",
      "valor final -> 120\n",
      "120\n"
     ]
    }
   ],
   "source": [
    "#Ejemplo con retorno\n",
    "#El factorial de un número corresponde al producto de todos los números desde 1 hasta el propio número. Es el ejemplo con retorno más utilizado para mostrar la utilidad de este tipo de funciones:\n",
    "\n",
    "#3! = 1 x 2 x 3 = 6\n",
    "#5! = 1 x 2 x 3 x 4 x 5 = 120\n",
    "\n",
    "def factorial(num):\n",
    "    print(\"Valor inicial ->\",num)\n",
    "    if num > 1:\n",
    "        print(num)\n",
    "        num = num * factorial(num -1)\n",
    "    print(\"valor final ->\",num)\n",
    "    return num\n",
    "\n",
    "print(factorial(5))"
   ]
  }
 ],
 "metadata": {
  "kernelspec": {
   "display_name": "Python 3",
   "language": "python",
   "name": "python3"
  },
  "language_info": {
   "codemirror_mode": {
    "name": "ipython",
    "version": 3
   },
   "file_extension": ".py",
   "mimetype": "text/x-python",
   "name": "python",
   "nbconvert_exporter": "python",
   "pygments_lexer": "ipython3",
   "version": "3.9.1"
  }
 },
 "nbformat": 4,
 "nbformat_minor": 5
}
