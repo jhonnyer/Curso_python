{
 "cells": [
  {
   "cell_type": "code",
   "execution_count": 5,
   "id": "ab245c9d",
   "metadata": {},
   "outputs": [
    {
     "name": "stdout",
     "output_type": "stream",
     "text": [
      "10\n"
     ]
    }
   ],
   "source": [
    "#Dependiendo del tipo de dato que enviemos a la función, podemos diferenciar dos comportamientos:\n",
    "\n",
    "#Paso por valor: Se crea una copia local de la variable dentro de la función.\n",
    "#Paso por referencia: Se maneja directamente la variable, los cambios realizados dentro de la función le afectarán también fuera.\n",
    "#Tradicionalmente:\n",
    "\n",
    "#Los tipos simples se pasan por valor: Enteros, flotantes, cadenas, lógicos...\n",
    "#Los tipos compuestos se pasan por referencia: Listas, diccionarios, conjuntos...\n",
    "#Ejemplo de paso por valor\n",
    "#Como ya sabemos los números se pasan por valor y crean una copia dentro de la función, por eso no les afecta externamente lo que hagamos con ellos:\n",
    "\n",
    "\n",
    "def doblar_valor(numero):\n",
    "    numero *= 2\n",
    "\n",
    "n = 10\n",
    "doblar_valor(n)\n",
    "print(n)\n"
   ]
  },
  {
   "cell_type": "code",
   "execution_count": 6,
   "id": "ac243d0c",
   "metadata": {},
   "outputs": [
    {
     "name": "stdout",
     "output_type": "stream",
     "text": [
      "[20, 100, 200]\n"
     ]
    }
   ],
   "source": [
    "#Ejemplo de paso por referencia\n",
    "#Sin embargo las listas u otras colecciones, al ser tipos compuestos se pasan por referencia, y si las modificamos dentro de la función estaremos modificándolas también fuera:\n",
    "\n",
    "\n",
    "def doblar_valores(numeros):\n",
    "    for i,n in enumerate(numeros):\n",
    "        numeros[i] *= 2\n",
    "\n",
    "ns = [10,50,100]\n",
    "doblar_valores(ns)\n",
    "print(ns)"
   ]
  },
  {
   "cell_type": "code",
   "execution_count": 3,
   "id": "ec356984",
   "metadata": {},
   "outputs": [
    {
     "name": "stdout",
     "output_type": "stream",
     "text": [
      "20\n"
     ]
    }
   ],
   "source": [
    "#Para modificar los tipos simples podemos devolverlos modificados y reasignarlos:\n",
    "\n",
    "\n",
    "def doblar_valor(numero):\n",
    "    return numero * 2\n",
    "\n",
    "n = 10\n",
    "n = doblar_valor(n)\n",
    "print(n)\n"
   ]
  },
  {
   "cell_type": "code",
   "execution_count": 7,
   "id": "ba9b8832",
   "metadata": {},
   "outputs": [
    {
     "name": "stdout",
     "output_type": "stream",
     "text": [
      "[10, 50, 100]\n"
     ]
    }
   ],
   "source": [
    "#Y en el caso de los tipos compuestos, podemos evitar la modificación enviando una copia:\n",
    "\n",
    "\n",
    "def doblar_valores(numeros):\n",
    "    for i,n in enumerate(numeros):\n",
    "        numeros[i] *= 2\n",
    "\n",
    "ns = [10,50,100]\n",
    "doblar_valores(ns[:])  # Una copia al vuelo de una lista con [:]\n",
    "print(ns)"
   ]
  }
 ],
 "metadata": {
  "kernelspec": {
   "display_name": "Python 3",
   "language": "python",
   "name": "python3"
  },
  "language_info": {
   "codemirror_mode": {
    "name": "ipython",
    "version": 3
   },
   "file_extension": ".py",
   "mimetype": "text/x-python",
   "name": "python",
   "nbconvert_exporter": "python",
   "pygments_lexer": "ipython3",
   "version": "3.9.1"
  }
 },
 "nbformat": 4,
 "nbformat_minor": 5
}
