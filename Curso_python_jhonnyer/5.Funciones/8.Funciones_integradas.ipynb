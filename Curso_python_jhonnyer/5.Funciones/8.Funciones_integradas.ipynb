{
 "cells": [
  {
   "cell_type": "code",
   "execution_count": 2,
   "id": "88d8f6d9",
   "metadata": {},
   "outputs": [
    {
     "name": "stdout",
     "output_type": "stream",
     "text": [
      "10\n"
     ]
    }
   ],
   "source": [
    "#Funciones integradas\n",
    "#La librería estándar de Python incluye muchas funciones. Las hay para hacer conversiones entre tipos, matemáticas, utilidades...\n",
    "\n",
    "#Aquí un resumen de las más utilizadas incluyendo algunas que ya conocemos:\n",
    "\n",
    "# int()\n",
    "# Transforma una cadena a un entero (si no es posible da error):\n",
    "\n",
    "\n",
    "n = int(\"10\")\n",
    "print(n)\n",
    "\n",
    "\n"
   ]
  },
  {
   "cell_type": "code",
   "execution_count": 3,
   "id": "063649d4",
   "metadata": {},
   "outputs": [
    {
     "name": "stdout",
     "output_type": "stream",
     "text": [
      "10.5\n"
     ]
    }
   ],
   "source": [
    "# float()\n",
    "# Transforma una cadena a un flotante (si no es posible da error):\n",
    "\n",
    "\n",
    "f = float(\"10.5\")\n",
    "print(f)\n",
    "\n",
    "\n"
   ]
  },
  {
   "cell_type": "code",
   "execution_count": 4,
   "id": "bf2991bd",
   "metadata": {},
   "outputs": [
    {
     "name": "stdout",
     "output_type": "stream",
     "text": [
      "Un texto y dos números 10 y 3.14\n"
     ]
    }
   ],
   "source": [
    "# str()\n",
    "# Transforma cualquier valor a una cadena:\n",
    "\n",
    "\n",
    "c = \"Un texto y dos números \" + str(10) + \" y \" + str(3.14)\n",
    "print(c)\n",
    "\n"
   ]
  },
  {
   "cell_type": "code",
   "execution_count": 5,
   "id": "db81e684",
   "metadata": {},
   "outputs": [
    {
     "data": {
      "text/plain": [
       "'0b1010'"
      ]
     },
     "execution_count": 5,
     "metadata": {},
     "output_type": "execute_result"
    }
   ],
   "source": [
    "#bin()\n",
    "# Conversión de entero a binario:\n",
    "\n",
    "\n",
    "bin(10)\n",
    "\n"
   ]
  },
  {
   "cell_type": "code",
   "execution_count": 6,
   "id": "5fd20e40",
   "metadata": {},
   "outputs": [
    {
     "data": {
      "text/plain": [
       "'0xa'"
      ]
     },
     "execution_count": 6,
     "metadata": {},
     "output_type": "execute_result"
    }
   ],
   "source": [
    "#hex()\n",
    "#Conversión de entero a hexadecimal:\n",
    "\n",
    "hex(10)"
   ]
  },
  {
   "cell_type": "code",
   "execution_count": 7,
   "id": "29732245",
   "metadata": {},
   "outputs": [
    {
     "name": "stdout",
     "output_type": "stream",
     "text": [
      "10\n",
      "10\n"
     ]
    }
   ],
   "source": [
    "# int(numero, base)\n",
    "# Reconversión a entero (base 10):\n",
    "\n",
    "\n",
    "print(int('0b1010', 2))\n",
    "print(int('0xa', 16))\n",
    "\n"
   ]
  },
  {
   "cell_type": "code",
   "execution_count": 15,
   "id": "9ce5fd42",
   "metadata": {},
   "outputs": [
    {
     "name": "stdout",
     "output_type": "stream",
     "text": [
      "10\n",
      "10\n"
     ]
    }
   ],
   "source": [
    "# abs()\n",
    "# Valor absoluto de un número (distancia):\n",
    "\n",
    "\n",
    "print(abs(-10))\n",
    "print(abs(10))\n",
    "\n"
   ]
  },
  {
   "cell_type": "code",
   "execution_count": 9,
   "id": "ffcc3cfd",
   "metadata": {},
   "outputs": [
    {
     "name": "stdout",
     "output_type": "stream",
     "text": [
      "6\n",
      "5\n"
     ]
    }
   ],
   "source": [
    "# round()\n",
    "# Redondeo de un flotante a entero, menor de .5 a la baja, mayor o igual a .5 al alza:\n",
    "\n",
    "\n",
    "print(round(5.5))\n",
    "print(round(5.4))\n"
   ]
  },
  {
   "cell_type": "code",
   "execution_count": 10,
   "id": "3f96fe84",
   "metadata": {},
   "outputs": [
    {
     "data": {
      "text/plain": [
       "7"
      ]
     },
     "execution_count": 10,
     "metadata": {},
     "output_type": "execute_result"
    }
   ],
   "source": [
    "# eval()\n",
    "# Evalúa una cadena como una expresión, acepta variables si se han definido anteriormente:\n",
    "\n",
    "\n",
    "eval('2 + 5')\n",
    "\n"
   ]
  },
  {
   "cell_type": "code",
   "execution_count": 11,
   "id": "dbc57b21",
   "metadata": {},
   "outputs": [
    {
     "data": {
      "text/plain": [
       "95"
      ]
     },
     "execution_count": 11,
     "metadata": {},
     "output_type": "execute_result"
    }
   ],
   "source": [
    "n = 10\n",
    "eval('n * 10 - 5')\n"
   ]
  },
  {
   "cell_type": "code",
   "execution_count": 12,
   "id": "4dea2ac7",
   "metadata": {},
   "outputs": [
    {
     "name": "stdout",
     "output_type": "stream",
     "text": [
      "10\n",
      "0\n"
     ]
    }
   ],
   "source": [
    "# len()\n",
    "# Longitud de una colección o cadena:\n",
    "\n",
    "print(len(\"Una cadena\"))\n",
    "print(len([]))"
   ]
  },
  {
   "cell_type": "code",
   "execution_count": 13,
   "id": "1c4fe096",
   "metadata": {},
   "outputs": [
    {
     "name": "stdout",
     "output_type": "stream",
     "text": [
      "\n",
      "Welcome to Python 3.9's help utility!\n",
      "\n",
      "If this is your first time using Python, you should definitely check out\n",
      "the tutorial on the Internet at https://docs.python.org/3.9/tutorial/.\n",
      "\n",
      "Enter the name of any module, keyword, or topic to get help on writing\n",
      "Python programs and using Python modules.  To quit this help utility and\n",
      "return to the interpreter, just type \"quit\".\n",
      "\n",
      "To get a list of available modules, keywords, symbols, or topics, type\n",
      "\"modules\", \"keywords\", \"symbols\", or \"topics\".  Each module also comes\n",
      "with a one-line summary of what it does; to list the modules whose name\n",
      "or summary contain a given string such as \"spam\", type \"modules spam\".\n",
      "\n",
      "help> \n",
      "\n",
      "You are now leaving help and returning to the Python interpreter.\n",
      "If you want to ask for help on a particular object directly from the\n",
      "interpreter, you can type \"help(object)\".  Executing \"help('string')\"\n",
      "has the same effect as typing a particular string at the help> prompt.\n"
     ]
    }
   ],
   "source": [
    "# help()\n",
    "# Invoca el menú de ayuda del intérprete de Python:\n",
    "help()"
   ]
  }
 ],
 "metadata": {
  "kernelspec": {
   "display_name": "Python 3",
   "language": "python",
   "name": "python3"
  },
  "language_info": {
   "codemirror_mode": {
    "name": "ipython",
    "version": 3
   },
   "file_extension": ".py",
   "mimetype": "text/x-python",
   "name": "python",
   "nbconvert_exporter": "python",
   "pygments_lexer": "ipython3",
   "version": "3.9.1"
  }
 },
 "nbformat": 4,
 "nbformat_minor": 5
}
