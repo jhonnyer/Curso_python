{
 "cells": [
  {
   "cell_type": "code",
   "execution_count": 2,
   "id": "decdead2",
   "metadata": {},
   "outputs": [
    {
     "name": "stdout",
     "output_type": "stream",
     "text": [
      "Hola mundo\n"
     ]
    }
   ],
   "source": [
    "def saludar():\n",
    "    print(\"Hola mundo\")\n",
    "#Llamar la funcion saludar\n",
    "saludar()\n"
   ]
  },
  {
   "cell_type": "code",
   "execution_count": 5,
   "id": "b4d952ea",
   "metadata": {},
   "outputs": [
    {
     "name": "stdout",
     "output_type": "stream",
     "text": [
      "5* 0 = 0\n",
      "5* 1 = 5\n",
      "5* 2 = 10\n",
      "5* 3 = 15\n",
      "5* 4 = 20\n",
      "5* 5 = 25\n",
      "5* 6 = 30\n",
      "5* 7 = 35\n",
      "5* 8 = 40\n",
      "5* 9 = 45\n",
      "5* 10 = 50\n"
     ]
    }
   ],
   "source": [
    "def tabla_5():\n",
    "    for i in range(11):\n",
    "        print(\"5*\",i,\"=\",i*5)\n",
    "\n",
    "tabla_5()"
   ]
  },
  {
   "cell_type": "markdown",
   "id": "a0431afd",
   "metadata": {},
   "source": [
    "Una variable declarada en una función no existe en la función principal: salida print muestra error fuera de la funcion"
   ]
  },
  {
   "cell_type": "code",
   "execution_count": 10,
   "id": "77099093",
   "metadata": {},
   "outputs": [
    {
     "name": "stdout",
     "output_type": "stream",
     "text": [
      "10\n"
     ]
    }
   ],
   "source": [
    "def test():\n",
    "    n = 10\n",
    "    print(n)\n",
    "test()\n",
    "#print(n)"
   ]
  },
  {
   "cell_type": "markdown",
   "id": "c643cbde",
   "metadata": {},
   "source": [
    "Sin embargo, una variable declarada fuera de la función (al mismo nivel), sí que es accesible desde la función:\n",
    "\n",
    "\n"
   ]
  },
  {
   "cell_type": "code",
   "execution_count": 12,
   "id": "4e6e161b",
   "metadata": {},
   "outputs": [
    {
     "name": "stdout",
     "output_type": "stream",
     "text": [
      "10\n"
     ]
    }
   ],
   "source": [
    "m = 10\n",
    "\n",
    "def test():\n",
    "    print(m)\n",
    "\n",
    "test()"
   ]
  },
  {
   "cell_type": "markdown",
   "id": "7506a808",
   "metadata": {},
   "source": [
    "Siempre que declaremos la variable antes de la ejecución, podemos acceder a ella desde dentro:"
   ]
  },
  {
   "cell_type": "code",
   "execution_count": 13,
   "id": "1b66d7c1",
   "metadata": {},
   "outputs": [
    {
     "name": "stdout",
     "output_type": "stream",
     "text": [
      "10\n"
     ]
    }
   ],
   "source": [
    "def test():\n",
    "    print(l)\n",
    "\n",
    "l = 10\n",
    "test()"
   ]
  },
  {
   "cell_type": "markdown",
   "id": "a833945c",
   "metadata": {},
   "source": [
    "En el caso que declaremos de nuevo una variable en la función, se creará un copia de la misma que sólo funcionará dentro de la función.\n",
    "\n",
    "Por tanto no podemos modificar una variable externa dentro de una función:\n",
    "\n"
   ]
  },
  {
   "cell_type": "code",
   "execution_count": 14,
   "id": "4246ec8d",
   "metadata": {},
   "outputs": [
    {
     "name": "stdout",
     "output_type": "stream",
     "text": [
      "5\n",
      "10\n"
     ]
    }
   ],
   "source": [
    "\n",
    "def test():\n",
    "    o = 5  # variable que sólo existe dentro de la función\n",
    "    print(o)\n",
    "\n",
    "o = 10  # variable externa, no modificable\n",
    "test()\n",
    "print(o)"
   ]
  },
  {
   "cell_type": "markdown",
   "id": "f0e36193",
   "metadata": {},
   "source": [
    "La instrucción global\n",
    "Para poder modificar una variable externa en la función, debemos indicar que es global de la siguiente forma:"
   ]
  },
  {
   "cell_type": "code",
   "execution_count": 15,
   "id": "7f01fe05",
   "metadata": {},
   "outputs": [
    {
     "name": "stdout",
     "output_type": "stream",
     "text": [
      "5\n",
      "5\n"
     ]
    }
   ],
   "source": [
    "def test():\n",
    "    global o  # variable que hace referencia a la o externa\n",
    "    o = 5\n",
    "    print(o)\n",
    "\n",
    "o = 10\n",
    "test()\n",
    "print(o)"
   ]
  }
 ],
 "metadata": {
  "kernelspec": {
   "display_name": "Python 3",
   "language": "python",
   "name": "python3"
  },
  "language_info": {
   "codemirror_mode": {
    "name": "ipython",
    "version": 3
   },
   "file_extension": ".py",
   "mimetype": "text/x-python",
   "name": "python",
   "nbconvert_exporter": "python",
   "pygments_lexer": "ipython3",
   "version": "3.9.1"
  }
 },
 "nbformat": 4,
 "nbformat_minor": 5
}
