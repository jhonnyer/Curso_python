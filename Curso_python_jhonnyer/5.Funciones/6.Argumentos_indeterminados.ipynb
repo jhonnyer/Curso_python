{
 "cells": [
  {
   "cell_type": "code",
   "execution_count": 10,
   "id": "88701a89",
   "metadata": {},
   "outputs": [
    {
     "name": "stdout",
     "output_type": "stream",
     "text": [
      "resultado tupla inmutable\n",
      "(5, 'Hola', [1, 2, 3, 4, 5])\n",
      "Recorrer tupla y mostrar valores uno a uno\n",
      "5\n",
      "Hola\n",
      "[1, 2, 3, 4, 5]\n"
     ]
    }
   ],
   "source": [
    "#Argumentos indeterminados\n",
    "#Quizá en alguna ocasión no sabemos de antemano cuantos elementos vamos a enviar a una función. En estos casos podemos utilizar los parámetros indeterminados por posición y por nombre.\n",
    "\n",
    "#Por posición\n",
    "#Para recibir un número indeterminado de parámetros por posición, debemos crear una lista dinámica de argumentos (una tupla en realidad) definiendo el parámetro con un asterisco:\n",
    "\n",
    "\n",
    "def indeterminados_posicion(*args):\n",
    "    print(\"resultado tupla inmutable\")\n",
    "    print(args)\n",
    "    #recorrer la lista de parametros inmutables uno a uno\n",
    "    print(\"Recorrer tupla y mostrar valores uno a uno\")\n",
    "    for arg in args:\n",
    "        print(arg)\n",
    "\n",
    "indeterminados_posicion(5,\"Hola\",[1,2,3,4,5])\n"
   ]
  },
  {
   "cell_type": "code",
   "execution_count": 11,
   "id": "d8c29afa",
   "metadata": {},
   "outputs": [
    {
     "name": "stdout",
     "output_type": "stream",
     "text": [
      "{'n': 5, 'c': 'Hola', 'l': [1, 2, 3, 4, 5]}\n"
     ]
    }
   ],
   "source": [
    "#Por nombre\n",
    "#Para recibir un número indeterminado de parámetros por nombre (clave-valor o en inglés keyword args), debemos crear un diccionario dinámico de argumentos definiendo el parámetro con dos asteriscos:\n",
    "\n",
    "\n",
    "def indeterminados_nombre(**kwargs):\n",
    "    print(kwargs)\n",
    "\n",
    "indeterminados_nombre(n=5, c=\"Hola\", l=[1,2,3,4,5])   \n"
   ]
  },
  {
   "cell_type": "code",
   "execution_count": 4,
   "id": "79858774",
   "metadata": {},
   "outputs": [
    {
     "name": "stdout",
     "output_type": "stream",
     "text": [
      "n => 5\n",
      "c => Hola\n",
      "l => [1, 2, 3, 4, 5]\n"
     ]
    }
   ],
   "source": [
    "#Al recibirse como un diccionario, podemos iterarlo y mostrar la clave y valor de cada argumento:\n",
    "def indeterminados_nombre(**kwargs):\n",
    "    for kwarg in kwargs:\n",
    "        print(kwarg, \"=>\", kwargs[kwarg])\n",
    "\n",
    "indeterminados_nombre(n=5, c=\"Hola\", l=[1,2,3,4,5])   \n"
   ]
  },
  {
   "cell_type": "code",
   "execution_count": 12,
   "id": "e46f46d8",
   "metadata": {},
   "outputs": [
    {
     "name": "stdout",
     "output_type": "stream",
     "text": [
      "sumatorio =>  390.56\n",
      "nombre => Hector\n",
      "edad => 27\n"
     ]
    }
   ],
   "source": [
    "#Por posición y nombre\n",
    "#Si queremos aceptar ambos tipos de parámetros simultáneamente, entonces debemos crear ambas colecciones dinámicas. Primero los argumentos indeterminados por valor y luego los que son por clave y valor:\n",
    "\n",
    "\n",
    "def super_funcion(*args,**kwargs):\n",
    "    total = 0\n",
    "    for arg in args:\n",
    "        total += arg\n",
    "    print(\"sumatorio => \", total)\n",
    "    for kwarg in kwargs:\n",
    "        print(kwarg, \"=>\", kwargs[kwarg])\n",
    "\n",
    "super_funcion(10, 50, -1, 1.56, 10, 20, 300, nombre=\"Hector\", edad=27)\n",
    "\n",
    "#Los nombres args y kwargs no son obligatorios, pero se suelen utilizar por convención.\n",
    "#Muchos frameworks y librerías los utilizan por lo que es una buena practica llamarlos así."
   ]
  }
 ],
 "metadata": {
  "kernelspec": {
   "display_name": "Python 3",
   "language": "python",
   "name": "python3"
  },
  "language_info": {
   "codemirror_mode": {
    "name": "ipython",
    "version": 3
   },
   "file_extension": ".py",
   "mimetype": "text/x-python",
   "name": "python",
   "nbconvert_exporter": "python",
   "pygments_lexer": "ipython3",
   "version": "3.9.1"
  }
 },
 "nbformat": 4,
 "nbformat_minor": 5
}
