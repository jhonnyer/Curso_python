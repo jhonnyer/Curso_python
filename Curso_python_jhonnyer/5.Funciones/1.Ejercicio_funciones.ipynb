{
 "cells": [
  {
   "cell_type": "code",
   "execution_count": 5,
   "id": "c2177c25",
   "metadata": {},
   "outputs": [
    {
     "name": "stdout",
     "output_type": "stream",
     "text": [
      "Ingrese un numero: 4\n",
      "PAR\n"
     ]
    }
   ],
   "source": [
    "def par_o_impar():\n",
    "    numero=int(input(\"Ingrese un numero: \"))\n",
    "    if(numero%2==0):\n",
    "        print(\"PAR\")\n",
    "    else:\n",
    "        print(\"IMPAR\")\n",
    "        \n",
    "par_o_impar()"
   ]
  },
  {
   "cell_type": "code",
   "execution_count": 12,
   "id": "9309162d",
   "metadata": {},
   "outputs": [
    {
     "name": "stdout",
     "output_type": "stream",
     "text": [
      "Ingrese un numero: 4\n"
     ]
    },
    {
     "data": {
      "text/plain": [
       "5"
      ]
     },
     "execution_count": 12,
     "metadata": {},
     "output_type": "execute_result"
    }
   ],
   "source": [
    "numero=int(input(\"Ingrese un numero: \"))\n",
    "minimo=10\n",
    "maximo=20\n",
    "def recortar(numero, minimo, maximo):\n",
    "    if numero < minimo:\n",
    "        return minimo\n",
    "    elif numero > maximo:\n",
    "        return maximo\n",
    "    return numero\n",
    "\n",
    "recortar(4,5,6)"
   ]
  }
 ],
 "metadata": {
  "kernelspec": {
   "display_name": "Python 3",
   "language": "python",
   "name": "python3"
  },
  "language_info": {
   "codemirror_mode": {
    "name": "ipython",
    "version": 3
   },
   "file_extension": ".py",
   "mimetype": "text/x-python",
   "name": "python",
   "nbconvert_exporter": "python",
   "pygments_lexer": "ipython3",
   "version": "3.9.1"
  }
 },
 "nbformat": 4,
 "nbformat_minor": 5
}
