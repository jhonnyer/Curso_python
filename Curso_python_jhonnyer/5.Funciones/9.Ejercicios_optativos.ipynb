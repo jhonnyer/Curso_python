{
 "cells": [
  {
   "cell_type": "code",
   "execution_count": 1,
   "id": "1ee67ab0",
   "metadata": {},
   "outputs": [
    {
     "name": "stdout",
     "output_type": "stream",
     "text": [
      "12\n"
     ]
    }
   ],
   "source": [
    "def doblar():\n",
    "    global num\n",
    "    num*=2\n",
    "num=6\n",
    "doblar()\n",
    "print(num)"
   ]
  },
  {
   "cell_type": "code",
   "execution_count": 5,
   "id": "15fb3c92",
   "metadata": {
    "scrolled": true
   },
   "outputs": [
    {
     "data": {
      "text/plain": [
       "(5, 10, 20)"
      ]
     },
     "execution_count": 5,
     "metadata": {},
     "output_type": "execute_result"
    }
   ],
   "source": [
    "def test(num):\n",
    "    return num,num*2, num*4\n",
    "test(5)"
   ]
  },
  {
   "cell_type": "code",
   "execution_count": 6,
   "id": "87baf2a9",
   "metadata": {},
   "outputs": [
    {
     "data": {
      "text/plain": [
       "50"
      ]
     },
     "execution_count": 6,
     "metadata": {},
     "output_type": "execute_result"
    }
   ],
   "source": [
    "# Ejercicios « Programación de funciones\n",
    "# Ejercicio 1\n",
    "# Realiza una función llamada area_rectangulo(base, altura) que devuelva el área del rectangulo a partir de una base y una altura. Calcula el área de un rectángulo de 15 de base y 10 de altura:\n",
    "\n",
    "# Recordatorio\n",
    "\n",
    "# El área de un rectángulo se obtiene al multiplicar la base por la altura.\n",
    "\n",
    "def area_cuadrado(base, altura):\n",
    "    return base*altura\n",
    "area_cuadrado(10,5)"
   ]
  },
  {
   "cell_type": "code",
   "execution_count": 8,
   "id": "c081ce4b",
   "metadata": {},
   "outputs": [
    {
     "name": "stdout",
     "output_type": "stream",
     "text": [
      "funcion PI\n",
      "3.141592653589793 \n",
      "\n",
      "78.53981633974483\n"
     ]
    }
   ],
   "source": [
    "# Ejercicio 2\n",
    "# Realiza una función llamada area_circulo(radio) que devuelva el área de un círculo a partir de un radio. Calcula el área de un círculo de 5 de radio:\n",
    "\n",
    "# Recordatorio\n",
    "\n",
    "# El área de un círculo se obtiene al elevar el radio a dos y multiplicando el resultado por el número pi. Puedes utilizar el valor 3.14159 como pi o importarlo del módulo math:\n",
    "\n",
    "\n",
    "import math\n",
    "print(\"funcion PI\")\n",
    "print(math.pi,\"\\n\")\n",
    "\n",
    "# 3.141592653589793\n",
    "\n",
    "def area_circulo(radio):\n",
    "    return (radio**2)*math.pi\n",
    "\n",
    "print(area_circulo(5))"
   ]
  },
  {
   "cell_type": "code",
   "execution_count": 11,
   "id": "690aaf4d",
   "metadata": {},
   "outputs": [
    {
     "name": "stdout",
     "output_type": "stream",
     "text": [
      "-1\n",
      "1\n",
      "0\n"
     ]
    }
   ],
   "source": [
    "# Ejercicio 3\n",
    "# Realiza una función llamada relacion(a, b) que a partir de dos números cumpla lo siguiente:\n",
    "\n",
    "# Si el primer número es mayor que el segundo, debe devolver 1.\n",
    "# Si el primer número es menor que el segundo, debe devolver -1.\n",
    "# Si ambos números son iguales, debe devolver un 0.\n",
    "# Comprueba la relación entre los números: '5 y 10', '10 y 5' y '5 y 5'.\n",
    "#funcion que permite comparar entre dos o mas numeros\n",
    "\n",
    "def relacion(a,b):\n",
    "    if a>b:\n",
    "        return 1\n",
    "    elif a<b:\n",
    "        return -1\n",
    "    else:\n",
    "        return 0\n",
    "\n",
    "print(relacion(5,10))\n",
    "print(relacion(10,5))\n",
    "print(relacion(5,5))\n"
   ]
  },
  {
   "cell_type": "code",
   "execution_count": 13,
   "id": "61c79e45",
   "metadata": {},
   "outputs": [
    {
     "name": "stdout",
     "output_type": "stream",
     "text": [
      "6.0\n",
      "6.0\n"
     ]
    }
   ],
   "source": [
    "# Ejercicio 4\n",
    "# Realiza una función llamada intermedio(a, b) que a partir de dos números, devuelva su punto intermedio. Cuando lo tengas comprueba el punto intermedio entre -12 y 24:\n",
    "\n",
    "# Recordatorio\n",
    "\n",
    "# El número intermedio de dos números corresponde a la suma de los dos números dividida entre 2\n",
    "\n",
    "def intermedio(a,b):\n",
    "    return (a+b)/2\n",
    "\n",
    "print(intermedio(10,2))\n",
    "print(intermedio(-12,24))"
   ]
  },
  {
   "cell_type": "code",
   "execution_count": 21,
   "id": "85f2c4ec",
   "metadata": {},
   "outputs": [
    {
     "data": {
      "text/plain": [
       "15"
      ]
     },
     "execution_count": 21,
     "metadata": {},
     "output_type": "execute_result"
    }
   ],
   "source": [
    "# Ejercicio 5\n",
    "# Realiza una función llamada recortar(numero, minimo, maximo) que reciba tres parámetros. El primero es el número a recortar, el segundo es el límite inferior y el tercero el límite superior. La función tendrá que cumplir lo siguiente:\n",
    "\n",
    "# Devolver el límite inferior si el número es menor que éste\n",
    "# Devolver el límite superior si el número es mayor que éste.\n",
    "# Devolver el número sin cambios si no se supera ningún límite.\n",
    "# Comprueba el resultado de recortar 15 entre los límites 0 y 10.\n",
    "\n",
    "def recortar(numero,minimo,maximo):\n",
    "    if numero<minimo:\n",
    "        return minimo\n",
    "    elif numero>maximo:\n",
    "        return maximo\n",
    "    else:\n",
    "        return numero\n",
    "\n",
    "recortar(15,0,17)"
   ]
  },
  {
   "cell_type": "code",
   "execution_count": 23,
   "id": "a876bc1f",
   "metadata": {},
   "outputs": [
    {
     "name": "stdout",
     "output_type": "stream",
     "text": [
      "[-12, 20, 84]\n",
      "[-33, 9, 13, 101]\n",
      "([-12, 20, 84], [-33, 9, 13, 101])\n"
     ]
    }
   ],
   "source": [
    "# Ejercicio 6\n",
    "# Realiza una función separar(lista) que tome una lista de números enteros y devuelva dos listas ordenadas. La primera con los números pares y la segunda con los números impares.\n",
    "\n",
    "# Por ejemplo:\n",
    "\n",
    "\n",
    "# pares, impares = separar([6,5,2,1,7])\n",
    "# print(pares)\n",
    "# print(impares)\n",
    "\n",
    "# [2, 6]\n",
    "# [1, 5, 7]\n",
    "# Sugerencia\n",
    "\n",
    "# Para ordenar una lista automáticamente puedes utilizar el método .sort().\n",
    "numeros=[-12,84,13,20,-33,101,9]\n",
    "def separar(lista):\n",
    "    lista.sort()\n",
    "    pares=[]\n",
    "    impares=[]\n",
    "    for n in lista:\n",
    "        if n%2==0:\n",
    "            pares.append(n)\n",
    "        else:\n",
    "            impares.append(n)\n",
    "    return pares, impares\n",
    "\n",
    "pares, impares=separar(numeros)\n",
    "print(pares)\n",
    "print(impares)\n",
    "print(separar(numeros))"
   ]
  }
 ],
 "metadata": {
  "kernelspec": {
   "display_name": "Python 3",
   "language": "python",
   "name": "python3"
  },
  "language_info": {
   "codemirror_mode": {
    "name": "ipython",
    "version": 3
   },
   "file_extension": ".py",
   "mimetype": "text/x-python",
   "name": "python",
   "nbconvert_exporter": "python",
   "pygments_lexer": "ipython3",
   "version": "3.9.1"
  }
 },
 "nbformat": 4,
 "nbformat_minor": 5
}
