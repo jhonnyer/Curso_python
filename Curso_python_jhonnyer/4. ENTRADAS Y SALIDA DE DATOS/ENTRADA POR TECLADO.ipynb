{
 "cells": [
  {
   "cell_type": "markdown",
   "id": "cc3e5d15",
   "metadata": {},
   "source": [
    "Entrada por teclado\n",
    "Ya conocemos la función input() que lee una cadena por teclado. Su único inconveniente es que debemos transformar el valor a numérico si deseamos hacer operaciones con él:\n",
    "\n"
   ]
  },
  {
   "cell_type": "code",
   "execution_count": 1,
   "id": "f94579b5",
   "metadata": {},
   "outputs": [
    {
     "name": "stdout",
     "output_type": "stream",
     "text": [
      "Introduce un número decimal con punto: 3.14\n"
     ]
    }
   ],
   "source": [
    "\n",
    "decimal = float( input(\"Introduce un número decimal con punto: \") )\n"
   ]
  },
  {
   "cell_type": "markdown",
   "id": "2fed5cef",
   "metadata": {},
   "source": [
    "Una forma interesante de leer varios valores es almacenar los datos en una lista e irlos añadiendo ahí para poderlos manipular en grupo:"
   ]
  },
  {
   "cell_type": "code",
   "execution_count": 3,
   "id": "2c14fc9a",
   "metadata": {},
   "outputs": [
    {
     "name": "stdout",
     "output_type": "stream",
     "text": [
      "Introduce 3 valores\n",
      "Introduce un valor: 1\n",
      "Introduce un valor: 3\n",
      "Introduce un valor: 4\n",
      "['1', '3', '4']\n"
     ]
    }
   ],
   "source": [
    "valores = []\n",
    "print(\"Introduce 3 valores\")\n",
    "for x in range(3):\n",
    "    valores.append( input(\"Introduce un valor: \") )\n",
    "print(valores)"
   ]
  },
  {
   "cell_type": "code",
   "execution_count": null,
   "id": "4aa62a91",
   "metadata": {},
   "outputs": [],
   "source": []
  }
 ],
 "metadata": {
  "kernelspec": {
   "display_name": "Python 3",
   "language": "python",
   "name": "python3"
  },
  "language_info": {
   "codemirror_mode": {
    "name": "ipython",
    "version": 3
   },
   "file_extension": ".py",
   "mimetype": "text/x-python",
   "name": "python",
   "nbconvert_exporter": "python",
   "pygments_lexer": "ipython3",
   "version": "3.9.1"
  }
 },
 "nbformat": 4,
 "nbformat_minor": 5
}
