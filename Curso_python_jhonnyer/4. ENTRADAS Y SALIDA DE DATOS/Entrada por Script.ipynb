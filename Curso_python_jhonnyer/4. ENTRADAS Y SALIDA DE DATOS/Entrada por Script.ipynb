{
 "cells": [
  {
   "cell_type": "markdown",
   "id": "443c2056",
   "metadata": {},
   "source": [
    "Entrada por script\n",
    "\n",
    "Hasta ahora todo lo que hemos hecho ha sido escribir código en el intérprete, pero los programas informáticos no funcionan así. Se basan en escribir todas las instrucciones en ficheros llamados scripts (o guiones de instrucciones). Luego se envía este fichero al intérprete desde la terminal (si es un lenguaje interpretado como Python) y éste ejecutará todas las instrucciones en bloque.\n",
    "\n",
    "A parte de ser la base de los programas, la gracia de los Scripts es que pueden recibir datos desde la propia terminal en el momento de la ejecución, algo muy útil para añadirles dinamismo.\n",
    "\n",
    "Para poder crear y ejecutar scripts hace falta un editor y una terminal, por suerte Anaconda trae el editor Spyder y el intérprete es accesible a través de la terminal Anaconda Prompt, ambos programas accesibles desde Inicio (o con Anaconda Navigator si utilizáis Linux/MAC).\n",
    "\n",
    "Script de prueba\n",
    "Utilizando Spyder deberíais ser capaces de crear un fichero hola.py con este contenido:\n",
    "\n",
    "Por último ejecutaremos el script pasándolo al intérprete de python y veremos el resultado del print() del script en la terminal:\n",
    "\n",
    "python hola.py\n",
    "\n",
    "\n"
   ]
  },
  {
   "cell_type": "markdown",
   "id": "79391327",
   "metadata": {},
   "source": [
    "Scripts con argumentos\n",
    "Para poder enviar información a un script y manejarla, tenemos que utilizar la librería de sistema sys. En ella encontraremos la lista argv que almacena los argumentos enviados al script. Cread el siguiente script y ejecutadlo:\n"
   ]
  },
  {
   "cell_type": "code",
   "execution_count": 1,
   "id": "797688b0",
   "metadata": {},
   "outputs": [
    {
     "name": "stdout",
     "output_type": "stream",
     "text": [
      "['/root/miniconda3/lib/python3.9/site-packages/ipykernel_launcher.py', '-f', '/root/.local/share/jupyter/runtime/kernel-62f55a98-d360-4823-b5f7-7ae0cf5f7d0d.json']\n"
     ]
    }
   ],
   "source": [
    "import sys\n",
    "print(sys.argv)"
   ]
  },
  {
   "cell_type": "markdown",
   "id": "99354bcc",
   "metadata": {},
   "source": [
    "Al ejecutarlo veréis que devuelve una lista con una cadena que contiene el nombre del script. Quedaros con la idea pues, de que el primer argumento de la lista sys.argv (sys.argv[0]) es el propio nombre del script.\n",
    "\n",
    "Ahora intentad ejecutarlo de nuevo pasando algunos valores como números y cadenas de texto entre comillas dobles, todo separado por espacios:\n",
    "\n",
    "\n",
    "python argumentos.py 100 \"Hola\" 3.14\n",
    "\n",
    "['argumentos.py', '100', 'Hola', '3.14']\n",
    "\n"
   ]
  },
  {
   "cell_type": "markdown",
   "id": "684e3f25",
   "metadata": {},
   "source": [
    "Cada valor que enviamos al script durante la llamada se llama argumento e implica una forma de entrada de datos alternativa sin usar el input().\n",
    "\n",
    "El siguiente ejemplo es un script que recibe dos argumentos: un texto y un número entero. Lo que hace es imprimir la cadena de texto tantas veces como le indiquemos en el número. Tomaos el tiempo necesario para analizar y entender cada línea:\n",
    "\n",
    "\n",
    "import sys\n",
    "\n",
    "# Comprobación de seguridad, ejecutar sólo si se reciben 2 argumentos reales\n",
    "if len(sys.argv) == 3:\n",
    "\n",
    "    texto = sys.argv[1]\n",
    "    \n",
    "    repeticiones = int(sys.argv[2])\n",
    "    \n",
    "    for r in range(repeticiones):\n",
    "    \n",
    "        print(texto)\n",
    "\n",
    "else:\n",
    "\n",
    "    print(\"Error - Introduce los argumentos correctamente\")\n",
    "    \n",
    "    print('Ejemplo: escribir_lineas.py \"Texto\" 5')"
   ]
  },
  {
   "cell_type": "code",
   "execution_count": null,
   "id": "23e0749b",
   "metadata": {},
   "outputs": [],
   "source": []
  }
 ],
 "metadata": {
  "kernelspec": {
   "display_name": "Python 3",
   "language": "python",
   "name": "python3"
  },
  "language_info": {
   "codemirror_mode": {
    "name": "ipython",
    "version": 3
   },
   "file_extension": ".py",
   "mimetype": "text/x-python",
   "name": "python",
   "nbconvert_exporter": "python",
   "pygments_lexer": "ipython3",
   "version": "3.9.1"
  }
 },
 "nbformat": 4,
 "nbformat_minor": 5
}
