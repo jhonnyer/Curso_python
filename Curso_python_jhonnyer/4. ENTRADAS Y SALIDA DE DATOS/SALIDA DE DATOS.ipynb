{
 "cells": [
  {
   "cell_type": "markdown",
   "id": "f08151a7",
   "metadata": {},
   "source": [
    "Salida por pantalla\n",
    "La función print() es la forma general de mostrar información por pantalla. Generalmente podemos mostrar texto y variables separándolos con comas:\n",
    "\n",
    "\n"
   ]
  },
  {
   "cell_type": "code",
   "execution_count": 1,
   "id": "76bc513a",
   "metadata": {},
   "outputs": [
    {
     "name": "stdout",
     "output_type": "stream",
     "text": [
      "Un texto otro texto y un número 10\n"
     ]
    }
   ],
   "source": [
    "v = \"otro texto\"\n",
    "n = 10\n",
    "\n",
    "print(\"Un texto\",v,\"y un número\",n)\n",
    "\n"
   ]
  },
  {
   "cell_type": "markdown",
   "id": "ad8222a2",
   "metadata": {},
   "source": [
    "Un texto otro texto y un número 10\n",
    "\n",
    "El método .format()\n",
    "\n",
    "Es una funcionalidad de las cadenas de texto que nos permite formatear información en una cadena (variables o valores literales) cómodamente utilizando identificadores referenciados:"
   ]
  },
  {
   "cell_type": "code",
   "execution_count": 2,
   "id": "06c4ae5c",
   "metadata": {},
   "outputs": [
    {
     "name": "stdout",
     "output_type": "stream",
     "text": [
      "Un texto 'otro texto' y un número '10'\n"
     ]
    }
   ],
   "source": [
    "c = \"Un texto '{}' y un número '{}'\".format(v,n)\n",
    "print(c)\n"
   ]
  },
  {
   "cell_type": "markdown",
   "id": "d05092b7",
   "metadata": {},
   "source": [
    "También podemos referenciar a partir de la posición de los valores utilizando índices:\n",
    "\n",
    "\n",
    "print( \"Un texto '{1}' y un número '{0}'\".format(v,n) )\n",
    "print(c)\n",
    "\n",
    "Un texto '10' y un número 'otro texto'\n",
    "O podemos utilizar identificador con una clave y luego pasarlas en el format:\n",
    "\n",
    "\n",
    "print( \"Un texto '{v}' y un número '{n}'\".format(n=n,v=v) )\n",
    "\n",
    "Un texto 'otro texto' y un número '10'\n",
    "\n",
    "print(\"{v},{v},{v}\".format(v=v))\n",
    "\n",
    "otro texto,otro texto,otro texto\n",
    "Formateo avanzado\n",
    "Este método soporta muchas técnicas de formateo, aquí algunos ejemplos.\n",
    "\n",
    "Alineamiento a la derecha en 30 caracteres:\n",
    "\n",
    "\n",
    "print( \"{:>30}\".format(\"palabra\") )  \n",
    "\n",
    "                       palabra\n",
    "Alineamiento a la izquierda en 30 caracteres (crea espacios a la derecha):\n",
    "\n",
    "\n",
    "print( \"{:30}\".format(\"palabra\") )\n",
    "\n",
    "palabra                       \n",
    "Alineamiento al centro en 30 caracteres:\n",
    "\n",
    "\n",
    "print( \"{:^30}\".format(\"palabra\") ) \n",
    "\n",
    "           palabra            \n",
    "Truncamiento a 3 caracteres:\n",
    "\n",
    "\n",
    "print( \"{:.3}\".format(\"palabra\") )  \n",
    "\n",
    "pal\n",
    "Alineamiento a la derecha en 30 caracteres con truncamiento de 3:\n",
    "\n",
    "\n",
    "print( \"{:>30.3}\".format(\"palabra\") )  \n",
    "\n",
    "                           pal\n",
    "Formateo de números enteros, rellenados con espacios:\n",
    "\n",
    "\n",
    "print(\"{:4d}\".format(10))\n",
    "print(\"{:4d}\".format(100))\n",
    "print(\"{:4d}\".format(1000))\n",
    "\n",
    "  10\n",
    " 100\n",
    "1000\n",
    "Formateo de números enteros, rellenados con ceros:\n",
    "\n",
    "\n",
    "print(\"{:04d}\".format(10))\n",
    "print(\"{:04d}\".format(100))\n",
    "print(\"{:04d}\".format(1000))\n",
    "\n",
    "0010\n",
    "0100\n",
    "1000\n",
    "Formateo de números flotantes, rellenados con espacios:\n",
    "\n",
    "\n",
    "print(\"{:7.3f}\".format(3.1415926))\n",
    "print(\"{:7.3f}\".format(153.21))\n",
    "\n",
    "  3.142\n",
    "153.210\n",
    "Formateo de números flotantes, rellenados con ceros:\n",
    "\n",
    "\n",
    "print(\"{:07.3f}\".format(3.1415926))\n",
    "print(\"{:07.3f}\".format(153.21))\n",
    "\n",
    "003.142\n",
    "153.210\n",
    "Format simplificado\n",
    "La actualización de Python 3.6 trajo la novedad de poder concatenar variables y cadenas de una forma muy cómoda sin utilizar el format().\n",
    "\n",
    "Hasta ahora para concadenar hacíamos lo siguiente:\n",
    "\n",
    "\n",
    "nombre = \"Héctor\"\n",
    "texto = \"Hola {}\".format(nombre)\n",
    "print(texto)\n",
    "\n",
    "Hola Héctor\n",
    "La nueva sintaxis nos permite ahorrarnos el método:\n",
    "\n",
    "\n",
    "nombre = \"Héctor\"\n",
    "texto = f\"Hola {nombre}\"\n",
    "print(texto)\n",
    "\n",
    "Hola Héctor\n",
    "Sólo tenemos que indicar f antes de la cadena y sustituir las variables por sus nomb"
   ]
  },
  {
   "cell_type": "code",
   "execution_count": null,
   "id": "11147c47",
   "metadata": {},
   "outputs": [],
   "source": []
  }
 ],
 "metadata": {
  "kernelspec": {
   "display_name": "Python 3",
   "language": "python",
   "name": "python3"
  },
  "language_info": {
   "codemirror_mode": {
    "name": "ipython",
    "version": 3
   },
   "file_extension": ".py",
   "mimetype": "text/x-python",
   "name": "python",
   "nbconvert_exporter": "python",
   "pygments_lexer": "ipython3",
   "version": "3.9.1"
  }
 },
 "nbformat": 4,
 "nbformat_minor": 5
}
