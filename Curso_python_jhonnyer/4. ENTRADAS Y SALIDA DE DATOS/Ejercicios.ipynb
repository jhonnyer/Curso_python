{
 "cells": [
  {
   "cell_type": "markdown",
   "id": "10a7ac2b",
   "metadata": {},
   "source": [
    "Ejercicio 1\n",
    "Formatea los siguientes valores para mostrar el resultado indicado:\n",
    "\n",
    "\"Hola Mundo\" → Alineado a la derecha en 20 caracteres\n",
    "\"Hola Mundo\" → Truncamiento en el cuarto carácter (índice 3)\n",
    "\"Hola Mundo\" → Alineamiento al centro en 20 caracteres con truncamiento en el segundo carácter (índice 1)\n",
    "150 → Formateo a 5 números enteros rellenados con ceros\n",
    "7887 → Formateo a 7 números enteros rellenados con espacios\n",
    "20.02 → Formateo a 3 números enteros y 3 números decimales\n"
   ]
  },
  {
   "cell_type": "code",
   "execution_count": 8,
   "id": "ce9079be",
   "metadata": {
    "scrolled": true
   },
   "outputs": [
    {
     "name": "stdout",
     "output_type": "stream",
     "text": [
      "          Hola mundo\n",
      "Hol\n",
      "         H          \n",
      "00150\n",
      "   7887\n",
      "020.020\n"
     ]
    }
   ],
   "source": [
    "#Formateo de caracteres y numeros \n",
    "print(\"{:>20}\".format(\"Hola mundo\"))\n",
    "print(\"{:.3}\".format(\"Hola mundo\"))\n",
    "#Aineamiento al centro en 20 caracteres y truncamiento en el segundo caracter\n",
    "print(\"{:^20.1}\".format(\"Hola mundo\"))\n",
    "#formateo a 5 numeros enteros rellenados con cero \n",
    "print(\"{:05d}\".format(150))\n",
    "#formateo a 7 numeros enteros rellenados con espacios\n",
    "print(\"{:7d}\".format(7887))\n",
    "#formateo a 3 numeros enteros y 3 numeros decimales. #el numero 7 indica 7 digitos incluyendo el punto\n",
    "print(\"{:07.3f}\".format(20.02))"
   ]
  },
  {
   "cell_type": "code",
   "execution_count": 2,
   "id": "cb293999",
   "metadata": {},
   "outputs": [
    {
     "ename": "TypeError",
     "evalue": "unsupported operand type(s) for +: 'int' and 'str'",
     "output_type": "error",
     "traceback": [
      "\u001b[0;31m---------------------------------------------------------------------------\u001b[0m",
      "\u001b[0;31mTypeError\u001b[0m                                 Traceback (most recent call last)",
      "\u001b[0;32m<ipython-input-2-be9a6458cfd8>\u001b[0m in \u001b[0;36m<module>\u001b[0;34m\u001b[0m\n\u001b[1;32m      1\u001b[0m \u001b[0mx\u001b[0m\u001b[0;34m=\u001b[0m\u001b[0;36m10\u001b[0m\u001b[0;34m\u001b[0m\u001b[0;34m\u001b[0m\u001b[0m\n\u001b[0;32m----> 2\u001b[0;31m \u001b[0mprint\u001b[0m\u001b[0;34m(\u001b[0m\u001b[0mx\u001b[0m\u001b[0;34m+\u001b[0m\u001b[0;34m\"Hola\"\u001b[0m\u001b[0;34m+\u001b[0m\u001b[0mx\u001b[0m\u001b[0;34m)\u001b[0m\u001b[0;34m\u001b[0m\u001b[0;34m\u001b[0m\u001b[0m\n\u001b[0m",
      "\u001b[0;31mTypeError\u001b[0m: unsupported operand type(s) for +: 'int' and 'str'"
     ]
    }
   ],
   "source": [
    "x=10\n",
    "print(x+\"Hola\"+x)"
   ]
  },
  {
   "cell_type": "markdown",
   "id": "19c0fb03",
   "metadata": {},
   "source": [
    "Ejercicio 2\n",
    "Crea un script llamado tabla.py que realice las siguientes tareas:\n",
    "\n",
    "Debe tomar 2 argumentos, ambos números enteros positivos del 1 al 9, sino mostrará un error.\n",
    "El primer argumento hará referencia a las filas de una tabla, el segundo a las columnas.\n",
    "En caso de no recibir uno o ambos argumentos, debe mostrar información acerca de cómo utilizar el script.\n",
    "El script contendrá un bucle for que itere el número de veces del primer argumento.\n",
    "Dentro del for, añade un segundo for que itere el número de veces del segundo argumento.\n",
    "Dentro del segundo for ejecuta una instrucción print(\" * \", end=''), (**end=''* evita el salto de línea)*.\n",
    "\n",
    "Ejecuta el código y observa el resultado.\n",
    "Intenta deducir dónde y cómo añadir otra instruccion print() para dibujar una tabla.\n",
    "\n",
    "Recordatorio: Los argumentos se envían como cadenas separadas por espacios, si quieres enviar varias palabras como un argumento deberás indicarlas entre comillas dobles \"esto es un argumento\". Para capturar los argumentos debes utilizar el módulo sys y su lista argv:"
   ]
  },
  {
   "cell_type": "code",
   "execution_count": 7,
   "id": "47a320b8",
   "metadata": {},
   "outputs": [
    {
     "name": "stdout",
     "output_type": "stream",
     "text": [
      "['/root/miniconda3/lib/python3.9/site-packages/ipykernel_launcher.py', '-f', '/root/.local/share/jupyter/runtime/kernel-f716caba-baf5-4b0d-8c39-c0bf2f70d6e7.json']\n"
     ]
    },
    {
     "ename": "ValueError",
     "evalue": "invalid literal for int() with base 10: '-f'",
     "output_type": "error",
     "traceback": [
      "\u001b[0;31m---------------------------------------------------------------------------\u001b[0m",
      "\u001b[0;31mValueError\u001b[0m                                Traceback (most recent call last)",
      "\u001b[0;32m<ipython-input-7-7c9945d557da>\u001b[0m in \u001b[0;36m<module>\u001b[0;34m\u001b[0m\n\u001b[1;32m      2\u001b[0m \u001b[0mprint\u001b[0m\u001b[0;34m(\u001b[0m\u001b[0msys\u001b[0m\u001b[0;34m.\u001b[0m\u001b[0margv\u001b[0m\u001b[0;34m)\u001b[0m\u001b[0;34m\u001b[0m\u001b[0;34m\u001b[0m\u001b[0m\n\u001b[1;32m      3\u001b[0m \u001b[0;32mif\u001b[0m \u001b[0mlen\u001b[0m\u001b[0;34m(\u001b[0m\u001b[0msys\u001b[0m\u001b[0;34m.\u001b[0m\u001b[0margv\u001b[0m\u001b[0;34m)\u001b[0m\u001b[0;34m==\u001b[0m\u001b[0;36m3\u001b[0m\u001b[0;34m:\u001b[0m\u001b[0;34m\u001b[0m\u001b[0;34m\u001b[0m\u001b[0m\n\u001b[0;32m----> 4\u001b[0;31m     \u001b[0mfilas\u001b[0m\u001b[0;34m=\u001b[0m\u001b[0mint\u001b[0m\u001b[0;34m(\u001b[0m\u001b[0msys\u001b[0m\u001b[0;34m.\u001b[0m\u001b[0margv\u001b[0m\u001b[0;34m[\u001b[0m\u001b[0;36m1\u001b[0m\u001b[0;34m]\u001b[0m\u001b[0;34m)\u001b[0m\u001b[0;34m\u001b[0m\u001b[0;34m\u001b[0m\u001b[0m\n\u001b[0m\u001b[1;32m      5\u001b[0m     \u001b[0mcolumnas\u001b[0m\u001b[0;34m=\u001b[0m\u001b[0mint\u001b[0m\u001b[0;34m(\u001b[0m\u001b[0msys\u001b[0m\u001b[0;34m.\u001b[0m\u001b[0margv\u001b[0m\u001b[0;34m[\u001b[0m\u001b[0;36m2\u001b[0m\u001b[0;34m]\u001b[0m\u001b[0;34m)\u001b[0m\u001b[0;34m\u001b[0m\u001b[0;34m\u001b[0m\u001b[0m\n\u001b[1;32m      6\u001b[0m     \u001b[0;32mif\u001b[0m \u001b[0mfilas\u001b[0m \u001b[0;34m<\u001b[0m\u001b[0;36m1\u001b[0m \u001b[0;32mor\u001b[0m \u001b[0mfilas\u001b[0m \u001b[0;34m>\u001b[0m\u001b[0;36m9\u001b[0m \u001b[0;32mor\u001b[0m \u001b[0mcolumnas\u001b[0m \u001b[0;34m<\u001b[0m\u001b[0;36m1\u001b[0m \u001b[0;32mor\u001b[0m \u001b[0mcolumnas\u001b[0m \u001b[0;34m>\u001b[0m\u001b[0;36m9\u001b[0m\u001b[0;34m:\u001b[0m\u001b[0;34m\u001b[0m\u001b[0;34m\u001b[0m\u001b[0m\n",
      "\u001b[0;31mValueError\u001b[0m: invalid literal for int() with base 10: '-f'"
     ]
    }
   ],
   "source": [
    "import sys\n",
    "print(sys.argv)\n",
    "if len(sys.argv)==3:\n",
    "    filas=int(sys.argv[1])\n",
    "    columnas=int(sys.argv[2])\n",
    "    if filas <1 or filas >9 or columnas <1 or columnas >9:\n",
    "        print(\"Filas incorrectas, ingresa un número entero del 1 al 9\")\n",
    "        print(\"Ejemplo Tabla.py [1-9] [1-9]\")\n",
    "    else: \n",
    "        # Empieza la logica del script si cumple los parametros \n",
    "        for f in range(filas):\n",
    "            print(\"\")  #permite crear una matriz ya que cada que se ejecuta coloca la salida en la parte de abajo de cada linea\n",
    "            # print(f)\n",
    "            for c in range(columnas):\n",
    "                #End permite que no haya salto de linea en la salida\n",
    "                print(\"*\", end=\"\") #Resultado 25 * ya que muestra las columnas y filas 5*5=25 veces\n",
    "                # print(c)\n",
    "else:\n",
    "    print(\"Error, número de argumentos incorrectos\")\n",
    "    print(\"Ejemplo Tabla.py [1-9] [1-9]\")"
   ]
  },
  {
   "cell_type": "markdown",
   "id": "1a765631",
   "metadata": {},
   "source": [
    "Ejercicio 3\n",
    "Crea un script llamado descomposicion.py que realice las siguientes tareas:\n",
    "\n",
    "Debe tomar 1 argumento que será un número entero positivo.\n",
    "En caso de no recibir un argumento, debe mostrar información acerca de cómo utilizar el script.\n",
    "El objetivo del script es descomponer el número en unidades, decenas, centenas, miles... tal que por ejemplo si se introduce el número 3647:\n",
    "\n",
    "\n",
    "python descomposicion.py 3647\n",
    "El programa deberá devolver una descomposición línea a línea como la siguiente utilizando las técnicas de formateo:"
   ]
  },
  {
   "cell_type": "code",
   "execution_count": 5,
   "id": "f56ae3a7",
   "metadata": {},
   "outputs": [
    {
     "name": "stdout",
     "output_type": "stream",
     "text": [
      "Error, argumentos invalidos\n",
      "Ejemplo descomposicion.py [0-9999]\n"
     ]
    }
   ],
   "source": [
    "import sys\n",
    "if len(sys.argv)==2:\n",
    "        numero=int(sys.argv[1])\n",
    "        if numero<0 or numero  >9999:\n",
    "            print(\"Error, el número ingresado es incorrecto\")\n",
    "            print(\"Ejemplo, descomposicion.py [0-9999]\")\n",
    "        else:\n",
    "            # Logica del ejercicio \n",
    "            cadena=str(numero) #se convierte en cadena para poder ver la longitud de la variable numero\n",
    "            longitud=len(cadena)\n",
    "            for i in range(longitud):\n",
    "                #ordena la salida en el ultimo digito al primero, ejemplo: entrada 1234, salida: 4321. NOTA: ** es equivalente a elevado potencia  ^\n",
    "                print(\"{:04d}\".format(int(cadena[longitud-1-i])*10**i)) #ejemplo posicionamiento; primer iteracion (4-1-0)*10⁰=3; segunda iteracion (4-1-1)*10¹=20; tercera iteracion (4-1-2)*10²=100; cuarta iteracion: (4-1-3)*10³=0000 \n",
    "    \n",
    "else:\n",
    "    print(\"Error, argumentos invalidos\")\n",
    "    print(\"Ejemplo descomposicion.py [0-9999]\")"
   ]
  }
 ],
 "metadata": {
  "kernelspec": {
   "display_name": "Python 3",
   "language": "python",
   "name": "python3"
  },
  "language_info": {
   "codemirror_mode": {
    "name": "ipython",
    "version": 3
   },
   "file_extension": ".py",
   "mimetype": "text/x-python",
   "name": "python",
   "nbconvert_exporter": "python",
   "pygments_lexer": "ipython3",
   "version": "3.9.1"
  }
 },
 "nbformat": 4,
 "nbformat_minor": 5
}
