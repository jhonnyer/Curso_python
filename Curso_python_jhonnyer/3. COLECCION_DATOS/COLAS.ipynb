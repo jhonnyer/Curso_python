{
 "cells": [
  {
   "cell_type": "markdown",
   "id": "bbbb8f70",
   "metadata": {},
   "source": [
    "Colas\n",
    "\n",
    "Son colecciones de elementos ordenados que únicamente permiten dos acciones:\n",
    "\n",
    "Añadir un elemento a la cola.\n",
    "Sacar un elemento de la cola.\n",
    "La peculiaridad es que el primer elemento en entrar es el primero en salir. En inglés se conocen como estructuras FIFO (First In First Out).\n",
    "\n",
    "Debemos importar la colección deque manualmente para crear una cola:"
   ]
  },
  {
   "cell_type": "code",
   "execution_count": 3,
   "id": "4cd1fb37",
   "metadata": {},
   "outputs": [
    {
     "name": "stdout",
     "output_type": "stream",
     "text": [
      "deque([])\n"
     ]
    }
   ],
   "source": [
    "from collections import deque\n",
    "cola = deque()\n",
    "print(cola)"
   ]
  },
  {
   "cell_type": "markdown",
   "id": "3ea963bf",
   "metadata": {},
   "source": [
    "Añadir a la cola: Podemos añadir elementos al crear la cola pasándolos en una lista:"
   ]
  },
  {
   "cell_type": "code",
   "execution_count": 5,
   "id": "56d4d4b4",
   "metadata": {},
   "outputs": [
    {
     "name": "stdout",
     "output_type": "stream",
     "text": [
      "deque(['Hector', 'Juan', 'Miguel'])\n"
     ]
    }
   ],
   "source": [
    "cola = deque(['Hector','Juan','Miguel'])\n",
    "print(cola)"
   ]
  },
  {
   "cell_type": "markdown",
   "id": "e0f53dbc",
   "metadata": {},
   "source": [
    "Luego podemos seguir añadiéndolos utilizando el método append():"
   ]
  },
  {
   "cell_type": "code",
   "execution_count": 6,
   "id": "2e78ea51",
   "metadata": {},
   "outputs": [
    {
     "name": "stdout",
     "output_type": "stream",
     "text": [
      "deque(['Hector', 'Juan', 'Miguel', 'Maria', 'Arnaldo'])\n"
     ]
    }
   ],
   "source": [
    "cola.append('Maria')\n",
    "cola.append('Arnaldo')\n",
    "print(cola)"
   ]
  },
  {
   "cell_type": "markdown",
   "id": "64229822",
   "metadata": {},
   "source": [
    "La parte interesante es a la hora de sacar los elementos, pues en esta ocasión utilizaremos el método popleft(). Hace lo mismo que pop() pero los extrae por la parte izquierda, que sería el principio de la cola:"
   ]
  },
  {
   "cell_type": "code",
   "execution_count": 7,
   "id": "a7feaa74",
   "metadata": {},
   "outputs": [
    {
     "name": "stdout",
     "output_type": "stream",
     "text": [
      "Hector\n",
      "deque(['Juan', 'Miguel', 'Maria', 'Arnaldo'])\n"
     ]
    }
   ],
   "source": [
    "\n",
    "print(cola.popleft())\n",
    "print(cola)"
   ]
  },
  {
   "cell_type": "markdown",
   "id": "39c1534d",
   "metadata": {},
   "source": [
    "Además al igual que antes debemos asegurarnos de almacenar los elementos al sacarlos o los perderemos:\n",
    "    "
   ]
  },
  {
   "cell_type": "code",
   "execution_count": 9,
   "id": "cae2aa24",
   "metadata": {},
   "outputs": [
    {
     "name": "stdout",
     "output_type": "stream",
     "text": [
      "Juan\n",
      "deque(['Miguel', 'Maria', 'Arnaldo'])\n"
     ]
    }
   ],
   "source": [
    "\n",
    "persona = cola.popleft()\n",
    "print(persona)\n",
    "print(cola)"
   ]
  },
  {
   "cell_type": "code",
   "execution_count": null,
   "id": "876ec15b",
   "metadata": {},
   "outputs": [],
   "source": []
  }
 ],
 "metadata": {
  "kernelspec": {
   "display_name": "Python 3",
   "language": "python",
   "name": "python3"
  },
  "language_info": {
   "codemirror_mode": {
    "name": "ipython",
    "version": 3
   },
   "file_extension": ".py",
   "mimetype": "text/x-python",
   "name": "python",
   "nbconvert_exporter": "python",
   "pygments_lexer": "ipython3",
   "version": "3.9.1"
  }
 },
 "nbformat": 4,
 "nbformat_minor": 5
}
