{
 "cells": [
  {
   "cell_type": "code",
   "execution_count": 1,
   "id": "f8c8fa68",
   "metadata": {},
   "outputs": [
    {
     "data": {
      "text/plain": [
       "{}"
      ]
     },
     "execution_count": 1,
     "metadata": {},
     "output_type": "execute_result"
    }
   ],
   "source": [
    "vacio = {}\n",
    "vacio"
   ]
  },
  {
   "cell_type": "code",
   "execution_count": 2,
   "id": "54644dfc",
   "metadata": {},
   "outputs": [
    {
     "data": {
      "text/plain": [
       "dict"
      ]
     },
     "execution_count": 2,
     "metadata": {},
     "output_type": "execute_result"
    }
   ],
   "source": [
    "type(vacio)"
   ]
  },
  {
   "cell_type": "code",
   "execution_count": 5,
   "id": "46fc48fc",
   "metadata": {},
   "outputs": [
    {
     "data": {
      "text/plain": [
       "{'amarillo': 'yellow', 'azul': 'blue', 'verde': 'green'}"
      ]
     },
     "execution_count": 5,
     "metadata": {},
     "output_type": "execute_result"
    }
   ],
   "source": [
    "colores = {'amarillo':'yellow','azul':'blue','verde':'green'}\n",
    "colores"
   ]
  },
  {
   "cell_type": "code",
   "execution_count": 10,
   "id": "d4135547",
   "metadata": {},
   "outputs": [
    {
     "name": "stdout",
     "output_type": "stream",
     "text": [
      "yellow\n",
      "blue\n"
     ]
    }
   ],
   "source": [
    "#bUSCAR UN VALOR POR MEDIO DE UNA CLAVE\n",
    "print(colores['amarillo'])\n",
    "print(colores['azul'])"
   ]
  },
  {
   "cell_type": "code",
   "execution_count": 12,
   "id": "76747f52",
   "metadata": {},
   "outputs": [
    {
     "data": {
      "text/plain": [
       "{'amarillo': 'yellow', 'azul': 'blue', 'verde': 'green', 'gris': 'gray'}"
      ]
     },
     "execution_count": 12,
     "metadata": {},
     "output_type": "execute_result"
    }
   ],
   "source": [
    "colores['gris'] = 'gray'\n",
    "colores"
   ]
  },
  {
   "cell_type": "code",
   "execution_count": 13,
   "id": "775198af",
   "metadata": {},
   "outputs": [
    {
     "data": {
      "text/plain": [
       "{'azul': 'blue', 'verde': 'green', 'gris': 'gray'}"
      ]
     },
     "execution_count": 13,
     "metadata": {},
     "output_type": "execute_result"
    }
   ],
   "source": [
    "del(colores['amarillo'])\n",
    "colores"
   ]
  },
  {
   "cell_type": "code",
   "execution_count": 14,
   "id": "25eff09c",
   "metadata": {},
   "outputs": [
    {
     "data": {
      "text/plain": [
       "'diez'"
      ]
     },
     "execution_count": 14,
     "metadata": {},
     "output_type": "execute_result"
    }
   ],
   "source": [
    "#Las claves pueden ser numeros pero son confusas de utilizar, casi no se utiliza\n",
    "numeros = {10:'diez',20:'veinte'}\n",
    "numeros[10]"
   ]
  },
  {
   "cell_type": "code",
   "execution_count": 21,
   "id": "6d79f0c0",
   "metadata": {},
   "outputs": [
    {
     "name": "stdout",
     "output_type": "stream",
     "text": [
      "{'Hector': 27, 'Juan': 45, 'Maria': 34}\n",
      "{'Hector': 28, 'Juan': 45, 'Maria': 34}\n",
      "Edad sumada de Juan y Maria es:  79\n"
     ]
    }
   ],
   "source": [
    "#Una utilidad de los diccionarios es que podemos trabajar directamente con sus registros como si fueran variables:\n",
    "\n",
    "\n",
    "edades = {'Hector':27,'Juan':45,'Maria':34}\n",
    "print(edades)\n",
    "edades['Hector']+=1\n",
    "print(edades)\n",
    "#sUMA EDAD HECTOR Y MARIA\n",
    "edad_sumada=edades['Juan']+edades['Maria']\n",
    "print(\"Edad sumada de Juan y Maria es: \",edad_sumada)\n",
    "\n"
   ]
  },
  {
   "cell_type": "code",
   "execution_count": 1,
   "id": "721c8ffc",
   "metadata": {},
   "outputs": [
    {
     "name": "stdout",
     "output_type": "stream",
     "text": [
      "Hector\n",
      "Juan\n",
      "Maria\n"
     ]
    }
   ],
   "source": [
    "edades = {'Hector':27,'Juan':45,'Maria':34}\n",
    "\n",
    "for edad in edades:\n",
    "    print(edad)"
   ]
  },
  {
   "cell_type": "code",
   "execution_count": 23,
   "id": "690a32c7",
   "metadata": {},
   "outputs": [
    {
     "name": "stdout",
     "output_type": "stream",
     "text": [
      "27\n",
      "45\n",
      "34\n"
     ]
    }
   ],
   "source": [
    "for clave in edades:\n",
    "    print(edades[clave])"
   ]
  },
  {
   "cell_type": "code",
   "execution_count": 24,
   "id": "90cec299",
   "metadata": {},
   "outputs": [
    {
     "name": "stdout",
     "output_type": "stream",
     "text": [
      "Hector 27\n",
      "Juan 45\n",
      "Maria 34\n"
     ]
    }
   ],
   "source": [
    "for clave in edades:\n",
    "    print(clave,edades[clave])"
   ]
  },
  {
   "cell_type": "code",
   "execution_count": 4,
   "id": "4966292c",
   "metadata": {},
   "outputs": [
    {
     "name": "stdout",
     "output_type": "stream",
     "text": [
      "0 Hector 27\n",
      "1 Juan 45\n",
      "2 Maria 34\n"
     ]
    }
   ],
   "source": [
    "for i, valor in enumerate(edades):\n",
    "    print(i, valor, edades[valor])"
   ]
  },
  {
   "cell_type": "code",
   "execution_count": 25,
   "id": "e63a0fee",
   "metadata": {},
   "outputs": [
    {
     "name": "stdout",
     "output_type": "stream",
     "text": [
      "Hector 27\n",
      "Juan 45\n",
      "Maria 34\n"
     ]
    }
   ],
   "source": [
    "for clave, valor in edades.items():\n",
    "    print(clave, valor)"
   ]
  },
  {
   "cell_type": "code",
   "execution_count": 7,
   "id": "a68c40a2",
   "metadata": {},
   "outputs": [
    {
     "name": "stdout",
     "output_type": "stream",
     "text": [
      "27\n",
      "45\n",
      "34\n"
     ]
    }
   ],
   "source": [
    "for valor in edades.values():\n",
    "    print(valor)"
   ]
  },
  {
   "cell_type": "code",
   "execution_count": 9,
   "id": "05e85dfb",
   "metadata": {},
   "outputs": [
    {
     "name": "stdout",
     "output_type": "stream",
     "text": [
      "Hector\n",
      "Juan\n",
      "Maria\n"
     ]
    }
   ],
   "source": [
    "for key in edades.keys():\n",
    "    print(key)"
   ]
  },
  {
   "cell_type": "code",
   "execution_count": 1,
   "id": "29b83750",
   "metadata": {},
   "outputs": [
    {
     "name": "stdout",
     "output_type": "stream",
     "text": [
      "[{'Nombre': 'Gandalf', 'Clase': 'Mago', 'Raza': 'Humano'}, {'Nombre': 'Legolas', 'Clase': 'Arquero', 'Raza': 'Elfo'}, {'Nombre': 'Gimli', 'Clase': 'Guerrero', 'Raza': 'Enano'}]\n"
     ]
    }
   ],
   "source": [
    "#Creo una lista de personajes\n",
    "personajes = []\n",
    "\n",
    "#Creo varios diccionarios de personajes\n",
    "gandalf = {'Nombre':'Gandalf','Clase':'Mago','Raza':'Humano'}\n",
    "legolas = {'Nombre':'Legolas','Clase':'Arquero','Raza':'Elfo'}\n",
    "gimli = {'Nombre':'Gimli','Clase':'Guerrero','Raza':'Enano'}\n",
    "\n",
    "#agrego cada diccionario de personajes a la lista personajes\n",
    "personajes.append(gandalf)\n",
    "personajes.append(legolas)\n",
    "personajes.append(gimli)\n",
    "\n",
    "#imprimo la lista de personajes\n",
    "print(personajes)"
   ]
  },
  {
   "cell_type": "code",
   "execution_count": 29,
   "id": "ff97e4cd",
   "metadata": {},
   "outputs": [
    {
     "name": "stdout",
     "output_type": "stream",
     "text": [
      "Gandalf Mago Humano\n",
      "Legolas Arquero Elfo\n",
      "Gimli Guerrero Enano\n"
     ]
    }
   ],
   "source": [
    "for pesonaje in personajes:\n",
    "    print(pesonaje['Nombre'], pesonaje['Clase'], pesonaje['Raza'])"
   ]
  },
  {
   "cell_type": "code",
   "execution_count": 32,
   "id": "5c515fb7",
   "metadata": {},
   "outputs": [
    {
     "name": "stdout",
     "output_type": "stream",
     "text": [
      "{'caballo': 'horse', 'vaca': 'cow', 'perro': 'dog', 'gato': 'cat', 'rana': 'frog'}\n"
     ]
    }
   ],
   "source": [
    "#EJERCICIO\n",
    "# Variables del ejercicio (no modifiques esta línea)\n",
    "#Diccionario animales\n",
    "animales = {\"caballo\":\"\", \"vaca\":\"\"}\n",
    "\n",
    "# completa el ejercicio\n",
    "#Crear elementoss clave-valor, perro, gato y rana\n",
    "animales['perro']='dog'\n",
    "animales['gato']='cat'\n",
    "animales['rana']='frog'\n",
    "\n",
    "#modificar valores de la clave caballo y vaca\n",
    "animales['caballo']='horse'\n",
    "animales['vaca']='cow'\n",
    "print(animales)\n",
    "#ELIMINAR CLAVE RANA Y VACA\n",
    "del(animales['vaca'])\n",
    "del(animales['vaca'])\n",
    "print(animales)"
   ]
  },
  {
   "cell_type": "code",
   "execution_count": null,
   "id": "755bf4fc",
   "metadata": {},
   "outputs": [],
   "source": []
  }
 ],
 "metadata": {
  "kernelspec": {
   "display_name": "Python 3",
   "language": "python",
   "name": "python3"
  },
  "language_info": {
   "codemirror_mode": {
    "name": "ipython",
    "version": 3
   },
   "file_extension": ".py",
   "mimetype": "text/x-python",
   "name": "python",
   "nbconvert_exporter": "python",
   "pygments_lexer": "ipython3",
   "version": "3.9.1"
  }
 },
 "nbformat": 4,
 "nbformat_minor": 5
}
