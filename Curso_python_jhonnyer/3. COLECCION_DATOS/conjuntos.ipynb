{
 "cells": [
  {
   "cell_type": "code",
   "execution_count": 2,
   "id": "3d249139",
   "metadata": {},
   "outputs": [
    {
     "data": {
      "text/plain": [
       "set()"
      ]
     },
     "execution_count": 2,
     "metadata": {},
     "output_type": "execute_result"
    }
   ],
   "source": [
    "#Conjunto vacio de elementos. fUNCION SET PERMITE CREAR UN CONJUNTO Y PASAR ELEMENTOS AL CONJUNTO, EN ESTE CASO NADA\n",
    "conjunto=set()\n",
    "conjunto"
   ]
  },
  {
   "cell_type": "code",
   "execution_count": 9,
   "id": "ba508fee",
   "metadata": {},
   "outputs": [
    {
     "name": "stdout",
     "output_type": "stream",
     "text": [
      "Lista convertido en conjunto:  {1, 2, 3}\n",
      "Conjunto convertido en lista:  [1, 2, 3]\n",
      "Lista convertido en conjunto para eliminar datos duplicados y convertir nuevamente en lista:  [1, 2, 3]\n"
     ]
    }
   ],
   "source": [
    "conjunto={1,2,3}\n",
    "#convertir lista en conjunto y eliminar datos duplicados\n",
    "lista=[1,2,3,3,3,2,1]\n",
    "l=set(lista)\n",
    "print(\"Lista convertido en conjunto: \", l)\n",
    "\n",
    "#convertir conjunto en lista\n",
    "li=list(l)\n",
    "print(\"Conjunto convertido en lista: \",li)\n",
    "\n",
    "#CONVERTIR LISTA EN CONJUNTO EN UN SOLO COMANDO\n",
    "LISTA=[1,2,3,3,3,2,1]\n",
    "LISTA=list(set(lista))\n",
    "print(\"Lista convertido en conjunto para eliminar datos duplicados y convertir nuevamente en lista: \",LISTA)"
   ]
  },
  {
   "cell_type": "code",
   "execution_count": 11,
   "id": "2509654c",
   "metadata": {},
   "outputs": [
    {
     "data": {
      "text/plain": [
       "{' ', 'A', 'a', 'i', 'l', 'n', 'o', 'p', 'v', 'y'}"
      ]
     },
     "execution_count": 11,
     "metadata": {},
     "output_type": "execute_result"
    }
   ],
   "source": [
    "#Conjunto con cadena de caracteres\n",
    "s=\"Al pan pan y al vino vino\"\n",
    "s=set(s)\n",
    "s"
   ]
  },
  {
   "cell_type": "code",
   "execution_count": 18,
   "id": "9bc1d954",
   "metadata": {},
   "outputs": [
    {
     "data": {
      "text/plain": [
       "{'Ana', 'Andrés', 'Blanca', 'David', 'Marta'}"
      ]
     },
     "execution_count": 18,
     "metadata": {},
     "output_type": "execute_result"
    }
   ],
   "source": [
    "# Variables del ejercicio (no las modifiques)\n",
    "grupo = {\"Miguel\", \"Blanca\", \"Mario\", \"Andrés\"}\n",
    "\n",
    "# Completa el ejercicio\n",
    "grupo.add('Ana')\n",
    "grupo.add('Ramón')\n",
    "grupo.add('Marta')\n",
    "grupo.add('David')\n",
    "\n",
    "grupo.remove('Mario')\n",
    "grupo.remove('Miguel')\n",
    "grupo.remove('Ramón')\n",
    "grupo"
   ]
  },
  {
   "cell_type": "code",
   "execution_count": null,
   "id": "42937026",
   "metadata": {},
   "outputs": [],
   "source": []
  }
 ],
 "metadata": {
  "kernelspec": {
   "display_name": "Python 3",
   "language": "python",
   "name": "python3"
  },
  "language_info": {
   "codemirror_mode": {
    "name": "ipython",
    "version": 3
   },
   "file_extension": ".py",
   "mimetype": "text/x-python",
   "name": "python",
   "nbconvert_exporter": "python",
   "pygments_lexer": "ipython3",
   "version": "3.9.1"
  }
 },
 "nbformat": 4,
 "nbformat_minor": 5
}
