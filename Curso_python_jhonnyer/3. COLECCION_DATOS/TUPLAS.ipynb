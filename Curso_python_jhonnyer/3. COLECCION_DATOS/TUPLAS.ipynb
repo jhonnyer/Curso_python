{
 "cells": [
  {
   "cell_type": "code",
   "execution_count": 2,
   "id": "775d5103",
   "metadata": {},
   "outputs": [
    {
     "data": {
      "text/plain": [
       "(100, 'Hola', [1, 2, 3], -50)"
      ]
     },
     "execution_count": 2,
     "metadata": {},
     "output_type": "execute_result"
    }
   ],
   "source": [
    "tupla = (100,\"Hola\",[1,2,3],-50)\n",
    "tupla"
   ]
  },
  {
   "cell_type": "code",
   "execution_count": 3,
   "id": "37c555d2",
   "metadata": {},
   "outputs": [
    {
     "name": "stdout",
     "output_type": "stream",
     "text": [
      "(100, 'Hola', [1, 2, 3], -50)\n",
      "100\n",
      "-50\n",
      "([1, 2, 3], -50)\n",
      "3\n"
     ]
    }
   ],
   "source": [
    "print(tupla)\n",
    "print(tupla[0])\n",
    "print(tupla[-1])\n",
    "print(tupla[2:])\n",
    "print(tupla[2][-1])"
   ]
  },
  {
   "cell_type": "code",
   "execution_count": 4,
   "id": "c4e9b767",
   "metadata": {},
   "outputs": [
    {
     "ename": "TypeError",
     "evalue": "'tuple' object does not support item assignment",
     "output_type": "error",
     "traceback": [
      "\u001b[0;31m---------------------------------------------------------------------------\u001b[0m",
      "\u001b[0;31mTypeError\u001b[0m                                 Traceback (most recent call last)",
      "\u001b[0;32m<ipython-input-4-b3178934806e>\u001b[0m in \u001b[0;36m<module>\u001b[0;34m\u001b[0m\n\u001b[0;32m----> 1\u001b[0;31m \u001b[0mtupla\u001b[0m\u001b[0;34m[\u001b[0m\u001b[0;36m0\u001b[0m\u001b[0;34m]\u001b[0m\u001b[0;34m=\u001b[0m\u001b[0;36m1\u001b[0m\u001b[0;34m\u001b[0m\u001b[0;34m\u001b[0m\u001b[0m\n\u001b[0m",
      "\u001b[0;31mTypeError\u001b[0m: 'tuple' object does not support item assignment"
     ]
    }
   ],
   "source": [
    "tupla[0]=1"
   ]
  },
  {
   "cell_type": "code",
   "execution_count": 5,
   "id": "5758bfb4",
   "metadata": {},
   "outputs": [
    {
     "data": {
      "text/plain": [
       "4"
      ]
     },
     "execution_count": 5,
     "metadata": {},
     "output_type": "execute_result"
    }
   ],
   "source": [
    "len(tupla)"
   ]
  },
  {
   "cell_type": "code",
   "execution_count": 6,
   "id": "244ed90e",
   "metadata": {},
   "outputs": [
    {
     "data": {
      "text/plain": [
       "3"
      ]
     },
     "execution_count": 6,
     "metadata": {},
     "output_type": "execute_result"
    }
   ],
   "source": [
    "len(tupla[2])"
   ]
  },
  {
   "cell_type": "code",
   "execution_count": 8,
   "id": "c3e16a24",
   "metadata": {},
   "outputs": [
    {
     "data": {
      "text/plain": [
       "1"
      ]
     },
     "execution_count": 8,
     "metadata": {},
     "output_type": "execute_result"
    }
   ],
   "source": [
    "#index para buscar un elemento y saber su posicion\n",
    "tupla.index('Hola')"
   ]
  },
  {
   "cell_type": "code",
   "execution_count": 9,
   "id": "6057f277",
   "metadata": {},
   "outputs": [
    {
     "ename": "ValueError",
     "evalue": "tuple.index(x): x not in tuple",
     "output_type": "error",
     "traceback": [
      "\u001b[0;31m---------------------------------------------------------------------------\u001b[0m",
      "\u001b[0;31mValueError\u001b[0m                                Traceback (most recent call last)",
      "\u001b[0;32m<ipython-input-9-96b3aa7d99ab>\u001b[0m in \u001b[0;36m<module>\u001b[0;34m\u001b[0m\n\u001b[0;32m----> 1\u001b[0;31m \u001b[0mtupla\u001b[0m\u001b[0;34m.\u001b[0m\u001b[0mindex\u001b[0m\u001b[0;34m(\u001b[0m\u001b[0;34m\"otro\"\u001b[0m\u001b[0;34m)\u001b[0m\u001b[0;34m\u001b[0m\u001b[0;34m\u001b[0m\u001b[0m\n\u001b[0m",
      "\u001b[0;31mValueError\u001b[0m: tuple.index(x): x not in tuple"
     ]
    }
   ],
   "source": [
    "tupla.index(\"otro\")"
   ]
  },
  {
   "cell_type": "code",
   "execution_count": 10,
   "id": "a593b041",
   "metadata": {},
   "outputs": [
    {
     "data": {
      "text/plain": [
       "1"
      ]
     },
     "execution_count": 10,
     "metadata": {},
     "output_type": "execute_result"
    }
   ],
   "source": [
    "tupla.count(100)"
   ]
  },
  {
   "cell_type": "code",
   "execution_count": 11,
   "id": "bc26a373",
   "metadata": {},
   "outputs": [
    {
     "data": {
      "text/plain": [
       "0"
      ]
     },
     "execution_count": 11,
     "metadata": {},
     "output_type": "execute_result"
    }
   ],
   "source": [
    "tupla.count('Algo')"
   ]
  },
  {
   "cell_type": "code",
   "execution_count": 12,
   "id": "9721dc8c",
   "metadata": {},
   "outputs": [
    {
     "data": {
      "text/plain": [
       "3"
      ]
     },
     "execution_count": 12,
     "metadata": {},
     "output_type": "execute_result"
    }
   ],
   "source": [
    "tupla = (100,100,100,50,10)\n",
    "tupla.count(100)"
   ]
  },
  {
   "cell_type": "code",
   "execution_count": 13,
   "id": "9fdd03fa",
   "metadata": {},
   "outputs": [
    {
     "data": {
      "text/plain": [
       "(100, 100, 100)"
      ]
     },
     "execution_count": 13,
     "metadata": {},
     "output_type": "execute_result"
    }
   ],
   "source": [
    "tupla[:3]"
   ]
  },
  {
   "cell_type": "code",
   "execution_count": null,
   "id": "574b77ae",
   "metadata": {},
   "outputs": [],
   "source": []
  }
 ],
 "metadata": {
  "kernelspec": {
   "display_name": "Python 3",
   "language": "python",
   "name": "python3"
  },
  "language_info": {
   "codemirror_mode": {
    "name": "ipython",
    "version": 3
   },
   "file_extension": ".py",
   "mimetype": "text/x-python",
   "name": "python",
   "nbconvert_exporter": "python",
   "pygments_lexer": "ipython3",
   "version": "3.9.1"
  }
 },
 "nbformat": 4,
 "nbformat_minor": 5
}
