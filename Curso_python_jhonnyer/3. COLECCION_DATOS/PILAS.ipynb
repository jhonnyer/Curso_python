{
 "cells": [
  {
   "cell_type": "markdown",
   "id": "2d59af0c",
   "metadata": {},
   "source": [
    "Pilas\n",
    "\n",
    "Son colecciones de elementos ordenados que únicamente permiten dos acciones:\n",
    "\n",
    "Añadir un elemento a la pila.\n",
    "Sacar un elemento de la pila.\n",
    "La peculiaridad es que el último elemento en entrar es el primero en salir. En inglés se conocen como estructuras LIFO (Last In First Out).\n",
    "\n",
    "Las podemos crear como listas normales y añadir elementos al final con el append():"
   ]
  },
  {
   "cell_type": "code",
   "execution_count": 1,
   "id": "d43c5b71",
   "metadata": {},
   "outputs": [
    {
     "name": "stdout",
     "output_type": "stream",
     "text": [
      "[3, 4, 5, 6, 7]\n"
     ]
    }
   ],
   "source": [
    "pila = [3,4,5]\n",
    "pila.append(6)\n",
    "pila.append(7)\n",
    "print(pila)"
   ]
  },
  {
   "cell_type": "markdown",
   "id": "3363b938",
   "metadata": {},
   "source": [
    "Para sacar los elementos utilizaremos el método pop(). Al utilizareste método devolveremos el último elemento, pero también lo borraremos:"
   ]
  },
  {
   "cell_type": "code",
   "execution_count": 2,
   "id": "bad2da47",
   "metadata": {},
   "outputs": [
    {
     "name": "stdout",
     "output_type": "stream",
     "text": [
      "7\n",
      "[3, 4, 5, 6]\n"
     ]
    }
   ],
   "source": [
    "#Ultimo elemento sacado de la pila\n",
    "print(pila.pop())\n",
    "#Pila sin el ultimo elemento sacado de la pila mediante el metodo pop\n",
    "print(pila)\n",
    "\n"
   ]
  },
  {
   "cell_type": "markdown",
   "id": "0b54d031",
   "metadata": {},
   "source": [
    "Si queremos trabajar con él deberíamos asignarlo a una variable:"
   ]
  },
  {
   "cell_type": "code",
   "execution_count": 3,
   "id": "aac653f6",
   "metadata": {},
   "outputs": [
    {
     "name": "stdout",
     "output_type": "stream",
     "text": [
      "6\n"
     ]
    }
   ],
   "source": [
    "numero = pila.pop()\n",
    "print(numero)"
   ]
  },
  {
   "cell_type": "markdown",
   "id": "0286c273",
   "metadata": {},
   "source": [
    "Si vamos sacando elementos llegará un momento en que la pila estará vacía y dará error porque no podrá sacar nada más:\n"
   ]
  },
  {
   "cell_type": "code",
   "execution_count": 4,
   "id": "0a717661",
   "metadata": {},
   "outputs": [
    {
     "ename": "IndexError",
     "evalue": "pop from empty list",
     "output_type": "error",
     "traceback": [
      "\u001b[0;31m---------------------------------------------------------------------------\u001b[0m",
      "\u001b[0;31mIndexError\u001b[0m                                Traceback (most recent call last)",
      "\u001b[0;32m<ipython-input-4-75cdcad8c06e>\u001b[0m in \u001b[0;36m<module>\u001b[0;34m\u001b[0m\n\u001b[1;32m      2\u001b[0m \u001b[0mpila\u001b[0m\u001b[0;34m.\u001b[0m\u001b[0mpop\u001b[0m\u001b[0;34m(\u001b[0m\u001b[0;34m)\u001b[0m\u001b[0;34m\u001b[0m\u001b[0;34m\u001b[0m\u001b[0m\n\u001b[1;32m      3\u001b[0m \u001b[0mpila\u001b[0m\u001b[0;34m.\u001b[0m\u001b[0mpop\u001b[0m\u001b[0;34m(\u001b[0m\u001b[0;34m)\u001b[0m\u001b[0;34m\u001b[0m\u001b[0;34m\u001b[0m\u001b[0m\n\u001b[0;32m----> 4\u001b[0;31m \u001b[0mpila\u001b[0m\u001b[0;34m.\u001b[0m\u001b[0mpop\u001b[0m\u001b[0;34m(\u001b[0m\u001b[0;34m)\u001b[0m\u001b[0;34m\u001b[0m\u001b[0;34m\u001b[0m\u001b[0m\n\u001b[0m",
      "\u001b[0;31mIndexError\u001b[0m: pop from empty list"
     ]
    }
   ],
   "source": [
    "\n",
    "pila.pop()\n",
    "pila.pop()\n",
    "pila.pop()\n",
    "pila.pop()"
   ]
  },
  {
   "cell_type": "code",
   "execution_count": null,
   "id": "a74d2f47",
   "metadata": {},
   "outputs": [],
   "source": []
  }
 ],
 "metadata": {
  "kernelspec": {
   "display_name": "Python 3",
   "language": "python",
   "name": "python3"
  },
  "language_info": {
   "codemirror_mode": {
    "name": "ipython",
    "version": 3
   },
   "file_extension": ".py",
   "mimetype": "text/x-python",
   "name": "python",
   "nbconvert_exporter": "python",
   "pygments_lexer": "ipython3",
   "version": "3.9.1"
  }
 },
 "nbformat": 4,
 "nbformat_minor": 5
}
