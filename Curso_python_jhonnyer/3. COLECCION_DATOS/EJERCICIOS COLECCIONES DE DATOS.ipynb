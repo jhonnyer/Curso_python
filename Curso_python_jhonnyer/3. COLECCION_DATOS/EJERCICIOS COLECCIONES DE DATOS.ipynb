{
 "cells": [
  {
   "cell_type": "markdown",
   "id": "3e585408",
   "metadata": {},
   "source": [
    "Ejercicio 1\n",
    "\n",
    "Realiza un programa que siga las siguientes instrucciones:\n",
    "\n",
    "Crea un conjunto llamado usuarios con los usuarios Marta, David, Elvira, Juan y Marcos\n",
    "Crea un conjunto llamado administradores con los administradores Juan y Marta.\n",
    "Borra al administrador Juan del conjunto de administradores.\n",
    "Añade a Marcos como un nuevo administrador, pero no lo borres del conjunto de usuarios.\n",
    "Muestra todos los usuarios por pantalla de forma dinámica, además debes indicar cada usuario es administrador o no.\n",
    "\n",
    "\n",
    "Los conjuntos se pueden recorrer dinámicamente utilizando el bucle for de forma similar a una lista.\n",
    "También cuentan con un método llamado .discard(elemento) que sirve para borrar o descartar un elemento."
   ]
  },
  {
   "cell_type": "code",
   "execution_count": 14,
   "id": "57bf2e61",
   "metadata": {},
   "outputs": [
    {
     "name": "stdout",
     "output_type": "stream",
     "text": [
      "{'Juan', 'Marcos', 'David', 'Marta', 'Elvira'}\n",
      "{'Juan', 'Marta'}\n",
      "{'Marta', 'Marcos'}\n",
      "Usuario  Juan   es un usuario normal\n",
      "Usuario  Marcos  es administrador\n",
      "Usuario  David   es un usuario normal\n",
      "Usuario  Marta  es administrador\n",
      "Usuario  Elvira   es un usuario normal\n"
     ]
    }
   ],
   "source": [
    "usuarios=set({\"Marta\",\"David\",\"Elvira\",\"Juan\",\"Marcos\"})\n",
    "print(usuarios)\n",
    "administradores=set({\"Juan\",\"Marta\"})\n",
    "print(administradores)\n",
    "administradores.remove(\"Juan\")\n",
    "administradores.add(\"Marcos\")\n",
    "print(administradores)\n",
    "\n",
    "for us in usuarios:\n",
    "    if us in administradores:\n",
    "        print(\"Usuario \",us,\" es administrador\")\n",
    "    else:\n",
    "        print(\"Usuario \",us,\"  es un usuario normal\")"
   ]
  },
  {
   "cell_type": "markdown",
   "id": "88e8cddc",
   "metadata": {},
   "source": [
    "Ejercicio 2\n",
    "\n",
    "\n",
    "Durante el desarrollo de un pequeño videojuego se te encarga configurar y balancear cada clase de personaje jugable. Partiendo que la estadística base es 2, debes cumplir las siguientes condiciones:\n",
    "\n",
    "El caballero tiene el doble de vida y defensa que un guerrero.\n",
    "El guerrero tiene el doble de ataque y alcance que un caballero.\n",
    "El arquero tiene la misma vida y ataque que un guerrero, pero la mitad de su defensa y el doble de su alcance.\n",
    "Muestra como quedan las propiedades de los tres personajes.\n"
   ]
  },
  {
   "cell_type": "code",
   "execution_count": 23,
   "id": "cf10cb0e",
   "metadata": {},
   "outputs": [
    {
     "name": "stdout",
     "output_type": "stream",
     "text": [
      "CABALLERO:\t  {'vida': 4, 'ataque': 2, 'defensa': 4, 'alcance': 2}\n",
      "GUERRERO:\t  {'vida': 2, 'ataque': 4, 'defensa': 2, 'alcance': 4}\n",
      "ARQUERO:\t  {'vida': 2, 'ataque': 4, 'defensa': 1.0, 'alcance': 8}\n"
     ]
    }
   ],
   "source": [
    "caballero={'vida':2,'ataque':2,'defensa':2,'alcance':2}\n",
    "guerrero={'vida':2,'ataque':2,'defensa':2,'alcance':2}\n",
    "arquero={'vida':2,'ataque':2,'defensa':2,'alcance':2}\n",
    "\n",
    "#Resolver ejercicio\n",
    "caballero['vida']=guerrero['vida']*2\n",
    "caballero['defensa']=guerrero['defensa']*2\n",
    "\n",
    "guerrero['ataque']=caballero['ataque']*2\n",
    "guerrero['alcance']=caballero['alcance']*2\n",
    "\n",
    "arquero['vida']=guerrero['vida']\n",
    "arquero['ataque']=guerrero['ataque']\n",
    "arquero['defensa']=guerrero['defensa']/2\n",
    "arquero['alcance']=guerrero['alcance']*2\n",
    "\n",
    "\n",
    "print(\"CABALLERO:\\t \",caballero)\n",
    "print(\"GUERRERO:\\t \",guerrero)\n",
    "print(\"ARQUERO:\\t \",arquero)"
   ]
  },
  {
   "cell_type": "markdown",
   "id": "748e5c45",
   "metadata": {},
   "source": [
    "Ejercicio 3\n",
    "\n",
    "Durante la planificación de un proyecto se han acordado una lista de tareas. Para cada una de estas tareas se ha asignado un orden de prioridad (cuanto menor es el número de orden, más prioridad).\n",
    "\n",
    "¿Eres capaz de crear una estructura del tipo cola con todas las tareas ordenadas pero sin los números de orden?\n",
    "\n",
    "Sugerencia\n",
    "\n",
    "Para ordenar automáticamente una lista es posible utilizar el método .sort(), deberias probarlo."
   ]
  },
  {
   "cell_type": "code",
   "execution_count": 42,
   "id": "04a897fc",
   "metadata": {},
   "outputs": [
    {
     "name": "stdout",
     "output_type": "stream",
     "text": [
      "lista de tareas: \n",
      "\n",
      "6 Distribucion\n",
      "2 Diseño\n",
      "1 Concepción\n",
      "7 Mantenimiento\n",
      "4 Producción\n",
      "3 Planificación\n",
      "5 Pruebas\n",
      "[[1, 'Concepción'], [2, 'Diseño'], [3, 'Planificación'], [4, 'Producción'], [5, 'Pruebas'], [6, 'Distribucion'], [7, 'Mantenimiento']]\n",
      "\n",
      " Tareas ordenadas por prioridad: \n",
      "\n",
      "Concepción\n",
      "Diseño\n",
      "Planificación\n",
      "Producción\n",
      "Pruebas\n",
      "Distribucion\n",
      "Mantenimiento\n",
      "\n",
      " Primer tarea a realizar:  Concepción\n"
     ]
    }
   ],
   "source": [
    "#IMPORTAR LIBRERIA COLA \n",
    "from collections import deque\n",
    "\n",
    "tareas=[\n",
    "    [6,\"Distribucion\"],\n",
    "    [2,\"Diseño\"],\n",
    "    [1,\"Concepción\"],\n",
    "    [7,\"Mantenimiento\"],\n",
    "    [4,\"Producción\"],\n",
    "    [3,\"Planificación\"],\n",
    "    [5,\"Pruebas\"]\n",
    "]\n",
    "\n",
    "#FOR NORMAL\n",
    "print(\"lista de tareas: \\n\")\n",
    "for tarea in tareas:\n",
    "    print(tarea[0], tarea[1])\n",
    "\n",
    "#ORDENAR LISTA DE TAREAS CON METODO SORT()\n",
    "tareas.sort()\n",
    "print(tareas)\n",
    "\n",
    "#AÑADIR LAS TAREAS ORDENADAS A UNA COLA\n",
    "cola=deque()\n",
    "for tarea in tareas:\n",
    "    cola.append(tarea[1])\n",
    "\n",
    "print(\"\\n Tareas ordenadas por prioridad: \\n\")\n",
    "for c in cola:\n",
    "    print(c)\n",
    "    \n",
    "#PRIMER TAREA A REALIZAR\n",
    "c=cola.popleft()\n",
    "print(\"\\n Primer tarea a realizar: \",c)"
   ]
  },
  {
   "cell_type": "code",
   "execution_count": null,
   "id": "2294731b",
   "metadata": {},
   "outputs": [],
   "source": []
  }
 ],
 "metadata": {
  "kernelspec": {
   "display_name": "Python 3",
   "language": "python",
   "name": "python3"
  },
  "language_info": {
   "codemirror_mode": {
    "name": "ipython",
    "version": 3
   },
   "file_extension": ".py",
   "mimetype": "text/x-python",
   "name": "python",
   "nbconvert_exporter": "python",
   "pygments_lexer": "ipython3",
   "version": "3.9.1"
  }
 },
 "nbformat": 4,
 "nbformat_minor": 5
}
