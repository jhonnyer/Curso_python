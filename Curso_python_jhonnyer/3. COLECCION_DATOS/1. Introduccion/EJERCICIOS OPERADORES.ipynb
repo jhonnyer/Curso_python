{
 "cells": [
  {
   "cell_type": "markdown",
   "id": "5387929c",
   "metadata": {},
   "source": [
    "Ejercicio 1\n",
    "Realiza un programa que lea 2 números por teclado y determine los siguientes aspectos (es suficiene con mostrar True o False):\n",
    "\n",
    "Si los dos números son iguales\n",
    "Si los dos números son diferentes\n",
    "Si el primero es mayor que el segundo\n",
    "Si el segundo es mayor o igual que el primero"
   ]
  },
  {
   "cell_type": "code",
   "execution_count": 17,
   "id": "46452fbd",
   "metadata": {},
   "outputs": [
    {
     "name": "stdout",
     "output_type": "stream",
     "text": [
      "Ingrese el primer numero: 5\n",
      "Ingrese el segundo numero: 7\n",
      "Son iguales: False\n",
      "Son numeos diferentes: True\n",
      "El numero 1 es mayor que el numero 2: False\n",
      "El numero 2 es mayor o igual que el numero 1: True\n"
     ]
    }
   ],
   "source": [
    "numero_1=float(input(\"Ingrese el primer numero: \"))\n",
    "numero_2=float(input(\"Ingrese el segundo numero: \"))\n",
    "resultado1=numero_1==numero_2\n",
    "resultado2=numero_1!=numero_2\n",
    "resultado3=numero_1>numero_2\n",
    "resultado4=numero_2>=numero_1\n",
    "print(\"Son iguales: \"+str(resultado1))\n",
    "print(\"Son numeos diferentes: \"+str(resultado2))\n",
    "print(\"El numero 1 es mayor que el numero 2: \"+str(resultado3))\n",
    "print(\"El numero 2 es mayor o igual que el numero 1: \"+str(resultado4))"
   ]
  },
  {
   "cell_type": "markdown",
   "id": "ea47c13a",
   "metadata": {},
   "source": [
    "Ejercicio 2 Utilizando operadores lógicos, determina si una cadena de texto introducida por el usuario tiene una longitud mayor o igual que 3 y a su vez es menor que 10 (es suficiene con mostrar True o False).\n"
   ]
  },
  {
   "cell_type": "code",
   "execution_count": 21,
   "id": "5696b712",
   "metadata": {},
   "outputs": [
    {
     "name": "stdout",
     "output_type": "stream",
     "text": [
      "Ingrese un texto: HOLA MUNDO\n",
      "Longitud de la cadena ingresada: 10\n",
      "La longitud de la cadena es mayor o igual que 3 y menor que 10: True\n"
     ]
    }
   ],
   "source": [
    "cadena=input(\"Ingrese un texto: \")\n",
    "longitud_cadena=len(cadena)\n",
    "resultado=longitud_cadena>=3 and longitud_cadena<=10\n",
    "print(\"Longitud de la cadena ingresada: \"+str(longitud_cadena))\n",
    "print(\"La longitud de la cadena es mayor o igual que 3 y menor que 10: \"+str(resultado))"
   ]
  },
  {
   "cell_type": "markdown",
   "id": "de8a6419",
   "metadata": {},
   "source": [
    "Ejercicio 3 Realiza un programa que cumpla el siguiente algoritmo utilizando siempre que sea posible operadores en asignación:\n",
    "\n",
    "Guarda en una variable numero_magico el valor 12345679 (sin el 8) Lee por pantalla otro numero_usuario, especifica que sea entre 1 y 9 Multiplica el numero_usuario por 9 en sí mismo Multiplica el numero_magico por el numero_usuario en sí mismo Finalmente muestra el valor final del numero_magico por pantalla"
   ]
  },
  {
   "cell_type": "code",
   "execution_count": 33,
   "id": "1af59a8d",
   "metadata": {
    "scrolled": true
   },
   "outputs": [
    {
     "name": "stdout",
     "output_type": "stream",
     "text": [
      "Ingrese un numero entero entre 1 y 9: 1\n",
      "9\n",
      "1116\n"
     ]
    }
   ],
   "source": [
    "numero_magico= 124\n",
    "numero_usuario=int(input(\"Ingrese un numero entero entre 1 y 9: \"))\n",
    "numero_usuario *= 9\n",
    "numero_magico*=numero_usuario\n",
    "print(numero_usuario)\n",
    "print(numero_magico)\n"
   ]
  },
  {
   "cell_type": "code",
   "execution_count": null,
   "id": "b6c278da",
   "metadata": {},
   "outputs": [],
   "source": [
    "\n",
    "\n"
   ]
  }
 ],
 "metadata": {
  "kernelspec": {
   "display_name": "Python 3",
   "language": "python",
   "name": "python3"
  },
  "language_info": {
   "codemirror_mode": {
    "name": "ipython",
    "version": 3
   },
   "file_extension": ".py",
   "mimetype": "text/x-python",
   "name": "python",
   "nbconvert_exporter": "python",
   "pygments_lexer": "ipython3",
   "version": "3.9.1"
  }
 },
 "nbformat": 4,
 "nbformat_minor": 5
}
