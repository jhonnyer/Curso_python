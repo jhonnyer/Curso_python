{
 "cells": [
  {
   "cell_type": "code",
   "execution_count": 1,
   "id": "b2ea62c2",
   "metadata": {},
   "outputs": [
    {
     "name": "stdout",
     "output_type": "stream",
     "text": [
      "50\n",
      "15\n",
      "Hola Mundo\n",
      "Hola Hola \n",
      "3\n",
      "[2, 3]\n",
      "[1, 2, 3, 1, 2, 3]\n"
     ]
    }
   ],
   "source": [
    "a = 10\n",
    "b = -5\n",
    "c = \"Hola \"\n",
    "d = [1, 2, 3] \n",
    "\n",
    "print(a * 5)\n",
    "print(a - b)\n",
    "print(c + \"Mundo\")\n",
    "print(c * 2)\n",
    "print(d[-1])\n",
    "print(d[1:])\n",
    "print(d + d)   "
   ]
  },
  {
   "cell_type": "code",
   "execution_count": 2,
   "id": "f39ab9ae",
   "metadata": {},
   "outputs": [
    {
     "name": "stdout",
     "output_type": "stream",
     "text": [
      "La nota media es 6.0\n"
     ]
    }
   ],
   "source": [
    "numero_1 = 9\n",
    "numero_2 = 3\n",
    "numero_3 = 6\n",
    "\n",
    "media = (numero_1 + numero_2 + numero_3) / 3\n",
    "print(\"La nota media es\", media)"
   ]
  },
  {
   "cell_type": "code",
   "execution_count": 5,
   "id": "c6c80d2f",
   "metadata": {},
   "outputs": [
    {
     "data": {
      "text/plain": [
       "5.949999999999999"
      ]
     },
     "execution_count": 5,
     "metadata": {},
     "output_type": "execute_result"
    }
   ],
   "source": [
    "nota_1 = 10*0.15\n",
    "nota_2 = 7*0.35\n",
    "nota_3 = 4*0.5\n",
    "nota_media=(nota_1+nota_2+nota_3)\n",
    "nota_media\n"
   ]
  },
  {
   "cell_type": "code",
   "execution_count": 1,
   "id": "cfa8485c",
   "metadata": {},
   "outputs": [
    {
     "name": "stdout",
     "output_type": "stream",
     "text": [
      "[4, 4, 4, 13]\n"
     ]
    },
    {
     "data": {
      "text/plain": [
       "[[1, 1, 1, 3], [2, 2, 2, 6], [3, 3, 3, 9], [4, 4, 4, 12]]"
      ]
     },
     "execution_count": 1,
     "metadata": {},
     "output_type": "execute_result"
    }
   ],
   "source": [
    "#La función llamada sum(lista) devuelve una suma de todos los elementos de la lista de la matriz en la posicion 3\n",
    "matriz = [ \n",
    "    [1, 1, 1, 3],\n",
    "    [2, 2, 2, 7],\n",
    "    [3, 3, 3, 9],\n",
    "    [4, 4, 4, 13]\n",
    "]\n",
    "print(matriz[-1])\n",
    "#accedo a la lista 2, corregir el valor 7. Suma de la lista 1 todos los valores hasta la posicion -1,es decir: 2+2+2=6 \n",
    "matriz[1][-1]=sum(matriz[1][:-1])\n",
    "#accedo a la lista 4 O ULTIMA LISTA, corregir el valor 13. Suma de la lista 4 todos los valores hasta la posicion -1,es decir: 4+4+4=12 \n",
    "matriz[-1][-1]=sum(matriz[-1][:-1])\n",
    "matriz"
   ]
  },
  {
   "cell_type": "code",
   "execution_count": 8,
   "id": "e97a108f",
   "metadata": {},
   "outputs": [
    {
     "name": "stdout",
     "output_type": "stream",
     "text": [
      "Juan Pérez ha sacado la nota: 10\n"
     ]
    }
   ],
   "source": [
    "cadena = \"zeréP nauJ,01\"\n",
    "cadena_volteada=cadena[::-1]\n",
    "nombre=cadena_volteada[3:]\n",
    "numero=cadena_volteada[:2]\n",
    "cadena_completa=nombre+\" ha sacado la nota: \"+numero\n",
    "print(cadena_completa)"
   ]
  },
  {
   "cell_type": "code",
   "execution_count": null,
   "id": "6157e236",
   "metadata": {},
   "outputs": [],
   "source": []
  }
 ],
 "metadata": {
  "kernelspec": {
   "display_name": "Python 3",
   "language": "python",
   "name": "python3"
  },
  "language_info": {
   "codemirror_mode": {
    "name": "ipython",
    "version": 3
   },
   "file_extension": ".py",
   "mimetype": "text/x-python",
   "name": "python",
   "nbconvert_exporter": "python",
   "pygments_lexer": "ipython3",
   "version": "3.9.1"
  }
 },
 "nbformat": 4,
 "nbformat_minor": 5
}
