{
 "cells": [
  {
   "cell_type": "code",
   "execution_count": 1,
   "id": "9fc00561",
   "metadata": {},
   "outputs": [
    {
     "data": {
      "text/plain": [
       "False"
      ]
     },
     "execution_count": 1,
     "metadata": {},
     "output_type": "execute_result"
    }
   ],
   "source": [
    "1+1==3"
   ]
  },
  {
   "cell_type": "code",
   "execution_count": 2,
   "id": "7a625b93",
   "metadata": {},
   "outputs": [
    {
     "data": {
      "text/plain": [
       "False"
      ]
     },
     "execution_count": 2,
     "metadata": {},
     "output_type": "execute_result"
    }
   ],
   "source": [
    "c = \"Hola Mundo\"\n",
    "len(c) >= 20 and c[0] == \"H\"\n"
   ]
  },
  {
   "cell_type": "code",
   "execution_count": 3,
   "id": "fee9cad9",
   "metadata": {},
   "outputs": [
    {
     "data": {
      "text/plain": [
       "False"
      ]
     },
     "execution_count": 3,
     "metadata": {},
     "output_type": "execute_result"
    }
   ],
   "source": [
    "c = \"OTRA COSA\"\n",
    "c == \"EXIT\" or c == \"FIN\" or c == \"SALIR\""
   ]
  },
  {
   "cell_type": "code",
   "execution_count": 4,
   "id": "346303bb",
   "metadata": {},
   "outputs": [
    {
     "data": {
      "text/plain": [
       "False"
      ]
     },
     "execution_count": 4,
     "metadata": {},
     "output_type": "execute_result"
    }
   ],
   "source": [
    "c = \"Lector\"\n",
    "c[0] == \"H\" or c[0] == \"h\""
   ]
  },
  {
   "cell_type": "code",
   "execution_count": 5,
   "id": "ff7702ca",
   "metadata": {},
   "outputs": [
    {
     "data": {
      "text/plain": [
       "False"
      ]
     },
     "execution_count": 5,
     "metadata": {},
     "output_type": "execute_result"
    }
   ],
   "source": [
    "#expresiones anidadas\n",
    "a = 10\n",
    "b = 5\n",
    "\n",
    "a * b - 2**b >= 20 and not (a % b) != 0"
   ]
  },
  {
   "cell_type": "code",
   "execution_count": 7,
   "id": "f880c4ff",
   "metadata": {},
   "outputs": [
    {
     "data": {
      "text/plain": [
       "True"
      ]
     },
     "execution_count": 7,
     "metadata": {},
     "output_type": "execute_result"
    }
   ],
   "source": [
    "#expresiones anidadas\n",
    "a = 10\n",
    "b = 5\n",
    "\n",
    "a * b - 2**b >= 20 or not (a % b) != 0"
   ]
  },
  {
   "cell_type": "code",
   "execution_count": 12,
   "id": "0c7f2e13",
   "metadata": {},
   "outputs": [
    {
     "data": {
      "text/plain": [
       "True"
      ]
     },
     "execution_count": 12,
     "metadata": {},
     "output_type": "execute_result"
    }
   ],
   "source": [
    "#ejercicio \n",
    "nombre=\"Jhonnyer\"\n",
    "edad=12\n",
    "\n",
    "# completa el ejercicio\n",
    "expresion = (nombre != \"****\" and len(nombre) >= 3 and len(nombre) < 10) and (edad > 10 and edad < 18)\n",
    "expresion"
   ]
  },
  {
   "cell_type": "code",
   "execution_count": 13,
   "id": "86e8814a",
   "metadata": {},
   "outputs": [
    {
     "data": {
      "text/plain": [
       "10"
      ]
     },
     "execution_count": 13,
     "metadata": {},
     "output_type": "execute_result"
    }
   ],
   "source": [
    "#oPERADORES EN ASIGNACION\n",
    "#suma en asignacion\n",
    "a = 5\n",
    "a += 5  \n",
    "a"
   ]
  },
  {
   "cell_type": "code",
   "execution_count": 15,
   "id": "d8a1e882",
   "metadata": {},
   "outputs": [
    {
     "data": {
      "text/plain": [
       "-5"
      ]
     },
     "execution_count": 15,
     "metadata": {},
     "output_type": "execute_result"
    }
   ],
   "source": [
    "#resta en asignacion\n",
    "a = 5\n",
    "a -= 10  \n",
    "a"
   ]
  },
  {
   "cell_type": "code",
   "execution_count": 16,
   "id": "73590431",
   "metadata": {},
   "outputs": [
    {
     "data": {
      "text/plain": [
       "10"
      ]
     },
     "execution_count": 16,
     "metadata": {},
     "output_type": "execute_result"
    }
   ],
   "source": [
    "#PRODUCTO EN ASIGNACION\n",
    "a = 5\n",
    "a *= 2  \n",
    "a"
   ]
  },
  {
   "cell_type": "code",
   "execution_count": 17,
   "id": "10b74596",
   "metadata": {},
   "outputs": [
    {
     "data": {
      "text/plain": [
       "2.5"
      ]
     },
     "execution_count": 17,
     "metadata": {},
     "output_type": "execute_result"
    }
   ],
   "source": [
    "#division EN ASIGNACION\n",
    "a = 5\n",
    "a /= 2  \n",
    "a"
   ]
  },
  {
   "cell_type": "code",
   "execution_count": 18,
   "id": "14e90a8e",
   "metadata": {},
   "outputs": [
    {
     "data": {
      "text/plain": [
       "1"
      ]
     },
     "execution_count": 18,
     "metadata": {},
     "output_type": "execute_result"
    }
   ],
   "source": [
    "#MODULO EN ASIGNACION\n",
    "a = 5\n",
    "a %= 2  \n",
    "a"
   ]
  },
  {
   "cell_type": "code",
   "execution_count": 19,
   "id": "7260dd3c",
   "metadata": {},
   "outputs": [
    {
     "data": {
      "text/plain": [
       "3125"
      ]
     },
     "execution_count": 19,
     "metadata": {},
     "output_type": "execute_result"
    }
   ],
   "source": [
    "#Potencia  EN ASIGNACION\n",
    "a = 5\n",
    "a **= 5  \n",
    "a"
   ]
  },
  {
   "cell_type": "code",
   "execution_count": 20,
   "id": "b8b71f9d",
   "metadata": {},
   "outputs": [
    {
     "name": "stdout",
     "output_type": "stream",
     "text": [
      "0  es un número par\n",
      "1  es un numero impar\n",
      "2  es un número par\n",
      "3  es un numero impar\n",
      "4  es un número par\n",
      "5  es un numero impar\n",
      "6  es un número par\n",
      "7  es un numero impar\n",
      "8  es un número par\n",
      "9  es un numero impar\n"
     ]
    }
   ],
   "source": [
    "n=0 #asignacion de 0 en n\n",
    "while n<10: #Expresion relacional que devuelve true\n",
    "    if(n%2)==0: #expresion aritmetica y expresion relacional \n",
    "        print(n,' es un número par')\n",
    "    else:\n",
    "        print(n,' es un numero impar')\n",
    "    n+=1 #expresion aritmetica n=n+1 equivalente a operacion en asignacion n+=1"
   ]
  },
  {
   "cell_type": "code",
   "execution_count": null,
   "id": "c4e50623",
   "metadata": {},
   "outputs": [],
   "source": []
  }
 ],
 "metadata": {
  "kernelspec": {
   "display_name": "Python 3",
   "language": "python",
   "name": "python3"
  },
  "language_info": {
   "codemirror_mode": {
    "name": "ipython",
    "version": 3
   },
   "file_extension": ".py",
   "mimetype": "text/x-python",
   "name": "python",
   "nbconvert_exporter": "python",
   "pygments_lexer": "ipython3",
   "version": "3.9.1"
  }
 },
 "nbformat": 4,
 "nbformat_minor": 5
}
