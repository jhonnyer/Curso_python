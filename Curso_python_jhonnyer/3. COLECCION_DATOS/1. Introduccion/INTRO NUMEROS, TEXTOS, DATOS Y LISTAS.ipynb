{
 "cells": [
  {
   "cell_type": "markdown",
   "id": "137113e1",
   "metadata": {},
   "source": [
    "#Prueba Python\n",
    "\n",
    "##Subtitulo\n",
    "\n",
    "Texto parrafo\n",
    "\n",
    "*Texto en cursiva*\n",
    "\n",
    "**Texto en negrita**"
   ]
  },
  {
   "cell_type": "code",
   "execution_count": 1,
   "id": "38b355ff",
   "metadata": {},
   "outputs": [
    {
     "name": "stdout",
     "output_type": "stream",
     "text": [
      "Hola mundo\n"
     ]
    }
   ],
   "source": [
    "print(\"Hola mundo\")"
   ]
  },
  {
   "cell_type": "code",
   "execution_count": 2,
   "id": "b50ec80d",
   "metadata": {},
   "outputs": [
    {
     "data": {
      "text/plain": [
       "5"
      ]
     },
     "execution_count": 2,
     "metadata": {},
     "output_type": "execute_result"
    }
   ],
   "source": [
    "3+2"
   ]
  },
  {
   "cell_type": "code",
   "execution_count": 3,
   "id": "676d1309",
   "metadata": {},
   "outputs": [
    {
     "data": {
      "text/plain": [
       "1.5"
      ]
     },
     "execution_count": 3,
     "metadata": {},
     "output_type": "execute_result"
    }
   ],
   "source": [
    "#DIVISION\n",
    "3/2"
   ]
  },
  {
   "cell_type": "code",
   "execution_count": 4,
   "id": "a09fe915",
   "metadata": {},
   "outputs": [
    {
     "data": {
      "text/plain": [
       "3"
      ]
     },
     "execution_count": 4,
     "metadata": {},
     "output_type": "execute_result"
    }
   ],
   "source": [
    "n=3\n",
    "n"
   ]
  },
  {
   "cell_type": "code",
   "execution_count": 5,
   "id": "7523fd06",
   "metadata": {},
   "outputs": [
    {
     "data": {
      "text/plain": [
       "6"
      ]
     },
     "execution_count": 5,
     "metadata": {},
     "output_type": "execute_result"
    }
   ],
   "source": [
    "n*2"
   ]
  },
  {
   "cell_type": "code",
   "execution_count": 6,
   "id": "df315e69",
   "metadata": {},
   "outputs": [],
   "source": [
    "m=4\n"
   ]
  },
  {
   "cell_type": "code",
   "execution_count": 7,
   "id": "536e3122",
   "metadata": {},
   "outputs": [
    {
     "data": {
      "text/plain": [
       "12"
      ]
     },
     "execution_count": 7,
     "metadata": {},
     "output_type": "execute_result"
    }
   ],
   "source": [
    "n*m"
   ]
  },
  {
   "cell_type": "code",
   "execution_count": 10,
   "id": "40e6d1cc",
   "metadata": {},
   "outputs": [
    {
     "data": {
      "text/plain": [
       "7.5"
      ]
     },
     "execution_count": 10,
     "metadata": {},
     "output_type": "execute_result"
    }
   ],
   "source": [
    "nota_1=10\n",
    "nota_2=5\n",
    "nota_media=(nota_1+nota_2)/2\n",
    "nota_media"
   ]
  },
  {
   "cell_type": "code",
   "execution_count": 12,
   "id": "782874b6",
   "metadata": {},
   "outputs": [
    {
     "name": "stdout",
     "output_type": "stream",
     "text": [
      "7.5\n"
     ]
    }
   ],
   "source": [
    "print(nota_media)"
   ]
  },
  {
   "cell_type": "code",
   "execution_count": 13,
   "id": "2952fbad",
   "metadata": {},
   "outputs": [
    {
     "name": "stdout",
     "output_type": "stream",
     "text": [
      "12\n"
     ]
    }
   ],
   "source": [
    "print(12)"
   ]
  },
  {
   "cell_type": "code",
   "execution_count": 18,
   "id": "8fb31811",
   "metadata": {},
   "outputs": [
    {
     "data": {
      "text/plain": [
       "7.6"
      ]
     },
     "execution_count": 18,
     "metadata": {},
     "output_type": "execute_result"
    }
   ],
   "source": [
    "# Variables del ejercicio (no las modifiques)\n",
    "nota_1 = 10\n",
    "nota_2 = 6\n",
    "\n",
    "nota_1=nota_1*0.4\n",
    "nota_2=nota_2*0.6\n",
    "\n",
    "# Calcula correctamente la nota_final (no modifiques el nombre de la variable)\n",
    "nota_final = (nota_1 + nota_2) \n",
    "nota_final"
   ]
  },
  {
   "cell_type": "code",
   "execution_count": 19,
   "id": "31212439",
   "metadata": {},
   "outputs": [
    {
     "name": "stdout",
     "output_type": "stream",
     "text": [
      "hola mundo \n",
      " python\n"
     ]
    }
   ],
   "source": [
    "print(\"hola mundo \\n python\" )"
   ]
  },
  {
   "cell_type": "code",
   "execution_count": 20,
   "id": "7be324eb",
   "metadata": {},
   "outputs": [
    {
     "name": "stdout",
     "output_type": "stream",
     "text": [
      "hola mundo \\n python\n"
     ]
    }
   ],
   "source": [
    "print(r\"hola mundo \\n python\" )"
   ]
  },
  {
   "cell_type": "code",
   "execution_count": 21,
   "id": "0af28917",
   "metadata": {},
   "outputs": [
    {
     "name": "stdout",
     "output_type": "stream",
     "text": [
      "Ilinea 1\n",
      "linea 2\n",
      "linea 3\n"
     ]
    }
   ],
   "source": [
    "print(\"\"\"Ilinea 1\n",
    "linea 2\n",
    "linea 3\"\"\")"
   ]
  },
  {
   "cell_type": "code",
   "execution_count": 27,
   "id": "b1020d0a",
   "metadata": {},
   "outputs": [
    {
     "data": {
      "text/plain": [
       "'Texto \\nsalto linea'"
      ]
     },
     "execution_count": 27,
     "metadata": {},
     "output_type": "execute_result"
    }
   ],
   "source": [
    "c=\"Texto \\nsalto linea\"\n",
    "d=\"Texto 2\"\n",
    "c"
   ]
  },
  {
   "cell_type": "code",
   "execution_count": 26,
   "id": "23c6cb52",
   "metadata": {},
   "outputs": [
    {
     "name": "stdout",
     "output_type": "stream",
     "text": [
      "Texto \n",
      "salto linea\n"
     ]
    }
   ],
   "source": [
    "print(c)"
   ]
  },
  {
   "cell_type": "code",
   "execution_count": 32,
   "id": "ab5efd4d",
   "metadata": {},
   "outputs": [
    {
     "name": "stdout",
     "output_type": "stream",
     "text": [
      "Texto \n",
      "salto lineaTexto 2\n",
      "Texto \n",
      "salto lineaTexto 2\n"
     ]
    }
   ],
   "source": [
    "print(c+d)\n",
    "s=c+d\n",
    "print(s)"
   ]
  },
  {
   "cell_type": "code",
   "execution_count": 20,
   "id": "98e5593b",
   "metadata": {},
   "outputs": [
    {
     "name": "stdout",
     "output_type": "stream",
     "text": [
      "Python es un lenguaje de programación moderno\n"
     ]
    },
    {
     "data": {
      "text/plain": [
       "'dern'"
      ]
     },
     "execution_count": 20,
     "metadata": {},
     "output_type": "execute_result"
    }
   ],
   "source": [
    "# no modifiques el nombre de ninguna variable, pero puedes crear nuevas\n",
    "cadena1 = \"moderno\"\n",
    "cadena2 = \"Python\"\n",
    "cadena4 = \"de programación\"\n",
    "cadena3 = \"es un lenguaje\"\n",
    "cadena5=(cadena2+\" \"+cadena3+\" \"+cadena4+\" \"+cadena1)\n",
    "print(cadena5)\n",
    "\n",
    "len(cadena1)\n",
    "\n",
    "cadena1[2:6]"
   ]
  },
  {
   "cell_type": "code",
   "execution_count": 1,
   "id": "6cc9f779",
   "metadata": {},
   "outputs": [
    {
     "name": "stdout",
     "output_type": "stream",
     "text": [
      "Ramón García,7.6,Historia\n"
     ]
    },
    {
     "data": {
      "text/plain": [
       "'Ramón García ha sacado un 7.6 en Historia.'"
      ]
     },
     "execution_count": 1,
     "metadata": {},
     "output_type": "execute_result"
    }
   ],
   "source": [
    "# Variables del ejercicio (no las modifiques)\n",
    "cadena_corrupta = \"airotsiH,6.7,aícraG nómaR\"\n",
    "\n",
    "# Completa el ejercicio\n",
    "cadena_volteada=cadena_corrupta[::-1]\n",
    "print(cadena_volteada)\n",
    "nombre=cadena_volteada[0:12]\n",
    "nota=cadena_volteada[13:16]\n",
    "materia=cadena_volteada[17:25]\n",
    "cadena_formateada=nombre+\" ha sacado un \"+nota+\" en \"+materia+\".\"\n",
    "cadena_formateada\n"
   ]
  },
  {
   "cell_type": "code",
   "execution_count": 4,
   "id": "78884e18",
   "metadata": {},
   "outputs": [
    {
     "name": "stdout",
     "output_type": "stream",
     "text": [
      "[12, 'texto', 4, 5, 'texto2', [1, 2, 3, 4]]\n",
      "[1, 2, 3, 4, 5, 6, 7, 8]\n"
     ]
    },
    {
     "data": {
      "text/plain": [
       "[1, 2, 3, 'Fin', 6, 12]"
      ]
     },
     "execution_count": 4,
     "metadata": {},
     "output_type": "execute_result"
    }
   ],
   "source": [
    "numeros=[1,2,3,4]\n",
    "datos=[12,\"texto\",4,5,\"texto2\",numeros]\n",
    "#VER POSICION 1 DE LA LISTA DATOS\n",
    "datos[1]\n",
    "print(datos)\n",
    "#lISTA CONCATENADA\n",
    "num=numeros+[5,6,7,8]\n",
    "print(num)\n",
    "#CAMBIA UN VALOR DE LA LISTA NUMEROS POSISCION 3\n",
    "numeros[3]=\"Fin\"\n",
    "numeros.append(6)\n",
    "numeros.append(6*2)\n",
    "numeros"
   ]
  },
  {
   "cell_type": "code",
   "execution_count": 43,
   "id": "b84bccdd",
   "metadata": {},
   "outputs": [
    {
     "data": {
      "text/plain": [
       "3"
      ]
     },
     "execution_count": 43,
     "metadata": {},
     "output_type": "execute_result"
    }
   ],
   "source": [
    "letras = ['a','b','c','d','e','f']\n",
    "letras[:3]\n",
    "#Reasigna valores a los 3 primeros datos de la lista\n",
    "letras[:3] = ['A','B','C']\n",
    "letras\n",
    "#lista vacia los 3 primeros indices\n",
    "letras[:3]=[]\n",
    "letras\n",
    "#LONGITUD LISTA\n",
    "len(letras)"
   ]
  },
  {
   "cell_type": "code",
   "execution_count": 48,
   "id": "fa0f8a89",
   "metadata": {},
   "outputs": [
    {
     "name": "stdout",
     "output_type": "stream",
     "text": [
      "[[1, 2, 3], [4, 5, 6], [7, 8, 9]]\n",
      "8\n"
     ]
    }
   ],
   "source": [
    "a = [1,2,3]\n",
    "b = [4,5,6]\n",
    "c = [7,8,9]\n",
    "#LISTAS ANIDADADS\n",
    "r = [a,b,c]\n",
    "r\n",
    "#vER ELEMENTO 1 DE LA LISTA 2\n",
    "print()\n",
    "print(r[2][1])\n",
    "\n"
   ]
  },
  {
   "cell_type": "code",
   "execution_count": 60,
   "id": "0c7739da",
   "metadata": {},
   "outputs": [
    {
     "name": "stdout",
     "output_type": "stream",
     "text": [
      "[1, 12, 123, 1234, 'Hola']\n",
      "['Bye', 'Ciao', 'Agur', 'Adieu', 'Adiós', 1234]\n",
      "[1, 12, 123, 1234]\n",
      "['Ciao', 'Agur', 'Adieu', 'Adiós']\n",
      "['Ciao', 'Agur', 'Adieu', 'Adiós', 1, 12, 123, 1234]\n"
     ]
    }
   ],
   "source": [
    "# no modifiques el nombre de ninguna variable, puedes crear nuevas\n",
    "lista1 = [1, 12, 123]\n",
    "lista2 = [\"Bye\", \"Ciao\", \"Agur\", \"Adieu\"]\n",
    "\n",
    "# completa el ejercicio\n",
    "lista1.append(1234)\n",
    "lista1.append(\"Hola\")\n",
    "print(lista1)\n",
    "lista2.append(\"Adiós\")\n",
    "lista2.append(1234)\n",
    "print(lista2)\n",
    "lista3=lista1[:4]\n",
    "print(lista3)\n",
    "lista4=lista2[1:5]\n",
    "print(lista4)\n",
    "lista5=lista4+lista3\n",
    "print(lista5)"
   ]
  },
  {
   "cell_type": "code",
   "execution_count": null,
   "id": "b4cdc988",
   "metadata": {},
   "outputs": [],
   "source": []
  }
 ],
 "metadata": {
  "kernelspec": {
   "display_name": "Python 3",
   "language": "python",
   "name": "python3"
  },
  "language_info": {
   "codemirror_mode": {
    "name": "ipython",
    "version": 3
   },
   "file_extension": ".py",
   "mimetype": "text/x-python",
   "name": "python",
   "nbconvert_exporter": "python",
   "pygments_lexer": "ipython3",
   "version": "3.9.1"
  }
 },
 "nbformat": 4,
 "nbformat_minor": 5
}
