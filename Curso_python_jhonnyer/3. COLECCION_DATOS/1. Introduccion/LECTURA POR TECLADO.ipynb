{
 "cells": [
  {
   "cell_type": "code",
   "execution_count": 1,
   "id": "80ab2b7f",
   "metadata": {},
   "outputs": [
    {
     "name": "stdout",
     "output_type": "stream",
     "text": [
      "algo\n"
     ]
    }
   ],
   "source": [
    "valor = input()"
   ]
  },
  {
   "cell_type": "code",
   "execution_count": 2,
   "id": "986681d9",
   "metadata": {},
   "outputs": [
    {
     "data": {
      "text/plain": [
       "'algo'"
      ]
     },
     "execution_count": 2,
     "metadata": {},
     "output_type": "execute_result"
    }
   ],
   "source": [
    "valor"
   ]
  },
  {
   "cell_type": "code",
   "execution_count": 3,
   "id": "a0026e80",
   "metadata": {},
   "outputs": [
    {
     "name": "stdout",
     "output_type": "stream",
     "text": [
      "Introduce un valorALGO\n"
     ]
    }
   ],
   "source": [
    "valor = input(\"Introduce un valor: \")"
   ]
  },
  {
   "cell_type": "code",
   "execution_count": 4,
   "id": "90f4453a",
   "metadata": {},
   "outputs": [
    {
     "data": {
      "text/plain": [
       "'ALGO'"
      ]
     },
     "execution_count": 4,
     "metadata": {},
     "output_type": "execute_result"
    }
   ],
   "source": [
    "valor"
   ]
  },
  {
   "cell_type": "code",
   "execution_count": 7,
   "id": "70c8e59e",
   "metadata": {},
   "outputs": [
    {
     "name": "stdout",
     "output_type": "stream",
     "text": [
      "Introduce un valor: 34\n",
      "44.0\n"
     ]
    }
   ],
   "source": [
    "valor = float(input(\"Introduce un valor: \"))  \n",
    "suma=valor+10\n",
    "print(suma)"
   ]
  },
  {
   "cell_type": "code",
   "execution_count": 11,
   "id": "c074c03f",
   "metadata": {},
   "outputs": [
    {
     "name": "stdout",
     "output_type": "stream",
     "text": [
      "Inserta tu nombre: SF\n",
      "Inserta tu apellido: DSFSD\n",
      "Inserta la edad que tienes: 23\n",
      "Inserta un numero magico: 2\n",
      "46.0\n",
      "SF DSFSD: Tu número de la suerte es el: 46.0\n"
     ]
    }
   ],
   "source": [
    "# Completa el ejercicio\n",
    "nombre=input(\"Inserta tu nombre: \")\n",
    "apellido=input(\"Inserta tu apellido: \")\n",
    "edad=int(input(\"Inserta la edad que tienes: \"))\n",
    "numero_magico=float(input(\"Inserta un numero magico: \"))\n",
    "valor=str(edad*numero_magico)\n",
    "print(valor)\n",
    "cadena_final=nombre+\" \"+apellido+\": Tu número de la suerte es el: \"+valor\n",
    "print(cadena_final)"
   ]
  },
  {
   "cell_type": "code",
   "execution_count": 12,
   "id": "23e0024e",
   "metadata": {},
   "outputs": [
    {
     "name": "stdout",
     "output_type": "stream",
     "text": [
      "0  es un número par\n",
      "1  es un numero impar\n",
      "2  es un número par\n",
      "3  es un numero impar\n",
      "4  es un número par\n",
      "5  es un numero impar\n",
      "6  es un número par\n",
      "7  es un numero impar\n",
      "8  es un número par\n",
      "9  es un numero impar\n"
     ]
    }
   ],
   "source": [
    "n=0\n",
    "while n<10:\n",
    "    if(n%2)==0:\n",
    "        print(n,' es un número par')\n",
    "    else:\n",
    "        print(n,' es un numero impar')\n",
    "    n=n+1"
   ]
  },
  {
   "cell_type": "code",
   "execution_count": null,
   "id": "1fda6cb0",
   "metadata": {},
   "outputs": [],
   "source": []
  }
 ],
 "metadata": {
  "kernelspec": {
   "display_name": "Python 3",
   "language": "python",
   "name": "python3"
  },
  "language_info": {
   "codemirror_mode": {
    "name": "ipython",
    "version": 3
   },
   "file_extension": ".py",
   "mimetype": "text/x-python",
   "name": "python",
   "nbconvert_exporter": "python",
   "pygments_lexer": "ipython3",
   "version": "3.9.1"
  }
 },
 "nbformat": 4,
 "nbformat_minor": 5
}
