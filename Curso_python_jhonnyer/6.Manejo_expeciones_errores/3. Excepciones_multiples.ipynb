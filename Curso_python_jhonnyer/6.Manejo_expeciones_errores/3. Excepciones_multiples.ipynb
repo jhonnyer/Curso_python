{
 "cells": [
  {
   "cell_type": "code",
   "execution_count": 4,
   "id": "76860948",
   "metadata": {},
   "outputs": [
    {
     "name": "stdout",
     "output_type": "stream",
     "text": [
      "Introduce un número: aas\n",
      "Ha ocurrido un error => TypeError\n"
     ]
    }
   ],
   "source": [
    "# Excepciones múltiples\n",
    "# En una misma pieza de código pueden ocurrir muchos errores distintos y quizá nos interese actuar de forma diferente en cada caso.\n",
    "\n",
    "# Para esas situaciones algo que podemos hacer es asignar una excepción a una variable.\n",
    "\n",
    "# De esta forma es posible analizar el tipo de error que sucede gracias a su identificador:\n",
    "\n",
    "# En el siguiente codigo  no se sabe cual error ha ocurrido, por lo cual es importante ver el error \n",
    "# try:\n",
    "#     n = input(\"Introduce un número: \")  # no transformamos a número\n",
    "#     5/n\n",
    "# except:  # guardamos la excepción como una variable e\n",
    "#     print(\"Ha ocurrido un error\")\n",
    "\n",
    "\n",
    "try:\n",
    "    n = input(\"Introduce un número: \")  # no transformamos a número\n",
    "    5/n\n",
    "except Exception as e:  # guardamos la excepción como una variable e\n",
    "    print(\"Ha ocurrido un error =>\", type(e).__name__)"
   ]
  },
  {
   "cell_type": "code",
   "execution_count": 6,
   "id": "b47f81ff",
   "metadata": {},
   "outputs": [
    {
     "name": "stdout",
     "output_type": "stream",
     "text": [
      "Introduce un número: AA\n",
      "Ha ocurrido un error => unsupported operand type(s) for /: 'int' and 'str'\n"
     ]
    }
   ],
   "source": [
    "try:\n",
    "    n = input(\"Introduce un número: \")  # no transformamos a número\n",
    "    5/n\n",
    "except Exception as e:  # guardamos la excepción como una variable e\n",
    "    print(\"Ha ocurrido un error =>\", e)"
   ]
  },
  {
   "cell_type": "code",
   "execution_count": 7,
   "id": "efa0ae9d",
   "metadata": {},
   "outputs": [
    {
     "ename": "NameError",
     "evalue": "name 'e' is not defined",
     "output_type": "error",
     "traceback": [
      "\u001b[0;31m---------------------------------------------------------------------------\u001b[0m",
      "\u001b[0;31mNameError\u001b[0m                                 Traceback (most recent call last)",
      "\u001b[0;32m<ipython-input-7-9610515aac48>\u001b[0m in \u001b[0;36m<module>\u001b[0;34m\u001b[0m\n\u001b[1;32m      1\u001b[0m \u001b[0;31m# Cada error tiene un identificador único que curiosamente se corresponde con su tipo de dato. Aprovechándonos de eso podemos mostrar la clase del error utilizando la sintaxis:\u001b[0m\u001b[0;34m\u001b[0m\u001b[0;34m\u001b[0m\u001b[0;34m\u001b[0m\u001b[0m\n\u001b[0;32m----> 2\u001b[0;31m \u001b[0mprint\u001b[0m\u001b[0;34m(\u001b[0m \u001b[0mtype\u001b[0m\u001b[0;34m(\u001b[0m\u001b[0me\u001b[0m\u001b[0;34m)\u001b[0m \u001b[0;34m)\u001b[0m\u001b[0;34m\u001b[0m\u001b[0;34m\u001b[0m\u001b[0m\n\u001b[0m",
      "\u001b[0;31mNameError\u001b[0m: name 'e' is not defined"
     ]
    }
   ],
   "source": [
    "# Cada error tiene un identificador único que curiosamente se corresponde con su tipo de dato. Aprovechándonos de eso podemos mostrar la clase del error utilizando la sintaxis:\n",
    "print( type(e) )"
   ]
  },
  {
   "cell_type": "code",
   "execution_count": 8,
   "id": "18a79b55",
   "metadata": {},
   "outputs": [
    {
     "name": "stdout",
     "output_type": "stream",
     "text": [
      "<class 'int'>\n",
      "<class 'float'>\n",
      "<class 'list'>\n",
      "<class 'tuple'>\n",
      "<class 'dict'>\n"
     ]
    }
   ],
   "source": [
    "# Es similar a conseguir el tipo (o clase) de cualquier otra variable o valor literal:\n",
    "\n",
    "print(type(1))\n",
    "print(type(3.14))\n",
    "print(type([]))\n",
    "print(type(()))\n",
    "print(type({}))\n"
   ]
  },
  {
   "cell_type": "code",
   "execution_count": 23,
   "id": "d343ac4e",
   "metadata": {},
   "outputs": [
    {
     "ename": "NameError",
     "evalue": "name 'e' is not defined",
     "output_type": "error",
     "traceback": [
      "\u001b[0;31m---------------------------------------------------------------------------\u001b[0m",
      "\u001b[0;31mNameError\u001b[0m                                 Traceback (most recent call last)",
      "\u001b[0;32m<ipython-input-23-9fcf5bc4e501>\u001b[0m in \u001b[0;36m<module>\u001b[0;34m\u001b[0m\n\u001b[1;32m      2\u001b[0m \u001b[0;34m\u001b[0m\u001b[0m\n\u001b[1;32m      3\u001b[0m \u001b[0;34m\u001b[0m\u001b[0m\n\u001b[0;32m----> 4\u001b[0;31m \u001b[0mprint\u001b[0m\u001b[0;34m(\u001b[0m \u001b[0mtype\u001b[0m\u001b[0;34m(\u001b[0m\u001b[0me\u001b[0m\u001b[0;34m)\u001b[0m\u001b[0;34m.\u001b[0m\u001b[0m__name__\u001b[0m\u001b[0;34m)\u001b[0m\u001b[0;34m\u001b[0m\u001b[0;34m\u001b[0m\u001b[0m\n\u001b[0m\u001b[1;32m      5\u001b[0m \u001b[0mprint\u001b[0m\u001b[0;34m(\u001b[0m\u001b[0mtype\u001b[0m\u001b[0;34m(\u001b[0m\u001b[0;36m1\u001b[0m\u001b[0;34m)\u001b[0m\u001b[0;34m.\u001b[0m\u001b[0m__name__\u001b[0m\u001b[0;34m)\u001b[0m\u001b[0;34m\u001b[0m\u001b[0;34m\u001b[0m\u001b[0m\n\u001b[1;32m      6\u001b[0m \u001b[0mprint\u001b[0m\u001b[0;34m(\u001b[0m\u001b[0mtype\u001b[0m\u001b[0;34m(\u001b[0m\u001b[0;36m3.14\u001b[0m\u001b[0;34m)\u001b[0m\u001b[0;34m.\u001b[0m\u001b[0m__name__\u001b[0m\u001b[0;34m)\u001b[0m\u001b[0;34m\u001b[0m\u001b[0;34m\u001b[0m\u001b[0m\n",
      "\u001b[0;31mNameError\u001b[0m: name 'e' is not defined"
     ]
    }
   ],
   "source": [
    "# Como vemos siempre nos indica eso de \"class\" delante. Eso es porque en Python todo son clases, pero hablaremos de este concepto más adelante. Lo importante ahora es que podemos mostrar solo el nombre del tipo de dato (la clase) consultando su propiedas especial name de la siguiente forma:\n",
    "\n",
    "\n",
    "print( type(e).__name__)\n",
    "print(type(1).__name__)\n",
    "print(type(3.14).__name__)\n",
    "print(type([]).__name__)\n",
    "print(type(()).__name__)\n",
    "print(type({}).__name__)\n",
    "\n",
    "# TypeError\n",
    "# int\n",
    "# float\n",
    "# list\n",
    "# tuple\n",
    "# dict"
   ]
  },
  {
   "cell_type": "code",
   "execution_count": 21,
   "id": "8f85fbbd",
   "metadata": {},
   "outputs": [
    {
     "name": "stdout",
     "output_type": "stream",
     "text": [
      "Introduce un número divisor: 5\n",
      "operacion realizada con exito 1.0\n"
     ]
    }
   ],
   "source": [
    "# Gracias a los identificadores de errores podemos crear múltiples comprobaciones, siempre que dejemos en último lugar la excepción por defecto Excepcion que engloba cualquier tipo de error (si la pusiéramos al principio las demas excepciones nunca se ejecutarían):\n",
    "\n",
    "while(True):\n",
    "    try:\n",
    "        n = float(input(\"Introduce un número divisor: \"))\n",
    "        c=5/n\n",
    "    except TypeError:\n",
    "        print(\"No se puede dividir el número entre una cadena\")\n",
    "    except ValueError:\n",
    "        print(\"Debes introducir una cadena que sea un número\")\n",
    "    except ZeroDivisionError:\n",
    "        print(\"No se puede dividir por cero, prueba otro número\")\n",
    "    except Exception as e:\n",
    "        print(\"Ha ocurrido un error no previsto\", type(e).__name__ )\n",
    "    else: \n",
    "        print(\"operacion realizada con exito\",c)\n",
    "        break\n"
   ]
  }
 ],
 "metadata": {
  "kernelspec": {
   "display_name": "Python 3",
   "language": "python",
   "name": "python3"
  },
  "language_info": {
   "codemirror_mode": {
    "name": "ipython",
    "version": 3
   },
   "file_extension": ".py",
   "mimetype": "text/x-python",
   "name": "python",
   "nbconvert_exporter": "python",
   "pygments_lexer": "ipython3",
   "version": "3.9.1"
  }
 },
 "nbformat": 4,
 "nbformat_minor": 5
}
