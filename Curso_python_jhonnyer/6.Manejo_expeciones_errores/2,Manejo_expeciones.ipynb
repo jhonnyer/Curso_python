{
 "cells": [
  {
   "cell_type": "code",
   "execution_count": null,
   "id": "0bad097e",
   "metadata": {},
   "outputs": [],
   "source": [
    "#Excepciones"
   ]
  },
  {
   "cell_type": "code",
   "execution_count": 1,
   "id": "36179b7c",
   "metadata": {},
   "outputs": [
    {
     "name": "stdout",
     "output_type": "stream",
     "text": [
      "Introduce un número: aaa\n"
     ]
    },
    {
     "ename": "ValueError",
     "evalue": "could not convert string to float: 'aaa'",
     "output_type": "error",
     "traceback": [
      "\u001b[0;31m---------------------------------------------------------------------------\u001b[0m",
      "\u001b[0;31mValueError\u001b[0m                                Traceback (most recent call last)",
      "\u001b[0;32m<ipython-input-1-116ad859adad>\u001b[0m in \u001b[0;36m<module>\u001b[0;34m\u001b[0m\n\u001b[1;32m      5\u001b[0m \u001b[0;34m\u001b[0m\u001b[0m\n\u001b[1;32m      6\u001b[0m \u001b[0;34m\u001b[0m\u001b[0m\n\u001b[0;32m----> 7\u001b[0;31m \u001b[0mn\u001b[0m \u001b[0;34m=\u001b[0m \u001b[0mfloat\u001b[0m\u001b[0;34m(\u001b[0m\u001b[0minput\u001b[0m\u001b[0;34m(\u001b[0m\u001b[0;34m\"Introduce un número: \"\u001b[0m\u001b[0;34m)\u001b[0m\u001b[0;34m)\u001b[0m\u001b[0;34m\u001b[0m\u001b[0;34m\u001b[0m\u001b[0m\n\u001b[0m\u001b[1;32m      8\u001b[0m \u001b[0mm\u001b[0m \u001b[0;34m=\u001b[0m \u001b[0;36m4\u001b[0m\u001b[0;34m\u001b[0m\u001b[0;34m\u001b[0m\u001b[0m\n\u001b[1;32m      9\u001b[0m \u001b[0mprint\u001b[0m\u001b[0;34m(\u001b[0m\u001b[0;34m\"{}/{} = {}\"\u001b[0m\u001b[0;34m.\u001b[0m\u001b[0mformat\u001b[0m\u001b[0;34m(\u001b[0m\u001b[0mn\u001b[0m\u001b[0;34m,\u001b[0m\u001b[0mm\u001b[0m\u001b[0;34m,\u001b[0m\u001b[0mn\u001b[0m\u001b[0;34m/\u001b[0m\u001b[0mm\u001b[0m\u001b[0;34m)\u001b[0m\u001b[0;34m)\u001b[0m\u001b[0;34m\u001b[0m\u001b[0;34m\u001b[0m\u001b[0m\n",
      "\u001b[0;31mValueError\u001b[0m: could not convert string to float: 'aaa'"
     ]
    }
   ],
   "source": [
    "#Excepciones\n",
    "#Las excepciones son bloques de código que nos permiten continuar con la ejecución de un programa pese a que ocurra un error.\n",
    "\n",
    "#Siguiendo con el ejemplo de la lección anterior, teníamos el caso en que leíamos un número por teclado, pero el usuario no introducía un número:\n",
    "\n",
    "\n",
    "n = float(input(\"Introduce un número: \"))\n",
    "m = 4\n",
    "print(\"{}/{} = {}\".format(n,m,n/m))\n",
    "\n"
   ]
  },
  {
   "cell_type": "code",
   "execution_count": 3,
   "id": "5c7dfc75",
   "metadata": {},
   "outputs": [
    {
     "name": "stdout",
     "output_type": "stream",
     "text": [
      "Introduce un número: 5\n",
      "5.0/4 = 1.25\n"
     ]
    }
   ],
   "source": [
    "#Bloques try - except\n",
    "#Para prevenir el fallo debemos poner el código propenso a errores en un bloque try y luego encadenar un bloque except para tratar la situación excepcional mostrando que ha ocurrido un fallo:\n",
    "\n",
    "try:\n",
    "    n = float(input(\"Introduce un número: \"))\n",
    "    m = 4\n",
    "    print(\"{}/{} = {}\".format(n,m,n/m))\n",
    "except:\n",
    "    print(\"Ha ocurrido un error, introduce bien el número\")\n",
    "\n",
    "\n",
    "#Ha ocurrido un error, introduce bien el número\n",
    "#Como vemos esta forma nos permite controlar situaciones excepcionales que generalmente darían error y en su lugar mostrar un mensaje o ejecutar una pieza de código alternativo."
   ]
  },
  {
   "cell_type": "code",
   "execution_count": 7,
   "id": "ecb3d9eb",
   "metadata": {},
   "outputs": [
    {
     "name": "stdout",
     "output_type": "stream",
     "text": [
      "Introduce un número: aaa\n",
      "Ha ocurrido un error, introduce bien el número\n",
      "Introduce un número: aa\n",
      "Ha ocurrido un error, introduce bien el número\n",
      "Introduce un número: \n",
      "Ha ocurrido un error, introduce bien el número\n",
      "Introduce un número: ad\n",
      "Ha ocurrido un error, introduce bien el número\n",
      "Introduce un número: asda\n",
      "Ha ocurrido un error, introduce bien el número\n",
      "Introduce un número: sadasd\n",
      "Ha ocurrido un error, introduce bien el número\n",
      "Introduce un número: 12\n",
      "12.0/4 = 3.0\n"
     ]
    }
   ],
   "source": [
    "# Podemos aprovechar las excepciones para forzar al usuario a introducir un número haciendo uso de un bucle while, repitiendo la lectura por teclado hasta que lo haga bien y entonces romper el bucle con un break:\n",
    "\n",
    "\n",
    "while(True):\n",
    "    try:\n",
    "        n = float(input(\"Introduce un número: \"))\n",
    "        m = 4\n",
    "        print(\"{}/{} = {}\".format(n,m,n/m))\n",
    "        break  # Importante romper la iteración si todo ha salido bien\n",
    "    except:\n",
    "        print(\"Ha ocurrido un error, introduce bien el número\")"
   ]
  },
  {
   "cell_type": "code",
   "execution_count": 1,
   "id": "0357e1db",
   "metadata": {},
   "outputs": [
    {
     "name": "stdout",
     "output_type": "stream",
     "text": [
      "Introduce un número: dsfd\n",
      "Ha ocurrido un error, introduce bien el número\n",
      "Introduce un número: dsfsf\n",
      "Ha ocurrido un error, introduce bien el número\n",
      "Introduce un número: sdf\n",
      "Ha ocurrido un error, introduce bien el número\n",
      "Introduce un número: 34\n",
      "34.0/4 = 8.5\n",
      "Todo ha funcionado correctamente\n"
     ]
    }
   ],
   "source": [
    "# Bloque else\n",
    "# Es posible encadenar un bloque else después del except para comprobar el caso en que todo funcione correctamente (no se ejecuta la excepción).\n",
    "\n",
    "# El bloque else es un buen momento para romper la iteración con break si todo funciona correctamente:\n",
    "\n",
    "\n",
    "while(True):\n",
    "    try:\n",
    "        n = float(input(\"Introduce un número: \"))\n",
    "        m = 4\n",
    "        print(\"{}/{} = {}\".format(n,m,n/m))\n",
    "    except:\n",
    "        print(\"Ha ocurrido un error, introduce bien el número\")\n",
    "    else:\n",
    "        print(\"Todo ha funcionado correctamente\")\n",
    "        break  # Importante romper la iteración si todo ha salido bien\n",
    "\n",
    "# Todo ha funcionado correctamente"
   ]
  },
  {
   "cell_type": "code",
   "execution_count": 10,
   "id": "d923e92f",
   "metadata": {},
   "outputs": [
    {
     "name": "stdout",
     "output_type": "stream",
     "text": [
      "Introduce un número: aaa\n",
      "Ha ocurrido un error, introduce bien el número\n",
      "Fin de la iteración\n",
      "Introduce un número: sdsa\n",
      "Ha ocurrido un error, introduce bien el número\n",
      "Fin de la iteración\n",
      "Introduce un número: 123\n",
      "123.0/4 = 30.75\n",
      "Todo ha funcionado correctamente\n",
      "Fin de la iteración\n"
     ]
    }
   ],
   "source": [
    "# Bloque finally\n",
    "# Por último es posible utilizar un bloque finally que se ejecute al final del código, ocurra o no ocurra un error:\n",
    "\n",
    "\n",
    "while(True):\n",
    "    try:\n",
    "        n = float(input(\"Introduce un número: \"))\n",
    "        m = 4\n",
    "        print(\"{}/{} = {}\".format(n,m,n/m))\n",
    "    except:\n",
    "        print(\"Ha ocurrido un error, introduce bien el número\")\n",
    "    else:\n",
    "        print(\"Todo ha funcionado correctamente\")\n",
    "        break  # Importante romper la iteración si todo ha salido bien\n",
    "    finally:\n",
    "        print(\"Fin de la iteración\") # Siempre se ejecuta"
   ]
  },
  {
   "cell_type": "code",
   "execution_count": 3,
   "id": "8e754c31",
   "metadata": {},
   "outputs": [
    {
     "name": "stdout",
     "output_type": "stream",
     "text": [
      "Introduce el numero a dividir: 7\n",
      "Introduce el numero divisor: 5\n",
      "1.4\n",
      "La el resultado de la división es:  1.4\n",
      "Fin de la iteración\n"
     ]
    }
   ],
   "source": [
    "# def dividir(a,b):\n",
    "#     if b==0:\n",
    "#         return None\n",
    "#     return a/b\n",
    "\n",
    "def dividir():\n",
    "    while(True):\n",
    "        try:\n",
    "            a=float(input(\"Introduce el numero a dividir: \"))\n",
    "            b=float(input(\"Introduce el numero divisor: \"))\n",
    "            c=a/b\n",
    "            print(c)\n",
    "#             return a/b\n",
    "        except:\n",
    "            print(\"No se puede dividir entre cero\")\n",
    "        else:\n",
    "            print(\"La el resultado de la división es: \",c)\n",
    "            break\n",
    "        finally:\n",
    "            print(\"Fin de la iteración\")\n",
    "\n",
    "dividir()\n",
    "        "
   ]
  },
  {
   "cell_type": "code",
   "execution_count": null,
   "id": "089fdf55",
   "metadata": {},
   "outputs": [],
   "source": []
  }
 ],
 "metadata": {
  "kernelspec": {
   "display_name": "Python 3",
   "language": "python",
   "name": "python3"
  },
  "language_info": {
   "codemirror_mode": {
    "name": "ipython",
    "version": 3
   },
   "file_extension": ".py",
   "mimetype": "text/x-python",
   "name": "python",
   "nbconvert_exporter": "python",
   "pygments_lexer": "ipython3",
   "version": "3.9.1"
  }
 },
 "nbformat": 4,
 "nbformat_minor": 5
}
