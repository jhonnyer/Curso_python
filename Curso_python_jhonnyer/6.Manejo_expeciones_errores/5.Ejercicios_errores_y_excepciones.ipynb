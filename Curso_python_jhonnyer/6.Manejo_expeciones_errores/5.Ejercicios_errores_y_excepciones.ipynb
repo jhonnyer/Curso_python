{
 "cells": [
  {
   "cell_type": "code",
   "execution_count": 5,
   "id": "40bb4a49",
   "metadata": {},
   "outputs": [
    {
     "name": "stdout",
     "output_type": "stream",
     "text": [
      "Introduce un numero divisor: 2\n",
      "El resultado de la division de 10/2.0 es: 5.0\n"
     ]
    }
   ],
   "source": [
    "# Ejercicios « Errores y excepciones\n",
    "# Ejercicio 1\n",
    "# Localiza el error en el siguiente bloque de código. Crea una excepción para evitar que el programa se bloquee y además explica en un mensaje al usuario la causa y/o solución:\n",
    "\n",
    "# resultado = 10/0\n",
    "while(True):\n",
    "    try:\n",
    "        n=float(input(\"Introduce un numero divisor: \"))\n",
    "        resultado=10/n\n",
    "    except ZeroDivisionError:\n",
    "        print(\"No es posible dividir un numero por cero, por favor introduce otro valor en el divisor\")\n",
    "    else: \n",
    "        print(\"El resultado de la division de {}/{} es: {}\".format(10,n,10/n))\n",
    "        break"
   ]
  },
  {
   "cell_type": "code",
   "execution_count": 12,
   "id": "0fa4c7a0",
   "metadata": {},
   "outputs": [
    {
     "name": "stdout",
     "output_type": "stream",
     "text": [
      "Introduce el indice de la lista que quieres ver: 12\n",
      "El indice de la lista que intentas acceder esta fuera de rango, introduce un numero mayor o igual que cero y que la longitud de la lista que es:  4\n",
      "Introduce el indice de la lista que quieres ver: 4\n",
      "El valor de la lista buscado es:  5\n"
     ]
    }
   ],
   "source": [
    "# Ejercicio 2\n",
    "# Localiza el error en el siguiente bloque de código. Crea una excepción para evitar que el programa se bloquee y además explica en un mensaje al usuario la causa y/o solución:\n",
    "\n",
    "# lista = [1, 2, 3, 4, 5]\n",
    "# lista[10]\n",
    "# ERROR DE INDEXERROR\n",
    "\n",
    "\n",
    "while(True):\n",
    "    try:\n",
    "        lista=[1,2,3,4,5]\n",
    "        n=int(input(\"Introduce el indice de la lista que quieres ver: \"))\n",
    "        lista[n]\n",
    "    except IndexError:\n",
    "        print(\"El indice de la lista que intentas acceder esta fuera de rango, introduce un numero mayor o igual que cero y que la longitud de la lista que es: \", len(lista)-1)\n",
    "    else: \n",
    "        print(\"El valor de la lista buscado es: \",lista[n])\n",
    "        break"
   ]
  },
  {
   "cell_type": "code",
   "execution_count": 20,
   "id": "c4030fd5",
   "metadata": {},
   "outputs": [
    {
     "name": "stdout",
     "output_type": "stream",
     "text": [
      "Introduce el color que quieres ver: sdsd\n",
      "La clave del diccionario no existe, por favor verifica con otra\n",
      "Introduce el color que quieres ver: rojo\n",
      "El valor de la clave buscado es:  red\n"
     ]
    }
   ],
   "source": [
    "# Ejercicio 3\n",
    "# Localiza el error en el siguiente bloque de código. Crea una excepción para evitar que el programa se bloquee y además explica en un mensaje al usuario la causa y/o solución:\n",
    "\n",
    "# colores = { 'rojo':'red', 'verde':'green', 'negro':'black' } \n",
    "# colores['blanco']\n",
    "\n",
    "# ERROR DE CLAVE EN EL DICCIONARIO \n",
    "\n",
    "while(True):\n",
    "    try:\n",
    "        colores = { 'rojo':'red', 'verde':'green', 'negro':'black' } \n",
    "        n=input(\"Introduce el color que quieres ver: \")\n",
    "        colores['{}'.format(n)]\n",
    "    except KeyError:\n",
    "        print(\"La clave del diccionario no existe, por favor verifica con otra\")\n",
    "    else: \n",
    "        print(\"El valor de la clave buscado es: \",colores['{}'.format(n)])\n",
    "        break"
   ]
  },
  {
   "cell_type": "code",
   "execution_count": 23,
   "id": "7ea30fb6",
   "metadata": {},
   "outputs": [
    {
     "name": "stdout",
     "output_type": "stream",
     "text": [
      "Introduce un número a sumar: eae\n",
      "El valor ingresado debe ser un número, por favor volver a ingresar otro valor\n",
      "Introduce un número a sumar: aewe\n",
      "El valor ingresado debe ser un número, por favor volver a ingresar otro valor\n",
      "Introduce un número a sumar: 12d\n",
      "El valor ingresado debe ser un número, por favor volver a ingresar otro valor\n",
      "Introduce un número a sumar: 123\n",
      "El resultado de la suma de 15+123.0 es: 138.0 \n"
     ]
    }
   ],
   "source": [
    "# Ejercicio 4\n",
    "# Localiza el error en el siguiente bloque de código. Crea una excepción para evitar que el programa se bloquee y además explica en un mensaje al usuario la causa y/o solución:\n",
    "\n",
    "\n",
    "# resultado = 15 + \"20\"\n",
    "#Error TypeError, es una cadena sumada con un numero, no se puede, toca convertirla\n",
    "\n",
    "while(True):\n",
    "    try:\n",
    "        n=float(input(\"Introduce un número a sumar: \"))\n",
    "        resultado=15+n\n",
    "    except TypeError:\n",
    "        print(\"El valor ingresado debe ser un dato del mismo tipo, por favor volver a ingresar otro valor: \")\n",
    "    except ValueError:\n",
    "        print(\"El valor ingresado debe ser un número, por favor volver a ingresar otro valor\")\n",
    "    else: \n",
    "        print(\"El resultado de la suma de {}+{} es: {} \".format(15,n,15+n))\n",
    "        break"
   ]
  },
  {
   "cell_type": "code",
   "execution_count": 31,
   "id": "6d06d01d",
   "metadata": {},
   "outputs": [
    {
     "name": "stdout",
     "output_type": "stream",
     "text": [
      "Error, imposible añadir elementos duplicados a la lista => -2\n",
      "[1, 5, -2, 10, 'Hola']\n"
     ]
    }
   ],
   "source": [
    "# Ejercicio 5\n",
    "# Realiza una función llamada agregar_una_vez(lista, el) que reciba una lista y un elemento. La función debe añadir el elemento al final de la lista con la condición de no repetir ningún elemento. Además si este elemento ya se encuentra en la lista se debe invocar un error de tipo ValueError que debes capturar y mostrar este mensaje en su lugar:\n",
    "\n",
    "\n",
    "# Error: Imposible añadir elementos duplicados => [elemento].\n",
    "# Cuando tengas la función intenta añadir los siguiente valores a la lista 10, -2, \"Hola\" y luego muestra su contenido.\n",
    "\n",
    "# Sugerencia\n",
    "\n",
    "# Puedes utilizar la sintaxis \"elemento in lista\"\n",
    "\n",
    "\n",
    "# elementos = [1, 5, -2]\n",
    "\n",
    "# # Completa el ejercicio aquí\n",
    "\n",
    "elementos = [1, 5, -2]\n",
    "def agregar_una_vez(lista, el):\n",
    "    try: \n",
    "        if el in lista:\n",
    "            raise ValueError\n",
    "        else: \n",
    "            lista.append(el)\n",
    "    except ValueError:\n",
    "        print(\"Error, imposible añadir elementos duplicados a la lista => {}\".format(el))\n",
    "        \n",
    "#Llamamos la funcion le pasamos sus argumentos\n",
    "agregar_una_vez(elementos, 10)\n",
    "agregar_una_vez(elementos, -2)\n",
    "agregar_una_vez(elementos,\"Hola\")\n",
    "print(elementos)"
   ]
  },
  {
   "cell_type": "code",
   "execution_count": 37,
   "id": "14a5b2a9",
   "metadata": {},
   "outputs": [
    {
     "name": "stdout",
     "output_type": "stream",
     "text": [
      "Escriba el elemento a añadir a la lista12\n",
      "Elemento 12 añadido a la lista\n",
      "Escriba el elemento a añadir a la lista12\n",
      "Error, imposible añadir elementos duplicados a la lista => 12\n",
      "Escriba el elemento a añadir a la listasdfdsfdsf\n",
      "Elemento sdfdsfdsf añadido a la lista\n",
      "Escriba el elemento a añadir a la listasfdf\n",
      "Elemento sfdf añadido a la lista\n",
      "[1, 5, -2, '12', 'sdfdsfdsf', 'sfdf']\n"
     ]
    }
   ],
   "source": [
    "elementos = [1, 5, -2]\n",
    "def agregar_una_vez(lista):\n",
    "    while(True):\n",
    "        try: \n",
    "            el=input(\"Escriba el elemento a añadir a la lista\")\n",
    "            if el in lista:\n",
    "                raise ValueError\n",
    "            else: \n",
    "                lista.append(el)\n",
    "        except ValueError:\n",
    "            print(\"Error, imposible añadir elementos duplicados a la lista => {}\".format(el))\n",
    "        else:\n",
    "            print(\"Elemento {} añadido a la lista\".format(el))\n",
    "            break\n",
    "\n",
    "#Llamamos la funcion le pasamos sus argumentos\n",
    "agregar_una_vez(elementos)\n",
    "agregar_una_vez(elementos)\n",
    "agregar_una_vez(elementos)\n",
    "print(elementos)"
   ]
  },
  {
   "cell_type": "code",
   "execution_count": null,
   "id": "8245090a",
   "metadata": {},
   "outputs": [],
   "source": []
  }
 ],
 "metadata": {
  "kernelspec": {
   "display_name": "Python 3",
   "language": "python",
   "name": "python3"
  },
  "language_info": {
   "codemirror_mode": {
    "name": "ipython",
    "version": 3
   },
   "file_extension": ".py",
   "mimetype": "text/x-python",
   "name": "python",
   "nbconvert_exporter": "python",
   "pygments_lexer": "ipython3",
   "version": "3.9.1"
  }
 },
 "nbformat": 4,
 "nbformat_minor": 5
}
