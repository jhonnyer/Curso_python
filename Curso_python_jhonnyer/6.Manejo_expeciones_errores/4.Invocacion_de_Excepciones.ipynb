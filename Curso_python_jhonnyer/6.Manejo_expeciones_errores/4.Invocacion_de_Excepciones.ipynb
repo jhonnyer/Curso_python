{
 "cells": [
  {
   "cell_type": "code",
   "execution_count": null,
   "id": "4111bfb6",
   "metadata": {},
   "outputs": [],
   "source": [
    "# Invocación de excepciones\n",
    "# En algunas ocasiones quizá nos interesa llamar un error manualmente, ya que un print común no es muy elegante:\n",
    "\n",
    "\n",
    "def mi_funcion(algo=None):\n",
    "    if algo is None:\n",
    "        print(\"Error! No se permite un valor nulo (con un print)\")\n",
    "#No sale error, estamos pasando un dato\n",
    "mi_funcion(\"alguna cosa\")"
   ]
  },
  {
   "cell_type": "code",
   "execution_count": 7,
   "id": "13a7f24c",
   "metadata": {},
   "outputs": [
    {
     "name": "stdout",
     "output_type": "stream",
     "text": [
      "Error! No se permite un valor nulo (con un print)\n"
     ]
    }
   ],
   "source": [
    "def mi_funcion(algo=None):\n",
    "    if algo is None:\n",
    "        print(\"Error! No se permite un valor nulo (con un print)\")\n",
    "#Error de  ValueError\n",
    "mi_funcion()"
   ]
  },
  {
   "cell_type": "code",
   "execution_count": 2,
   "id": "8b53c64d",
   "metadata": {},
   "outputs": [
    {
     "name": "stdout",
     "output_type": "stream",
     "text": [
      "Error! No se permite un valor nulo (desde la excepción)\n"
     ]
    }
   ],
   "source": [
    "# Instrucción raise\n",
    "# Gracias a raise podemos lanzar un error manual pasándole el identificador. Luego simplemente podemos añadir un except para tratar esta excepción que hemos lanzado:\n",
    "\n",
    "\n",
    "def mi_funcion(algo=None):\n",
    "    try:\n",
    "        if algo is None:\n",
    "            raise ValueError(\"Error! No se permite un valor nulo\")\n",
    "    except ValueError:\n",
    "        print(\"Error! No se permite un valor nulo (desde la excepción)\")\n",
    "\n",
    "mi_funcion()"
   ]
  }
 ],
 "metadata": {
  "kernelspec": {
   "display_name": "Python 3",
   "language": "python",
   "name": "python3"
  },
  "language_info": {
   "codemirror_mode": {
    "name": "ipython",
    "version": 3
   },
   "file_extension": ".py",
   "mimetype": "text/x-python",
   "name": "python",
   "nbconvert_exporter": "python",
   "pygments_lexer": "ipython3",
   "version": "3.9.1"
  }
 },
 "nbformat": 4,
 "nbformat_minor": 5
}
