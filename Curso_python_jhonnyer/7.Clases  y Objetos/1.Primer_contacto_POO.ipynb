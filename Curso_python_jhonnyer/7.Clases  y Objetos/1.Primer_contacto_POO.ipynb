{
 "cells": [
  {
   "cell_type": "code",
   "execution_count": 22,
   "id": "2055a0a5",
   "metadata": {},
   "outputs": [],
   "source": [
    "# Primer contacto con la POO\n",
    "# Para entender en qué se basa este paradigma (modelo de solución de problemas), en lugar de empezar con teoría os propongo jugar un poco con dos códigos distintos. Ambos implementan una estructura de clientes y funciones para trabajar con ellos, pero uno está creado con programación estructurada (la clásica cuyas bases hemos estudiado hasta ahora) y la otra con programación orientada a objetos.\n",
    "\n",
    "# Lo único que tenéis que hacer es probar ambos códigos (sin necesidad de analizarlos), luego sacad vuestras propias conclusiones sobre cuál os parece más útil e intuitivo de aplicar y extender en el mundo real.\n",
    "\n",
    "# Ejemplo estructurado\n",
    "\n",
    "# Definimos unos cuantos clientes\n",
    "clientes= [\n",
    "    {'Nombre': 'Hector', 'Apellidos':'Costa Guzman', 'dni':'11111111A'},\n",
    "    {'Nombre': 'Juan', 'Apellidos':'González Márquez', 'dni':'22222222B'} \n",
    "]"
   ]
  },
  {
   "cell_type": "code",
   "execution_count": 23,
   "id": "efff5704",
   "metadata": {},
   "outputs": [
    {
     "data": {
      "text/plain": [
       "[{'Nombre': 'Hector', 'Apellidos': 'Costa Guzman', 'dni': '11111111A'},\n",
       " {'Nombre': 'Juan', 'Apellidos': 'González Márquez', 'dni': '22222222B'}]"
      ]
     },
     "execution_count": 23,
     "metadata": {},
     "output_type": "execute_result"
    }
   ],
   "source": [
    "clientes"
   ]
  },
  {
   "cell_type": "code",
   "execution_count": null,
   "id": "26c4027c",
   "metadata": {},
   "outputs": [],
   "source": [
    "# Creamos una función que muestra un cliente en una lista a partir del DNI\n",
    "def mostrar_cliente(clientes, dni):\n",
    "    for c in clientes:\n",
    "        if (dni == c['dni']):\n",
    "            print('{} {}'.format(c['Nombre'],c['Apellidos']))\n",
    "            return\n",
    "    print('Cliente no encontrado')"
   ]
  },
  {
   "cell_type": "code",
   "execution_count": 9,
   "id": "0e46df50",
   "metadata": {},
   "outputs": [
    {
     "name": "stdout",
     "output_type": "stream",
     "text": [
      "Cliente no encontrado\n"
     ]
    }
   ],
   "source": [
    "mostrar_cliente(clientes,'1123')"
   ]
  },
  {
   "cell_type": "code",
   "execution_count": 10,
   "id": "1bcc444b",
   "metadata": {},
   "outputs": [
    {
     "name": "stdout",
     "output_type": "stream",
     "text": [
      "Hector Costa Guzman\n"
     ]
    }
   ],
   "source": [
    "mostrar_cliente(clientes,'11111111A')"
   ]
  },
  {
   "cell_type": "code",
   "execution_count": 16,
   "id": "5eb469b2",
   "metadata": {},
   "outputs": [
    {
     "name": "stdout",
     "output_type": "stream",
     "text": [
      "Cliente no encontrado\n"
     ]
    }
   ],
   "source": [
    "# Creamos una función que borra un cliente en una lista a partir del DNI\n",
    "def borrar_cliente(clientes, dni):\n",
    "    for i,c in enumerate(clientes):\n",
    "        if (dni == c['dni']):\n",
    "            del( clientes[i] )\n",
    "            print(str(c),\"> BORRADO\")\n",
    "            return\n",
    "\n",
    "    print('Cliente no encontrado')    \n",
    "    \n",
    "borrar_cliente(clientes,'123')    "
   ]
  },
  {
   "cell_type": "code",
   "execution_count": 18,
   "id": "572b46de",
   "metadata": {},
   "outputs": [
    {
     "name": "stdout",
     "output_type": "stream",
     "text": [
      "Cliente no encontrado\n"
     ]
    },
    {
     "data": {
      "text/plain": [
       "[{'Nombre': 'Juan', 'Apellidos': 'González Márquez', 'dni': '22222222B'}]"
      ]
     },
     "execution_count": 18,
     "metadata": {},
     "output_type": "execute_result"
    }
   ],
   "source": [
    "borrar_cliente(clientes,'11111111A') \n",
    "clientes"
   ]
  },
  {
   "cell_type": "code",
   "execution_count": null,
   "id": "cf8e7857",
   "metadata": {},
   "outputs": [],
   "source": [
    "### Fíjate muy bien cómo se utiliza el código estructurado\n",
    "\n",
    "print(\"==LISTADO DE CLIENTES==\")\n",
    "print(clientes)\n",
    "\n",
    "print(\"\\n==MOSTRAR CLIENTES POR DNI==\")\n",
    "mostrar_cliente(clientes, '11111111A')\n",
    "mostrar_cliente(clientes, '11111111Z')\n",
    "\n",
    "print(\"\\n==BORRAR CLIENTES POR DNI==\")\n",
    "borrar_cliente(clientes, '22222222V')\n",
    "borrar_cliente(clientes, '11111111A')\n",
    "\n",
    "print(\"\\n==LISTADO DE CLIENTES==\")\n",
    "print(clientes)"
   ]
  },
  {
   "cell_type": "code",
   "execution_count": 25,
   "id": "f10aee13",
   "metadata": {},
   "outputs": [],
   "source": [
    "\n",
    "\n",
    "\n",
    "\n",
    "\n",
    "\n",
    "\n",
    "\n",
    "\n",
    "# MISMO EJERCICIO PERO MEDIANTE EL PARADIGMA DE PROGRAMACION ORIENTADA A OBJETOS\n",
    "\n",
    "\n",
    "\n",
    "\n",
    "\n",
    "\n",
    "\n",
    "\n",
    "\n"
   ]
  },
  {
   "cell_type": "code",
   "execution_count": null,
   "id": "0518fae1",
   "metadata": {},
   "outputs": [],
   "source": [
    "### No intentes entender este código, sólo fíjate en cómo se utiliza abajo  \n",
    "\n",
    "# Creo una estructura para los clientes\n",
    "class Cliente:\n",
    "\n",
    "    def __init__(self, dni, nombre, apellidos):\n",
    "        self.dni = dni\n",
    "        self.nombre = nombre\n",
    "        self.apellidos = apellidos\n",
    "\n",
    "    def __str__(self):\n",
    "        return '{} {}'.format(self.nombre,self.apellidos)\n",
    "\n",
    "# Y otra para las empresas\n",
    "class Empresa:\n",
    "\n",
    "    def __init__(self, clientes=[]):\n",
    "        self.clientes = clientes\n",
    "\n",
    "    def mostrar_cliente(self, dni=None):\n",
    "        for c in self.clientes:\n",
    "            if c.dni == dni:\n",
    "                print(c)\n",
    "                return\n",
    "        print(\"Cliente no encontrado\")\n",
    "\n",
    "    def borrar_cliente(self, dni=None):\n",
    "        for i,c in enumerate(self.clientes):\n",
    "            if c.dni == dni:\n",
    "                del(self.clientes[i])\n",
    "                print(str(c),\"> BORRADO\")\n",
    "                return\n",
    "        print(\"Cliente no encontrado\")\n",
    "\n",
    "### Ahora utilizaré ambas estructuras \n",
    "\n",
    "# Creo un par de clientes\n",
    "hector = Cliente(nombre=\"Hector\", apellidos=\"Costa Guzman\", dni=\"11111111A\")\n",
    "juan = Cliente(\"22222222B\", \"Juan\", \"Gonzalez Marquez\")\n",
    "\n",
    "# Creo una empresa con los clientes iniciales\n",
    "empresa = Empresa(clientes=[hector, juan])\n",
    "\n",
    "# Muestro todos los clientes\n",
    "print(\"==LISTADO DE CLIENTES==\")\n",
    "print(empresa.clientes[1])\n",
    "\n",
    "print(\"\\n==MOSTRAR CLIENTES POR DNI==\")\n",
    "# Consulto clientes por DNI\n",
    "empresa.mostrar_cliente(\"11111111A\")\n",
    "empresa.mostrar_cliente(\"11111111Z\")\n",
    "\n",
    "print(\"\\n==BORRAR CLIENTES POR DNI==\")\n",
    "# Borro un cliente por DNI\n",
    "empresa.borrar_cliente(\"22222222V\")\n",
    "empresa.borrar_cliente(\"22222222B\")\n",
    "\n",
    "# Muestro de nuevo todos los clientes\n",
    "print(\"\\n==LISTADO DE CLIENTES==\")\n",
    "print(empresa.clientes[0])"
   ]
  },
  {
   "cell_type": "code",
   "execution_count": 41,
   "id": "0819937c",
   "metadata": {},
   "outputs": [
    {
     "name": "stdout",
     "output_type": "stream",
     "text": [
      "==LISTADO DE CLIENTES==\n",
      "Hector Costa Guzman\n",
      "\n",
      "==MOSTRAR CLIENTES POR DNI==\n",
      "Hector Costa Guzman\n",
      "Cliente no encontrado\n",
      "\n",
      "==BORRAR CLIENTES POR DNI==\n",
      "Cliente no encontrado\n",
      "Juan Gonzalez Marquez > BORRADO\n",
      "\n",
      "==LISTADO DE CLIENTES==\n",
      "Hector Costa Guzman\n"
     ]
    }
   ],
   "source": [
    "### No intentes entender este código, sólo fíjate en cómo se utiliza abajo  \n",
    "\n",
    "# Creo una estructura para los clientes\n",
    "class Cliente:\n",
    "\n",
    "    def __init__(self, dni, nombre, apellidos):\n",
    "        self.dni = dni\n",
    "        self.nombre = nombre\n",
    "        self.apellidos = apellidos\n",
    "\n",
    "    def __str__(self):\n",
    "        return '{} {}'.format(self.nombre,self.apellidos)\n",
    "\n",
    "# Y otra para las empresas\n",
    "class Empresa:\n",
    "\n",
    "    def __init__(self, clientes=[]):\n",
    "        self.clientes = clientes\n",
    "\n",
    "    def mostrar_cliente(self, dni=None):\n",
    "        for c in self.clientes:\n",
    "            if c.dni == dni:\n",
    "                print(c)\n",
    "                return\n",
    "        print(\"Cliente no encontrado\")\n",
    "\n",
    "    def borrar_cliente(self, dni=None):\n",
    "        for i,c in enumerate(self.clientes):\n",
    "            if c.dni == dni:\n",
    "                del(self.clientes[i])\n",
    "                print(str(c),\"> BORRADO\")\n",
    "                return\n",
    "        print(\"Cliente no encontrado\")\n",
    "\n",
    "### Ahora utilizaré ambas estructuras \n",
    "\n",
    "# Creo un par de clientes\n",
    "hector = Cliente(nombre=\"Hector\", apellidos=\"Costa Guzman\", dni=\"11111111A\")\n",
    "juan = Cliente(\"22222222B\", \"Juan\", \"Gonzalez Marquez\")\n",
    "\n",
    "# Creo una empresa con los clientes iniciales\n",
    "empresa = Empresa(clientes=[hector, juan])\n",
    "\n",
    "# Muestro todos los clientes\n",
    "print(\"==LISTADO DE CLIENTES==\")\n",
    "print(empresa.clientes[0])\n",
    "\n",
    "print(\"\\n==MOSTRAR CLIENTES POR DNI==\")\n",
    "# Consulto clientes por DNI\n",
    "empresa.mostrar_cliente(\"11111111A\")\n",
    "empresa.mostrar_cliente(\"11111111Z\")\n",
    "\n",
    "print(\"\\n==BORRAR CLIENTES POR DNI==\")\n",
    "# Borro un cliente por DNI\n",
    "empresa.borrar_cliente(\"22222222V\")\n",
    "empresa.borrar_cliente(\"22222222B\")\n",
    "\n",
    "# Muestro de nuevo todos los clientes\n",
    "print(\"\\n==LISTADO DE CLIENTES==\")\n",
    "print(empresa.clientes[0])\n",
    "\n",
    "# ¿No os parece que el código orientado a objetos es más autoexplicativo a la hora de utilizarlo? Además con programación estructurada tenemos que enviar la lista que queremos consultar todo el rato, mientras que con la POO tenemos esas \"estructuras\" como la empresa que contienen los clientes, todo queda como más ordenado."
   ]
  },
  {
   "cell_type": "code",
   "execution_count": 42,
   "id": "d0a13f84",
   "metadata": {},
   "outputs": [
    {
     "data": {
      "text/plain": [
       "[{'Nombre': 'Juan', 'Apellidos': 'González Márquez', 'dni': '22222222B'}]"
      ]
     },
     "execution_count": 42,
     "metadata": {},
     "output_type": "execute_result"
    }
   ],
   "source": [
    "clientes"
   ]
  }
 ],
 "metadata": {
  "kernelspec": {
   "display_name": "Python 3",
   "language": "python",
   "name": "python3"
  },
  "language_info": {
   "codemirror_mode": {
    "name": "ipython",
    "version": 3
   },
   "file_extension": ".py",
   "mimetype": "text/x-python",
   "name": "python",
   "nbconvert_exporter": "python",
   "pygments_lexer": "ipython3",
   "version": "3.9.1"
  }
 },
 "nbformat": 4,
 "nbformat_minor": 5
}
