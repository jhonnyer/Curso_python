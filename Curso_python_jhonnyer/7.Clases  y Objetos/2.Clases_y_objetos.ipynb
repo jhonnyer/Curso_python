{
 "cells": [
  {
   "cell_type": "code",
   "execution_count": 1,
   "id": "23eb869d",
   "metadata": {},
   "outputs": [
    {
     "data": {
      "text/plain": [
       "int"
      ]
     },
     "execution_count": 1,
     "metadata": {},
     "output_type": "execute_result"
    }
   ],
   "source": [
    "# Clases y objetos\n",
    "# La base de la POO son los objetos.\n",
    "\n",
    "# Podéis imaginaros los objetos como un nuevo tipo de dato cuya definición viene dada en una estructura llamada clase.\n",
    "\n",
    "# Suelo hacer una metáfora y comparar las clases con moldes de galletas y los objetos con las galletas en sí mismas. Si bien todas las galletas que se hacen con el mismo molde tienen la misma forma, cada una adquiere atributos individuales después del horneado. Cosas como el color, la textura, el sabor... pueden llegar a ser muy distintas.\n",
    "\n",
    "# En otras palabras, las galletas comparten un proceso de fabricación y unos atributos, pero son independientes entre ellas y del propio molde y eso hace que cada una sea única.\n",
    "\n",
    "# Extrapolando el ejemplo, una clase es sólo un guión sobre como deben ser los objetos que se crearán con ella.\n",
    "\n",
    "# La función type()\n",
    "# Ya he comentado varias veces que en Python todo son clases y objetos, eso se puede comprobar fácilmente pasando a la función type() cualquier variable o literal:\n",
    "\n",
    "\n",
    "numero = 10\n",
    "type(numero)"
   ]
  },
  {
   "cell_type": "code",
   "execution_count": 2,
   "id": "d3e4fc09",
   "metadata": {},
   "outputs": [
    {
     "data": {
      "text/plain": [
       "function"
      ]
     },
     "execution_count": 2,
     "metadata": {},
     "output_type": "execute_result"
    }
   ],
   "source": [
    "# En el código anterior numero es una variable entera, pero si vamos más allá, en realidad es una instancia del tipo int, una clase muy básica de dato para almacenar números enteros.\n",
    "\n",
    "# Como curiosidad, incluso las funciones en Python son instancias del tipo function:\n",
    "\n",
    "\n",
    "def hola():\n",
    "    pass\n",
    "\n",
    "type(hola)"
   ]
  },
  {
   "cell_type": "code",
   "execution_count": 8,
   "id": "da733791",
   "metadata": {},
   "outputs": [
    {
     "name": "stdout",
     "output_type": "stream",
     "text": [
      "<__main__.Galleta object at 0x7fa7746acbe0>\n",
      "<__main__.Galleta object at 0x7fa7746ac1c0>\n"
     ]
    }
   ],
   "source": [
    "# Con eso en mente veamos como crear nuestras propias clases.\n",
    "\n",
    "# Definición de clase\n",
    "# La sintaxis es muy sencilla:\n",
    "\n",
    "\n",
    "class Galleta:\n",
    "    pass\n",
    "\n",
    "# Esta es una definición muy simple de lo que es una galleta, ya que con el pass la dejo vacía. Luego añadiremos más información, por ahora veamos como crear galletas con este molde.\n",
    "\n",
    "# Instancias de clase\n",
    "# Para entender bien los objetos debemos tener claras dos cuestiones fundamentales:\n",
    "\n",
    "# ¿Cuándo y dónde existen los objetos?\n",
    "\n",
    "# Puede parecer trivial, pero es importante tener claro que los objetos \"existen\" sólo durante la ejecución del programa y se almacenan en la memoria del sistema operativo.\n",
    "\n",
    "# Es decir, mientras las clases están ahí en el código haciendo su papel de instrucciones, los objetos no existen hasta que el programa se ejecuta y se crean en la memoria.\n",
    "\n",
    "# Este proceso de \"crear\" los objetos en la memoria se denomina instanciación y para realizarlo es tan fácil como llamar a la clase como si fuera una función:\n",
    "\n",
    "una_galleta = Galleta()\n",
    "otra_galleta = Galleta()\n",
    "# Demostrar que las galletas existen como \"entes independientes\" dentro de la memoria, es tan sencillo como imprimirlas por pantalla:\n",
    "\n",
    "\n",
    "print(una_galleta)\n",
    "print(otra_galleta)\n",
    "\n",
    "#es un objeto de tipo Galleta"
   ]
  },
  {
   "cell_type": "code",
   "execution_count": 9,
   "id": "e0d89b00",
   "metadata": {},
   "outputs": [
    {
     "name": "stdout",
     "output_type": "stream",
     "text": [
      "<class '__main__.Galleta'>\n"
     ]
    }
   ],
   "source": [
    "# Cada instancia tiene su propia referencia, demostrando que están en lugares distintos de la memoria. En cambio la clase no tiene una referencia porque es sólo un guión de instrucciones:\n",
    "\n",
    "\n",
    "print(Galleta)"
   ]
  },
  {
   "cell_type": "code",
   "execution_count": 10,
   "id": "f57e3476",
   "metadata": {},
   "outputs": [
    {
     "name": "stdout",
     "output_type": "stream",
     "text": [
      "<class '__main__.Galleta'>\n",
      "<class '__main__.Galleta'>\n",
      "<class '__main__.Galleta'>\n"
     ]
    }
   ],
   "source": [
    "# Es posible consultar la clase de un objeto con la función type(), pero también se puede consultar a través de su atributo especial class:\n",
    "\n",
    "\n",
    "print(Galleta)\n",
    "print(type(una_galleta))\n",
    "print(una_galleta.__class__)"
   ]
  },
  {
   "cell_type": "code",
   "execution_count": 11,
   "id": "f72d2372",
   "metadata": {},
   "outputs": [
    {
     "name": "stdout",
     "output_type": "stream",
     "text": [
      "Galleta\n",
      "Galleta\n",
      "Galleta\n"
     ]
    }
   ],
   "source": [
    "# A su vez las clases tienen un atributo especial name que nos devuelve su nombre en forma de cadena sin adornos:\n",
    "\n",
    "\n",
    "print(Galleta.__name__)\n",
    "print(type(una_galleta).__name__)\n",
    "print(una_galleta.__class__.__name__)"
   ]
  },
  {
   "cell_type": "code",
   "execution_count": 13,
   "id": "9d163f22",
   "metadata": {},
   "outputs": [
    {
     "name": "stdout",
     "output_type": "stream",
     "text": [
      "Galleta\n",
      "Galleta\n",
      "Galleta\n"
     ]
    }
   ],
   "source": [
    "# A su vez las clases tienen un atributo especial name que nos devuelve su nombre en forma de cadena sin adornos:\n",
    "\n",
    "\n",
    "print(Galleta.__name__)\n",
    "print(type(una_galleta).__name__)\n",
    "print(una_galleta.__class__.__name__)\n",
    "\n",
    "# Resumiendo: los objetos son instancias de una clase."
   ]
  },
  {
   "cell_type": "code",
   "execution_count": 12,
   "id": "80f83582",
   "metadata": {},
   "outputs": [
    {
     "name": "stdout",
     "output_type": "stream",
     "text": [
      "Number is 0\n",
      "Number is 1\n",
      "Number is 2\n",
      "Number is 3\n",
      "Number is 4\n",
      "el numero es:  5\n",
      "Number is 5\n",
      "Number is 6\n",
      "Number is 7\n",
      "Number is 8\n",
      "Number is 9\n",
      "Out of loop\n"
     ]
    }
   ],
   "source": [
    "# Prueba instruccion pass otro ejercicio \n",
    "number = 0\n",
    "\n",
    "for number in range(10):\n",
    "    if number == 5:\n",
    "        print(\"el numero es: \",number)\n",
    "        pass    # pass here\n",
    "\n",
    "    print('Number is ' + str(number))\n",
    "\n",
    "print('Out of loop')"
   ]
  }
 ],
 "metadata": {
  "kernelspec": {
   "display_name": "Python 3",
   "language": "python",
   "name": "python3"
  },
  "language_info": {
   "codemirror_mode": {
    "name": "ipython",
    "version": 3
   },
   "file_extension": ".py",
   "mimetype": "text/x-python",
   "name": "python",
   "nbconvert_exporter": "python",
   "pygments_lexer": "ipython3",
   "version": "3.9.1"
  }
 },
 "nbformat": 4,
 "nbformat_minor": 5
}
