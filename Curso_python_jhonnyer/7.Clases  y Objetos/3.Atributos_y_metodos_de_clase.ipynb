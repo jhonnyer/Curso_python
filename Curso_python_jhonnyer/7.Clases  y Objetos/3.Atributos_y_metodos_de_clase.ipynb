{
 "cells": [
  {
   "cell_type": "code",
   "execution_count": 1,
   "id": "6d2e87e0",
   "metadata": {},
   "outputs": [
    {
     "name": "stdout",
     "output_type": "stream",
     "text": [
      "El sabor de esta galleta es salado y el color marrón\n"
     ]
    }
   ],
   "source": [
    "# Atributos y métodos\n",
    "# Si hay algo que ilustre el potencial de la POO esa es la capacidad de definir variables y funciones dentro de las clases, aunque aquí se conocen como atributos y métodos respectivamente.\n",
    "\n",
    "# Atributos\n",
    "# A efectos prácticos los atributos no son muy distintos de las variables, la diferencia fundamental es que sólo existen dentro del objeto.\n",
    "\n",
    "# Atributos dinámicos\n",
    "# Dado que Python es muy flexible los atributos pueden manejarse de distintas formas, por ejemplo se pueden crear dinámicamente (al vuelo) en los objetos.\n",
    "\n",
    "\n",
    "class Galleta:\n",
    "    pass\n",
    "\n",
    "galleta = Galleta()\n",
    "galleta.sabor = \"salado\"\n",
    "galleta.color = \"marrón\"\n",
    "\n",
    "print(f\"El sabor de esta galleta es {galleta.sabor} \"\n",
    "      f\"y el color {galleta.color}\")"
   ]
  },
  {
   "cell_type": "code",
   "execution_count": 2,
   "id": "1091efde",
   "metadata": {},
   "outputs": [
    {
     "name": "stdout",
     "output_type": "stream",
     "text": [
      "La galleta no tiene chocolate\n"
     ]
    }
   ],
   "source": [
    "# Atributos de clase\n",
    "# Aunque la flexibilidad de los atributos dinámicos puede llegar a ser muy útil, tener que definir los atributos de esa forma es tedioso. Es más práctico definir unos atributos básicos en la clase. De esa manera todas las galletas podrían tener unos atributos por defecto:\n",
    "\n",
    "\n",
    "class Galleta:\n",
    "    chocolate = False\n",
    "\n",
    "galleta = Galleta()\n",
    "\n",
    "if galleta.chocolate:\n",
    "    print(\"La galleta tiene chocolate\")\n",
    "else:\n",
    "    print(\"La galleta no tiene chocolate\")"
   ]
  },
  {
   "cell_type": "code",
   "execution_count": 3,
   "id": "a096f711",
   "metadata": {},
   "outputs": [
    {
     "name": "stdout",
     "output_type": "stream",
     "text": [
      "La galleta tiene chocolate\n"
     ]
    }
   ],
   "source": [
    "# Luego podemos cambiar su valor en cualquier momento:\n",
    "\n",
    "\n",
    "galleta.chocolate = True\n",
    "\n",
    "if galleta.chocolate:\n",
    "    print(\"La galleta tiene chocolate\")\n",
    "else:\n",
    "    print(\"La galleta no tiene chocolate\")"
   ]
  },
  {
   "cell_type": "code",
   "execution_count": 4,
   "id": "c097f9e7",
   "metadata": {},
   "outputs": [
    {
     "name": "stdout",
     "output_type": "stream",
     "text": [
      "False\n"
     ]
    }
   ],
   "source": [
    "# Por lo menos de esta forma nos aseguraremos de que el atributo chocolate existe en todas las galletas desde el principio. Además es posible consultar el valor por defecto que deben tener las galletas haciendo referencia al atributo en la definición de la clase:\n",
    "\n",
    "\n",
    "print(Galleta.chocolate)"
   ]
  },
  {
   "cell_type": "code",
   "execution_count": 5,
   "id": "cd4617e3",
   "metadata": {},
   "outputs": [
    {
     "name": "stdout",
     "output_type": "stream",
     "text": [
      "La galleta tiene chocolate\n"
     ]
    }
   ],
   "source": [
    "# Lo curioso es que si cambiamos ese atributo de clase (que no de objeto) a True, las siguientes galletas se crearán con chocolate, es decir, habremos modificado las instrucciones de creación de los objetos:\n",
    "\n",
    "\n",
    "class Galleta:\n",
    "    chocolate = False\n",
    "\n",
    "Galleta.chocolate = True\n",
    "\n",
    "galleta = Galleta()\n",
    "\n",
    "if galleta.chocolate:\n",
    "    print(\"La galleta tiene chocolate\")\n",
    "else:\n",
    "    print(\"La galleta no tiene chocolate\")"
   ]
  },
  {
   "cell_type": "code",
   "execution_count": 3,
   "id": "0936b728",
   "metadata": {},
   "outputs": [
    {
     "ename": "TypeError",
     "evalue": "saludar() takes 0 positional arguments but 1 was given",
     "output_type": "error",
     "traceback": [
      "\u001b[0;31m---------------------------------------------------------------------------\u001b[0m",
      "\u001b[0;31mTypeError\u001b[0m                                 Traceback (most recent call last)",
      "\u001b[0;32m<ipython-input-3-73c2229cd306>\u001b[0m in \u001b[0;36m<module>\u001b[0;34m\u001b[0m\n\u001b[1;32m     14\u001b[0m \u001b[0;34m\u001b[0m\u001b[0m\n\u001b[1;32m     15\u001b[0m \u001b[0mgalleta\u001b[0m \u001b[0;34m=\u001b[0m \u001b[0mGalleta\u001b[0m\u001b[0;34m(\u001b[0m\u001b[0;34m)\u001b[0m\u001b[0;34m\u001b[0m\u001b[0;34m\u001b[0m\u001b[0m\n\u001b[0;32m---> 16\u001b[0;31m \u001b[0mgalleta\u001b[0m\u001b[0;34m.\u001b[0m\u001b[0msaludar\u001b[0m\u001b[0;34m(\u001b[0m\u001b[0;34m)\u001b[0m\u001b[0;34m\u001b[0m\u001b[0;34m\u001b[0m\u001b[0m\n\u001b[0m",
      "\u001b[0;31mTypeError\u001b[0m: saludar() takes 0 positional arguments but 1 was given"
     ]
    }
   ],
   "source": [
    "# Ya les gustaría a otros lenguajes ser tan flexibles. 😁😁😁\n",
    "\n",
    "# Métodos\n",
    "# Si por un lado tenemos las \"variables\" de las clases, por otro tenemos sus \"funciones\", que evidentemente nos permiten definir funcionalidades para llamarlas desde las instancias.\n",
    "\n",
    "# Definir un método es bastante simple, sólo tenemos que añadirlo en la clase y luego llamarlo desde el objeto con los paréntesis, como si de una función se tratase:\n",
    "\n",
    "\n",
    "class Galleta:\n",
    "    chocolate = False\n",
    "\n",
    "    def saludar():\n",
    "        print(\"Hola, soy una galleta muy sabrosa\")\n",
    "\n",
    "galleta = Galleta()\n",
    "galleta.saludar()"
   ]
  },
  {
   "cell_type": "code",
   "execution_count": 4,
   "id": "68d33cc1",
   "metadata": {},
   "outputs": [
    {
     "name": "stdout",
     "output_type": "stream",
     "text": [
      "Hola, soy una galleta muy sabrosa\n"
     ]
    }
   ],
   "source": [
    "# Sin embargo, al intentar ejecutar el código anterior desde una galleta veréis que no funciona. Nos indica que el método saludar() requiere 0 argumentos pero se está pasando uno.\n",
    "\n",
    "# ¿Cómo puede ser? Si en ningún momento hemos enviado ninguna información a al galleta...\n",
    "\n",
    "# Lo que tenemos aquí, estimados alumnos, es la diferencia fundamental entre métodos de clase y métodos de instancia.\n",
    "\n",
    "# Probad a ejecutar el método llamando a la clase en lugar del objeto:\n",
    "\n",
    "\n",
    "class Galleta:\n",
    "    chocolate = False\n",
    "\n",
    "    def saludar():\n",
    "        print(\"Hola, soy una galleta muy sabrosa\")\n",
    "\n",
    "Galleta.saludar()"
   ]
  },
  {
   "cell_type": "code",
   "execution_count": 5,
   "id": "180e2cd1",
   "metadata": {},
   "outputs": [
    {
     "name": "stdout",
     "output_type": "stream",
     "text": [
      "Hola, soy una galleta muy sabrosa\n",
      "<__main__.Galleta object at 0x7f29d8fd6bb0>\n"
     ]
    }
   ],
   "source": [
    "# ¡Ahora sí ha funcionado! ¿Cómo es posible? Y más importante, ¿por qué al llamarlo desde el objeto dice que estamos enviando un argumento?\n",
    "\n",
    "# Primer argumento self\n",
    "# Los objetos tienen una característica muy importante: son conscientes de que existen. Y no, no es broma.\n",
    "\n",
    "# Cuando se ejecuta un método desde un objeto (que no desde una clase), se envía un primer argumento implícito que hace referencia al propio objeto. Si lo definimos en nuestro método podremos capturarlo y ver qué es:\n",
    "\n",
    "\n",
    "class Galleta:\n",
    "    chocolate = False\n",
    "\n",
    "    def saludar(soy_el_propio_objeto):\n",
    "        print(\"Hola, soy una galleta muy sabrosa\")\n",
    "        print(soy_el_propio_objeto)\n",
    "\n",
    "galleta = Galleta()\n",
    "galleta.saludar()"
   ]
  },
  {
   "cell_type": "code",
   "execution_count": 6,
   "id": "6dd42729",
   "metadata": {},
   "outputs": [
    {
     "name": "stdout",
     "output_type": "stream",
     "text": [
      "Hola, soy una galleta muy sabrosa\n",
      "<__main__.Galleta object at 0x7f29d8fd68b0>\n",
      "<__main__.Galleta object at 0x7f29d8fd68b0>\n"
     ]
    }
   ],
   "source": [
    "# ¿Curioso que haya funcionado verdad? Además ¿no os suena de algo ese resultado que muestra el parámetro que hemos definido? Se trata de la propia representación del objeto.\n",
    "\n",
    "\n",
    "class Galleta:\n",
    "    chocolate = False\n",
    "\n",
    "    def saludar(soy_el_propio_objeto):\n",
    "        print(\"Hola, soy una galleta muy sabrosa\")\n",
    "        print(soy_el_propio_objeto)\n",
    "\n",
    "galleta = Galleta()\n",
    "galleta.saludar()\n",
    "print(galleta)"
   ]
  },
  {
   "cell_type": "code",
   "execution_count": 7,
   "id": "cd0a843b",
   "metadata": {},
   "outputs": [
    {
     "name": "stdout",
     "output_type": "stream",
     "text": [
      "False\n"
     ]
    }
   ],
   "source": [
    "# Pues sí, podemos acceder al propio objeto desde el interior de sus métodos. Lo único que como este argumento hace referencia al objeto en sí mismo por convención se le llama self.\n",
    "\n",
    "# Poder acceder al propio objeto desde un método es muy útil, ya que nos permite acceder a sus atributos. Fijaros, el siguiente código no funcionaría como esperamos:\n",
    "\n",
    "\n",
    "class Galleta:\n",
    "    chocolate = False\n",
    "\n",
    "    def chocolatear(self):\n",
    "        chocolate = True\n",
    "\n",
    "galleta = Galleta()\n",
    "galleta.chocolatear()\n",
    "print(galleta.chocolate)"
   ]
  },
  {
   "cell_type": "code",
   "execution_count": 8,
   "id": "887f6319",
   "metadata": {},
   "outputs": [
    {
     "name": "stdout",
     "output_type": "stream",
     "text": [
      "True\n"
     ]
    }
   ],
   "source": [
    "# En cambio, si hacemos ver que self es el propio objeto...\n",
    "\n",
    "\n",
    "class Galleta:\n",
    "    chocolate = False\n",
    "\n",
    "    def chocolatear(self):\n",
    "        self.chocolate = True\n",
    "\n",
    "galleta = Galleta()\n",
    "galleta.chocolatear()\n",
    "print(galleta.chocolate)"
   ]
  },
  {
   "cell_type": "code",
   "execution_count": null,
   "id": "17c85b03",
   "metadata": {},
   "outputs": [],
   "source": [
    "# ¿No es interesante? Da la sensación como os decía antes de que las instancias tienen que saber quienes son porque sino no pueden acceder sus atributos internos y por eso tienen que enviarse asimismas a los métodos.\n",
    "\n",
    "# Sea como sea con este ejemplo podemos entender que por defecto el valor de un atributo se busca en la clase, pero para modificarlo en la instancia es necesario hacer referencia al objeto.\n",
    "\n",
    "# Métodos especiales\n",
    "# Ahora que sabemos crear métodos y hemos aprendido para qué sirve el argumento self, es momento de introducir algunos métodos especiales de las clases.\n",
    "\n",
    "# Se llaman especiales porque la mayoría ya existen de forma oculta y sirven para tareas específicas.\n",
    "\n",
    "# Constructor\n",
    "# El constructor es un método que se llama automáticamente al crear un objeto, se define con el nombre init:\n",
    "\n",
    "\n",
    "class Galleta:\n",
    "\n",
    "    def __init__(self):\n",
    "        print(\"Soy una galleta acabada de hornear!\")\n",
    "\n",
    "galleta = Galleta()"
   ]
  },
  {
   "cell_type": "code",
   "execution_count": 20,
   "id": "94a42f5e",
   "metadata": {},
   "outputs": [
    {
     "name": "stdout",
     "output_type": "stream",
     "text": [
      "Se acaba de crear una galleta\n",
      "False\n",
      "La galleta es sin chocolate\n",
      "True\n",
      "Soy una galleta con chocolate\n"
     ]
    }
   ],
   "source": [
    "class Galleta:\n",
    "    chocolate=False\n",
    "    def __init__(self):\n",
    "        print(\"Se acaba de crear una galleta\")\n",
    "    def chocolatear(self):\n",
    "        self.chocolate=True\n",
    "    def tiene_chocolate(self):\n",
    "        if(self.chocolate):\n",
    "            print(\"Soy una galleta con chocolate\")\n",
    "        else:\n",
    "            print(\"La galleta es sin chocolate\")\n",
    "    \n",
    "g=Galleta()\n",
    "print(g.chocolate)\n",
    "g.tiene_chocolate()\n",
    "g.chocolatear()\n",
    "print(g.chocolate)\n",
    "g.tiene_chocolate()"
   ]
  },
  {
   "cell_type": "code",
   "execution_count": 23,
   "id": "34a164cb",
   "metadata": {},
   "outputs": [
    {
     "name": "stdout",
     "output_type": "stream",
     "text": [
      "Se acaba de crear una galleta amarga y marrón.\n",
      "Se acaba de crear una galleta dulce y blanca.\n"
     ]
    }
   ],
   "source": [
    "# La finalidad del constructor es, como su nombre indica, construir los objetos. Por esa razón permite sobreescribir el método que crea los objetos, permitiéndonos enviar datos desde el principio para construirlo:\n",
    "\n",
    "\n",
    "class Galleta:\n",
    "    chocolate = False\n",
    "\n",
    "    def __init__(self, sabor, color):\n",
    "        self.sabor = sabor\n",
    "        self.color = color\n",
    "        print(f\"Se acaba de crear una galleta {self.color} y {self.sabor}.\")\n",
    "\n",
    "galleta_1 = Galleta(\"marrón\", \"amarga\")\n",
    "galleta_2 = Galleta(\"blanca\", \"dulce\")"
   ]
  },
  {
   "cell_type": "code",
   "execution_count": 24,
   "id": "c6ba0495",
   "metadata": {},
   "outputs": [
    {
     "name": "stdout",
     "output_type": "stream",
     "text": [
      "Se acaba de crear una galleta marrón amarga.\n",
      "Se acaba de crear una galleta blanca dulce.\n"
     ]
    }
   ],
   "source": [
    "class Galleta:\n",
    "    chocolate = False\n",
    "\n",
    "    def __init__(self, sabor, color):\n",
    "        self.sabor = sabor\n",
    "        self.color = color\n",
    "        print(\"Se acaba de crear una galleta {} {}.\".format(sabor, color))\n",
    "\n",
    "galleta_1 = Galleta(\"marrón\", \"amarga\")\n",
    "galleta_2 = Galleta(\"blanca\", \"dulce\")"
   ]
  },
  {
   "cell_type": "code",
   "execution_count": 85,
   "id": "5e9c44f4",
   "metadata": {},
   "outputs": [
    {
     "name": "stdout",
     "output_type": "stream",
     "text": [
      "Galleta creada sin propiedades especificas\n"
     ]
    }
   ],
   "source": [
    "# Si se intenta crear un objeto de Galleta sin pasar los atributos se genera un error ya se no se han pasado los \n",
    "# argumentos pasados en el metodo \n",
    "galleta_3=Galleta()"
   ]
  },
  {
   "cell_type": "code",
   "execution_count": 92,
   "id": "94999109",
   "metadata": {},
   "outputs": [
    {
     "name": "stdout",
     "output_type": "stream",
     "text": [
      "Se acaba de crear una galleta marrón y amarga.\n",
      "Se acaba de crear una galleta blanca y dulce.\n",
      "Se acaba de crear una galleta  y amarilla.\n",
      "Se acaba de crear una galleta dulce y .\n",
      "Se acaba de crear una galleta dulce y rojo.\n"
     ]
    }
   ],
   "source": [
    "#Manejo de excepcion error no pasar argumentos en el metodo\n",
    "class Galleta:\n",
    "    chocolate = False\n",
    "\n",
    "    def __init__(self, sabor=None, color=None):\n",
    "        self.sabor = sabor\n",
    "        self.color = color\n",
    "        if sabor is not None and color is not None:\n",
    "            print(\"Se acaba de crear una galleta {} y {}.\".format(sabor, color))\n",
    "        else:\n",
    "            print(\"Galleta creada sin propiedades especificas\")\n",
    "\n",
    "galleta_1 = Galleta(\"marrón\", \"amarga\")\n",
    "galleta_2 = Galleta(\"blanca\", \"dulce\")\n",
    "galleta_4=Galleta(\"\",\"amarilla\")\n",
    "galleta_5=Galleta(sabor=\"dulce\",color=\"\")\n",
    "galleta_5=Galleta(color=\"rojo\",sabor=\"dulce\")"
   ]
  },
  {
   "cell_type": "code",
   "execution_count": 82,
   "id": "9a1e5447",
   "metadata": {},
   "outputs": [
    {
     "name": "stdout",
     "output_type": "stream",
     "text": [
      "Se acaba de crear una galleta marrón amarga.\n",
      "Se acaba de crear una galleta blanca dulce.\n",
      "Se acaba de crear una galleta de color amarilla\n",
      "Se acaba de crear una galleta de sabor Amarga\n"
     ]
    }
   ],
   "source": [
    "#Manejo de excepcion error no pasar argumentos en el metodo\n",
    "class Galleta:\n",
    "    chocolate = False\n",
    "\n",
    "    def __init__(self, sabor=\"\", color=\"\"):\n",
    "        self.sabor = sabor\n",
    "        self.color = color\n",
    "        if sabor != \"\" and color !=\"\":\n",
    "            print(\"Se acaba de crear una galleta {} {}.\".format(sabor, color))\n",
    "        elif sabor == \"\":\n",
    "            print(\"Se acaba de crear una galleta de color {}\".format(color))\n",
    "        elif color == \"\":\n",
    "            print(\"Se acaba de crear una galleta de sabor {}\".format(sabor))\n",
    "\n",
    "galleta_1 = Galleta(\"marrón\", \"amarga\")\n",
    "galleta_2 = Galleta(\"blanca\", \"dulce\")\n",
    "galleta_4=Galleta(\"\",\"amarilla\")\n",
    "galleta_4=Galleta(\"Amarga\",\"\")\n"
   ]
  },
  {
   "cell_type": "code",
   "execution_count": 106,
   "id": "76329f99",
   "metadata": {},
   "outputs": [
    {
     "name": "stdout",
     "output_type": "stream",
     "text": [
      "La galleta se está borrando de la memoria\n"
     ]
    }
   ],
   "source": [
    "# Como los métodos se comportan como funciones tienen sus mismas características, permitiéndonos definir valores nulos, valores por posición y nombre, argumentos indeterminadas, etc.\n",
    "\n",
    "                            #  METODOS ESPECIALES\n",
    "\n",
    "# Destructor\n",
    "# Si existe un constructor también debe existir un destructor que se llame al eliminar el objeto para que encargue de las tareas de limpieza como vaciar la memoria. Ese es el papel del método especial del. Es muy raro sobreescribir este método porque se maneja automáticamente, pero es interesante saber que existe.\n",
    "\n",
    "# Todos los objetos se borran automáticamente de la memoria al finalizar el programa, aunque también podemos eliminarlos automáticamente pasándolos a la función del():\n",
    "\n",
    "\n",
    "class Galleta:\n",
    "\n",
    "    def __del__(self):\n",
    "        print(\"La galleta se está borrando de la memoria\")\n",
    "\n",
    "galleta = Galleta()\n",
    "\n",
    "del(galleta)"
   ]
  },
  {
   "cell_type": "code",
   "execution_count": 95,
   "id": "02fc1ea2",
   "metadata": {},
   "outputs": [
    {
     "name": "stdout",
     "output_type": "stream",
     "text": [
      "La galleta se está borrando de la memoria\n"
     ]
    }
   ],
   "source": [
    "# En este punto vale comentar algo respecto a los métodos especiales como éste, y es que pese a que tienen accesores en forma de función para facilitar su llamada, es totalmente posible ejecutarlos directamente como si fueran métodos normales:\n",
    "\n",
    "\n",
    "class Galleta:\n",
    "\n",
    "    def __del__(self):\n",
    "        print(\"La galleta se está borrando de la memoria\")\n",
    "\n",
    "galleta = Galleta()\n",
    "\n",
    "galleta.__del__()"
   ]
  },
  {
   "cell_type": "code",
   "execution_count": 143,
   "id": "61dcb17e",
   "metadata": {},
   "outputs": [
    {
     "name": "stdout",
     "output_type": "stream",
     "text": [
      "Soy una galleta blanca y dulce.\n",
      "Soy una galleta blanca y dulce.\n",
      "Soy una galleta blanca y dulce.\n"
     ]
    }
   ],
   "source": [
    "# Si tenéis memoria seguro que ahora mismo os estáis acordando de funciones como str() y len(), y es que en efecto, esas también son accesores de los métodos especiales str y len que tienen los objetos.\n",
    "\n",
    "# String\n",
    "# El método str es el que devuelve la representación de un objeto en forma de cadena. Un momento en que se llama automáticamente es cuando imprimirmos una variable por pantalla.\n",
    "\n",
    "# Por defecto los objetos imprimen su clase y una dirección de memoria, pero eso puede cambiarse sobreescribiendo el comportamiento:\n",
    "\n",
    "\n",
    "class Galleta:\n",
    "\n",
    "    def __init__(self, sabor, color):\n",
    "        self.sabor = sabor\n",
    "        self.color = color\n",
    "\n",
    "    def __str__(self):\n",
    "       return f\"Soy una galleta {self.color} y {self.sabor}.\"\n",
    "\n",
    "galleta = Galleta(\"dulce\", \"blanca\")\n",
    "\n",
    "print(galleta)\n",
    "print(str(galleta))\n",
    "print(galleta.__str__())\n",
    "# Hay que tener en cuenta que este método debe devolver la cadena en lugar de mostrar algo por pantalla, ese es el funcionamiento que se espera de él.\n"
   ]
  },
  {
   "cell_type": "code",
   "execution_count": 144,
   "id": "bfe52c26",
   "metadata": {},
   "outputs": [
    {
     "name": "stdout",
     "output_type": "stream",
     "text": [
      "210\n",
      "210\n"
     ]
    }
   ],
   "source": [
    "\n",
    "# Length\n",
    "# Finalmente otro método especial interesante es el que devuelve la longitud. Normalmente está ligado a colecciones, pero nada impide definirlo en una clase. Y sí, digo definirlo y no redefinirlo porque por defecto no existe en los objetos aunque sea el que se ejecuta al pasarlos a la función len().\n",
    "\n",
    "\n",
    "class Cancion:\n",
    "\n",
    "    def __init__(self, autor, titulo, duracion):  # en segundos\n",
    "        self.duracion = duracion\n",
    "\n",
    "    def __len__(self):\n",
    "       return self.duracion\n",
    "\n",
    "cancion = Cancion(\"Queen\", \"Don't Stop Me Now\", 210)\n",
    "\n",
    "print(len(cancion))\n",
    "print(cancion.__len__())\n",
    "\n",
    "# Mientras devolvamos un número, este método no debería dar problemas."
   ]
  },
  {
   "cell_type": "code",
   "execution_count": 107,
   "id": "539f52a3",
   "metadata": {},
   "outputs": [
    {
     "name": "stdout",
     "output_type": "stream",
     "text": [
      "Se ha creado la pelicula 'El padrino'\n"
     ]
    }
   ],
   "source": [
    "class Pelicula:\n",
    "    #Constructor de clase\n",
    "    def __init__(self,titulo, duracion, lanzamiento):\n",
    "        self.titulo=titulo\n",
    "        self.duracion=duracion\n",
    "        self.lanzamiento=lanzamiento\n",
    "        print(\"Se ha creado la pelicula '{}'\".format(titulo))\n",
    "\n",
    "p=Pelicula(\"El padrino\",175, 1972)"
   ]
  },
  {
   "cell_type": "code",
   "execution_count": 122,
   "id": "051c9aa0",
   "metadata": {},
   "outputs": [
    {
     "name": "stdout",
     "output_type": "stream",
     "text": [
      "Se ha creado la pelicula 'El padrino'\n",
      "Se esta borrando la pelicula 'El padrino' de la memoria\n",
      "Se esta borrando la pelicula 'El padrino' de la memoria\n"
     ]
    }
   ],
   "source": [
    "class Pelicula:\n",
    "    #Constructor de clase\n",
    "    def __init__(self,titulo, duracion, lanzamiento):\n",
    "        self.titulo=titulo\n",
    "        self.duracion=duracion\n",
    "        self.lanzamiento=lanzamiento\n",
    "        print(\"Se ha creado la pelicula '{}'\".format(titulo))\n",
    "    \n",
    "    #Destructor de clase\n",
    "    def __del__(self):\n",
    "#         print(\"Se esta borrando la pelicula '\",self.titulo,\"' de la memoria\")\n",
    "        print(\"Se esta borrando la pelicula '{}' de la memoria\".format(self.titulo))\n",
    "\n",
    "p=Pelicula(\"El padrino\",175, 1972)\n",
    "del(p)"
   ]
  },
  {
   "cell_type": "code",
   "execution_count": null,
   "id": "5277198f",
   "metadata": {},
   "outputs": [],
   "source": [
    "class Pelicula:\n",
    "    #Constructor de clase\n",
    "    def __init__(self,titulo, duracion, lanzamiento):\n",
    "        self.titulo=titulo\n",
    "        self.duracion=duracion\n",
    "        self.lanzamiento=lanzamiento\n",
    "        print(\"Se ha creado la pelicula '{}'\".format(titulo))\n",
    "    \n",
    "    #Destructor de clase\n",
    "    def __del__(self):\n",
    "#         print(\"Se esta borrando la pelicula '\",self.titulo,\"' de la memoria\")\n",
    "        print(\"Se esta borrando la pelicula '{}' de la memoria\".format(self.titulo))"
   ]
  },
  {
   "cell_type": "code",
   "execution_count": 137,
   "id": "96419b71",
   "metadata": {},
   "outputs": [
    {
     "name": "stdout",
     "output_type": "stream",
     "text": [
      "Se ha creado la pelicula 'El padrino'\n",
      "Se esta borrando la pelicula 'El padrino' de la memoria\n"
     ]
    }
   ],
   "source": [
    "class Pelicula:\n",
    "    #Constructor de clase\n",
    "    def __init__(self,titulo, duracion, lanzamiento):\n",
    "        self.titulo=titulo\n",
    "        self.duracion=duracion\n",
    "        self.lanzamiento=lanzamiento\n",
    "        print(\"Se ha creado la pelicula '{}'\".format(titulo))\n",
    "    \n",
    "    #Destructor de clase\n",
    "    def __del__(self):\n",
    "    #   print(\"Se esta borrando la pelicula '\",self.titulo,\"' de la memoria\")\n",
    "        print(\"Se esta borrando la pelicula '{}' de la memoria\".format(self.titulo))\n",
    "\n",
    "    #Redifinimos el metodo string\n",
    "    def __str__(self):\n",
    "        #devuelve una cadena de texto\n",
    "        return \"{} lanzada en {} con una duracion de {} minutos\".format(self.titulo,self.lanzamiento,self.duracion)\n",
    "    \n",
    "p=Pelicula(\"El padrino\",175, 1972)"
   ]
  },
  {
   "cell_type": "code",
   "execution_count": 139,
   "id": "c2675ecd",
   "metadata": {},
   "outputs": [
    {
     "data": {
      "text/plain": [
       "'El padrino lanzada en 1972 con una duracion de 175 minutos'"
      ]
     },
     "execution_count": 139,
     "metadata": {},
     "output_type": "execute_result"
    }
   ],
   "source": [
    "#Mostar entre el metodo string el valor retornado, informacion en tipo string\n",
    "str(p)"
   ]
  },
  {
   "cell_type": "code",
   "execution_count": 133,
   "id": "d0e6182d",
   "metadata": {},
   "outputs": [
    {
     "data": {
      "text/plain": [
       "'10'"
      ]
     },
     "execution_count": 133,
     "metadata": {},
     "output_type": "execute_result"
    }
   ],
   "source": [
    "str(10)"
   ]
  },
  {
   "cell_type": "code",
   "execution_count": 145,
   "id": "edf20d4e",
   "metadata": {},
   "outputs": [
    {
     "name": "stdout",
     "output_type": "stream",
     "text": [
      "El padrino lanzada en 1972 con una duracion de 175 minutos\n",
      "El padrino lanzada en 1972 con una duracion de 175 minutos\n",
      "El padrino lanzada en 1972 con una duracion de 175 minutos\n"
     ]
    }
   ],
   "source": [
    "# resultado siguiente es la referencia a una instancoa de tipo pelicula que esta almacenada en esa direccion de memoria\n",
    "print(p) \n",
    "print(str(p))\n",
    "print(p.__str__())"
   ]
  },
  {
   "cell_type": "code",
   "execution_count": 147,
   "id": "00595b03",
   "metadata": {},
   "outputs": [
    {
     "ename": "TypeError",
     "evalue": "object of type 'Pelicula' has no len()",
     "output_type": "error",
     "traceback": [
      "\u001b[0;31m---------------------------------------------------------------------------\u001b[0m",
      "\u001b[0;31mTypeError\u001b[0m                                 Traceback (most recent call last)",
      "\u001b[0;32m<ipython-input-147-54e17093382d>\u001b[0m in \u001b[0;36m<module>\u001b[0;34m\u001b[0m\n\u001b[1;32m      1\u001b[0m \u001b[0;31m#metodo len por defecto no esta definido en una clase, si se llama sin definirlo genera error\u001b[0m\u001b[0;34m\u001b[0m\u001b[0;34m\u001b[0m\u001b[0;34m\u001b[0m\u001b[0m\n\u001b[0;32m----> 2\u001b[0;31m \u001b[0mlen\u001b[0m\u001b[0;34m(\u001b[0m\u001b[0mp\u001b[0m\u001b[0;34m)\u001b[0m\u001b[0;34m\u001b[0m\u001b[0;34m\u001b[0m\u001b[0m\n\u001b[0m",
      "\u001b[0;31mTypeError\u001b[0m: object of type 'Pelicula' has no len()"
     ]
    }
   ],
   "source": [
    "#metodo len por defecto no esta definido en una clase, si se llama sin definirlo genera error\n",
    "len(p)"
   ]
  },
  {
   "cell_type": "code",
   "execution_count": 148,
   "id": "29410cdb",
   "metadata": {},
   "outputs": [
    {
     "name": "stdout",
     "output_type": "stream",
     "text": [
      "Se ha creado la pelicula 'El padrino'\n",
      "Se esta borrando la pelicula 'El padrino' de la memoria\n"
     ]
    }
   ],
   "source": [
    "class Pelicula:\n",
    "    #Constructor de clase\n",
    "    def __init__(self,titulo, duracion, lanzamiento):\n",
    "        self.titulo=titulo\n",
    "        self.duracion=duracion\n",
    "        self.lanzamiento=lanzamiento\n",
    "        print(\"Se ha creado la pelicula '{}'\".format(titulo))\n",
    "    \n",
    "    #Destructor de clase\n",
    "    def __del__(self):\n",
    "    #   print(\"Se esta borrando la pelicula '\",self.titulo,\"' de la memoria\")\n",
    "        print(\"Se esta borrando la pelicula '{}' de la memoria\".format(self.titulo))\n",
    "\n",
    "    #Redifinimos el metodo string\n",
    "    def __str__(self):\n",
    "        #devuelve una cadena de texto\n",
    "        return \"{} lanzada en {} con una duracion de {} minutos\".format(self.titulo,self.lanzamiento,self.duracion)\n",
    "    #Redefinir metodo length\n",
    "    def __len__(self):\n",
    "        self.duracion\n",
    "    \n",
    "p=Pelicula(\"El padrino\",175, 1972)"
   ]
  }
 ],
 "metadata": {
  "kernelspec": {
   "display_name": "Python 3",
   "language": "python",
   "name": "python3"
  },
  "language_info": {
   "codemirror_mode": {
    "name": "ipython",
    "version": 3
   },
   "file_extension": ".py",
   "mimetype": "text/x-python",
   "name": "python",
   "nbconvert_exporter": "python",
   "pygments_lexer": "ipython3",
   "version": "3.9.1"
  }
 },
 "nbformat": 4,
 "nbformat_minor": 5
}
