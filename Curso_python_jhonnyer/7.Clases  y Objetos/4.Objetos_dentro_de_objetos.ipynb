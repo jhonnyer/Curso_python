{
 "cells": [
  {
   "cell_type": "code",
   "execution_count": 1,
   "id": "c0132db4",
   "metadata": {},
   "outputs": [
    {
     "name": "stdout",
     "output_type": "stream",
     "text": [
      "Se ha creado la película: El Padrino\n",
      "El Padrino (1972)\n",
      "Se ha creado la película: El Padrino: Parte 2\n",
      "El Padrino (1972)\n",
      "El Padrino: Parte 2 (1974)\n"
     ]
    }
   ],
   "source": [
    "# Objetos dentro de objetos\n",
    "# Hasta ahora no lo hemos comentado, pero al ser las clases un nuevo tipo de dato resulta más que obvio que se pueden poner en colecciones e incluso utilizarlos dentro de otras clases.\n",
    "\n",
    "# Os voy a dejar un pequeño código de ejemplo sobre un catálogo de películas para que lo estudiéis detenidamente:\n",
    "\n",
    "\n",
    "class Pelicula:\n",
    "\n",
    "    # Constructor de clase\n",
    "    def __init__(self, titulo, duracion, lanzamiento):\n",
    "        self.titulo = titulo\n",
    "        self.duracion = duracion\n",
    "        self.lanzamiento = lanzamiento\n",
    "        print('Se ha creado la película:', self.titulo)\n",
    "\n",
    "    def __str__(self):\n",
    "        return '{} ({})'.format(self.titulo, self.lanzamiento)\n",
    "\n",
    "\n",
    "class Catalogo:\n",
    "\n",
    "    peliculas = []  # Esta lista contendrá objetos de la clase Pelicula\n",
    "\n",
    "    def __init__(self, peliculas=[]):\n",
    "        self.peliculas = peliculas\n",
    "\n",
    "    def agregar(self, p):  # p será un objeto Pelicula\n",
    "        self.peliculas.append(p)\n",
    "\n",
    "    def mostrar(self):\n",
    "        for p in self.peliculas:\n",
    "            print(p)  # Print toma por defecto str(p)\n",
    "\n",
    "\n",
    "p = Pelicula(\"El Padrino\", 175, 1972)\n",
    "c = Catalogo([p])  # Añado una lista con una película desde el principio\n",
    "c.mostrar()\n",
    "c.agregar(Pelicula(\"El Padrino: Parte 2\", 202, 1974))  # Añadimos otra\n",
    "c.mostrar()\n"
   ]
  }
 ],
 "metadata": {
  "kernelspec": {
   "display_name": "Python 3",
   "language": "python",
   "name": "python3"
  },
  "language_info": {
   "codemirror_mode": {
    "name": "ipython",
    "version": 3
   },
   "file_extension": ".py",
   "mimetype": "text/x-python",
   "name": "python",
   "nbconvert_exporter": "python",
   "pygments_lexer": "ipython3",
   "version": "3.9.1"
  }
 },
 "nbformat": 4,
 "nbformat_minor": 5
}
