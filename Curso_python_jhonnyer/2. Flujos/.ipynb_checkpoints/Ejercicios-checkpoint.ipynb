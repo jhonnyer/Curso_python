{
 "cells": [
  {
   "cell_type": "markdown",
   "id": "1788ead1",
   "metadata": {},
   "source": [
    "Ejercicio 1\n",
    "\n",
    "Realiza un programa que lea dos números por teclado y permita elegir entre 3 opciones en un menú:\n",
    "\n",
    "Mostrar una suma de los dos números\n",
    "Mostrar una resta de los dos números (el primero menos el segundo)\n",
    "Mostrar una multiplicación de los dos números\n",
    "En caso de introducir una opción inválida, el programa informará de que no es correcta."
   ]
  },
  {
   "cell_type": "code",
   "execution_count": 13,
   "id": "22e2a88a",
   "metadata": {},
   "outputs": [
    {
     "name": "stdout",
     "output_type": "stream",
     "text": [
      "Ingresa el primer numero: 4\n",
      "Ingresa el primer numero: 5\n",
      "Elige una opcion de lo que quieras realizar\n",
      "    1) Sumar los dos numeros:\n",
      "    2) Restar los dos numeros ingresados: \n",
      "    3) Multiplicar los dos numeros\n",
      "    4) Salir de la aplicación \n",
      "Ingresa una opción5\n",
      "Comando desconocido, vuelve a ingresar una opción nuevamente\n",
      "Elige una opcion de lo que quieras realizar\n",
      "    1) Sumar los dos numeros:\n",
      "    2) Restar los dos numeros ingresados: \n",
      "    3) Multiplicar los dos numeros\n",
      "    4) Salir de la aplicación \n",
      "Ingresa una opción2\n",
      "La resta de:  4.0  -  5.0  es:  -1.0\n",
      "Elige una opcion de lo que quieras realizar\n",
      "    1) Sumar los dos numeros:\n",
      "    2) Restar los dos numeros ingresados: \n",
      "    3) Multiplicar los dos numeros\n",
      "    4) Salir de la aplicación \n",
      "Ingresa una opción3\n",
      "La multiplicacion de:  4.0  *  5.0  es:  20.0\n",
      "Elige una opcion de lo que quieras realizar\n",
      "    1) Sumar los dos numeros:\n",
      "    2) Restar los dos numeros ingresados: \n",
      "    3) Multiplicar los dos numeros\n",
      "    4) Salir de la aplicación \n",
      "Ingresa una opción4\n",
      "Hasta luego\n"
     ]
    }
   ],
   "source": [
    "n1=float(input(\"Ingresa el primer numero: \"))\n",
    "n2=float(input(\"Ingresa el primer numero: \"))\n",
    "\n",
    "while(True):\n",
    "    print(\"\"\"Elige una opcion de lo que quieras realizar\n",
    "    1) Sumar los dos numeros:\n",
    "    2) Restar los dos numeros ingresados: \n",
    "    3) Multiplicar los dos numeros\n",
    "    4) Salir de la aplicación \"\"\")\n",
    "    opcion=input(\"Ingresa una opción\")\n",
    "    if opcion==\"1\":\n",
    "        print(\"La suma de: \",n1,\" + \",n2,\" es: \",n1+n2)\n",
    "    elif opcion==\"2\":\n",
    "        print(\"La resta de: \",n1,\" - \",n2,\" es: \",n1-n2)\n",
    "    elif opcion==\"3\":\n",
    "        print(\"La multiplicacion de: \",n1,\" * \",n2,\" es: \",n1*n2)\n",
    "    elif opcion==\"4\":\n",
    "        print(\"Hasta luego\")\n",
    "        break\n",
    "    else:\n",
    "        print(\"Comando desconocido, vuelve a ingresar una opción nuevamente\")"
   ]
  },
  {
   "cell_type": "markdown",
   "id": "2c40af36",
   "metadata": {},
   "source": [
    "Ejercicio 2\n",
    "\n",
    "Realiza un programa que lea un número impar por teclado. Si el usuario no introduce un número impar, debe repetise el proceso hasta que lo introduzca correctamente."
   ]
  },
  {
   "cell_type": "code",
   "execution_count": 21,
   "id": "1c69fbcd",
   "metadata": {},
   "outputs": [
    {
     "name": "stdout",
     "output_type": "stream",
     "text": [
      "Por favor ingresa un numero impar: 8\n",
      "El número ingresado no es impar, por favor ingresar nuevamente un numero impar: 4\n",
      "El número ingresado no es impar, por favor ingresar nuevamente un numero impar: 6\n",
      "El número ingresado no es impar, por favor ingresar nuevamente un numero impar: 7\n",
      "El numero impar ingresado es:  7\n"
     ]
    }
   ],
   "source": [
    "numero=int(input(\"Por favor ingresa un numero impar: \"))\n",
    "while numero%2==0:\n",
    "    numero=int(input(\"El número ingresado no es impar, por favor ingresar nuevamente un numero impar: \"))\n",
    "else:\n",
    "    print(\"El numero impar ingresado es: \",numero)"
   ]
  },
  {
   "cell_type": "markdown",
   "id": "2fa9de69",
   "metadata": {},
   "source": [
    "Ejercicio 3\n",
    "\n",
    "Realiza un programa que sume todos los números enteros pares desde el 0 hasta el 100\n",
    "\n",
    "Puedes utilizar la funciones sum() y range() para hacerlo más fácil.\n",
    "\n",
    "El tercer parámetro en la función range(inicio, fin, salto) indica un salto de números, pruébalo."
   ]
  },
  {
   "cell_type": "code",
   "execution_count": 51,
   "id": "d07f04d9",
   "metadata": {},
   "outputs": [
    {
     "ename": "TypeError",
     "evalue": "'int' object is not callable",
     "output_type": "error",
     "traceback": [
      "\u001b[0;31m---------------------------------------------------------------------------\u001b[0m",
      "\u001b[0;31mTypeError\u001b[0m                                 Traceback (most recent call last)",
      "\u001b[0;32m<ipython-input-51-0ea8b55755cf>\u001b[0m in \u001b[0;36m<module>\u001b[0;34m\u001b[0m\n\u001b[1;32m      1\u001b[0m \u001b[0;31m#FORMA 1 CON FUNCION\u001b[0m\u001b[0;34m\u001b[0m\u001b[0;34m\u001b[0m\u001b[0;34m\u001b[0m\u001b[0m\n\u001b[0;32m----> 2\u001b[0;31m \u001b[0msuma\u001b[0m\u001b[0;34m=\u001b[0m\u001b[0msum\u001b[0m\u001b[0;34m(\u001b[0m\u001b[0mrange\u001b[0m\u001b[0;34m(\u001b[0m\u001b[0;36m0\u001b[0m\u001b[0;34m,\u001b[0m\u001b[0;36m101\u001b[0m\u001b[0;34m,\u001b[0m\u001b[0;36m2\u001b[0m\u001b[0;34m)\u001b[0m\u001b[0;34m)\u001b[0m\u001b[0;34m\u001b[0m\u001b[0;34m\u001b[0m\u001b[0m\n\u001b[0m\u001b[1;32m      3\u001b[0m \u001b[0mprint\u001b[0m\u001b[0;34m(\u001b[0m\u001b[0msuma\u001b[0m\u001b[0;34m)\u001b[0m\u001b[0;34m\u001b[0m\u001b[0;34m\u001b[0m\u001b[0m\n",
      "\u001b[0;31mTypeError\u001b[0m: 'int' object is not callable"
     ]
    }
   ],
   "source": [
    "#FORMA 1 CON FUNCION \n",
    "suma=sum(range(0,101,2))\n",
    "print(suma)"
   ]
  },
  {
   "cell_type": "code",
   "execution_count": 49,
   "id": "7f97f12a",
   "metadata": {},
   "outputs": [
    {
     "name": "stdout",
     "output_type": "stream",
     "text": [
      "El resultado de la suma es:  2550\n"
     ]
    }
   ],
   "source": [
    "#FORMA 2 CON BUCLE FOR\n",
    "sum=0\n",
    "num=0\n",
    "while num<=100:\n",
    "    if num%2==0:\n",
    "        sum+=num\n",
    "    num+=1\n",
    "print(\"El resultado de la suma es: \",sum)"
   ]
  },
  {
   "cell_type": "markdown",
   "id": "348f28d7",
   "metadata": {},
   "source": [
    "Ejercicio 4\n",
    "\n",
    "Realiza un programa que pida al usuario cuantos números quiere introducir. Luego lee todos los números y realiza una media aritmética.\n"
   ]
  },
  {
   "cell_type": "code",
   "execution_count": null,
   "id": "d574b541",
   "metadata": {},
   "outputs": [],
   "source": [
    "repeticion=int(input(\"Ingresa la cantidad de números que deseas introducir para evaluar una media aritmetica: \"))\n",
    "sum=0\n",
    "for i in range(repeticion):\n",
    "    suma+=float(input(\"Ingresa un número: \"))"
   ]
  }
 ],
 "metadata": {
  "kernelspec": {
   "display_name": "Python 3",
   "language": "python",
   "name": "python3"
  },
  "language_info": {
   "codemirror_mode": {
    "name": "ipython",
    "version": 3
   },
   "file_extension": ".py",
   "mimetype": "text/x-python",
   "name": "python",
   "nbconvert_exporter": "python",
   "pygments_lexer": "ipython3",
   "version": "3.9.1"
  }
 },
 "nbformat": 4,
 "nbformat_minor": 5
}
