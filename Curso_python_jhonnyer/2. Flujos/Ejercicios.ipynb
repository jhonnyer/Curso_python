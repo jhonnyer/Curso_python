{
 "cells": [
  {
   "cell_type": "markdown",
   "id": "3c095ec7",
   "metadata": {},
   "source": [
    "Ejercicio 1\n",
    "\n",
    "Realiza un programa que lea dos números por teclado y permita elegir entre 3 opciones en un menú:\n",
    "\n",
    "Mostrar una suma de los dos números Mostrar una resta de los dos números (el primero menos el segundo) Mostrar una multiplicación de los dos números En caso de introducir una opción inválida, el programa informará de que no es correcta.\n"
   ]
  },
  {
   "cell_type": "code",
   "execution_count": 1,
   "id": "1da5f0be",
   "metadata": {},
   "outputs": [
    {
     "name": "stdout",
     "output_type": "stream",
     "text": [
      "Ingresa el primer numero: 5\n",
      "Ingresa el primer numero: 6\n",
      "Elige una opcion de lo que quieras realizar\n",
      "    1) Sumar los dos numeros:\n",
      "    2) Restar los dos numeros ingresados: \n",
      "    3) Multiplicar los dos numeros\n",
      "    4) Salir de la aplicación \n",
      "Ingresa una opción1\n",
      "La suma de:  5.0  +  6.0  es:  11.0\n",
      "Elige una opcion de lo que quieras realizar\n",
      "    1) Sumar los dos numeros:\n",
      "    2) Restar los dos numeros ingresados: \n",
      "    3) Multiplicar los dos numeros\n",
      "    4) Salir de la aplicación \n",
      "Ingresa una opción2\n",
      "La resta de:  5.0  -  6.0  es:  -1.0\n",
      "Elige una opcion de lo que quieras realizar\n",
      "    1) Sumar los dos numeros:\n",
      "    2) Restar los dos numeros ingresados: \n",
      "    3) Multiplicar los dos numeros\n",
      "    4) Salir de la aplicación \n",
      "Ingresa una opción3\n",
      "La multiplicacion de:  5.0  *  6.0  es:  30.0\n",
      "Elige una opcion de lo que quieras realizar\n",
      "    1) Sumar los dos numeros:\n",
      "    2) Restar los dos numeros ingresados: \n",
      "    3) Multiplicar los dos numeros\n",
      "    4) Salir de la aplicación \n",
      "Ingresa una opción4\n",
      "Hasta luego\n"
     ]
    }
   ],
   "source": [
    "n1=float(input(\"Ingresa el primer numero: \"))\n",
    "n2=float(input(\"Ingresa el primer numero: \"))\n",
    "\n",
    "while(True):\n",
    "    print(\"\"\"Elige una opcion de lo que quieras realizar\n",
    "    1) Sumar los dos numeros:\n",
    "    2) Restar los dos numeros ingresados: \n",
    "    3) Multiplicar los dos numeros\n",
    "    4) Salir de la aplicación \"\"\")\n",
    "    opcion=input(\"Ingresa una opción\")\n",
    "    if opcion==\"1\":\n",
    "        print(\"La suma de: \",n1,\" + \",n2,\" es: \",n1+n2)\n",
    "    elif opcion==\"2\":\n",
    "        print(\"La resta de: \",n1,\" - \",n2,\" es: \",n1-n2)\n",
    "    elif opcion==\"3\":\n",
    "        print(\"La multiplicacion de: \",n1,\" * \",n2,\" es: \",n1*n2)\n",
    "    elif opcion==\"4\":\n",
    "        print(\"Hasta luego\")\n",
    "        break\n",
    "    else:\n",
    "        print(\"Comando desconocido, vuelve a ingresar una opción nuevamente\")"
   ]
  },
  {
   "cell_type": "markdown",
   "id": "d836c056",
   "metadata": {},
   "source": [
    "Ejercicio 2\n",
    "\n",
    "Realiza un programa que lea un número impar por teclado. Si el usuario no introduce un número impar, debe repetise el proceso hasta que lo introduzca correctamente."
   ]
  },
  {
   "cell_type": "code",
   "execution_count": 21,
   "id": "ffb553a2",
   "metadata": {},
   "outputs": [
    {
     "name": "stdout",
     "output_type": "stream",
     "text": [
      "Por favor ingresa un numero impar: 8\n",
      "El número ingresado no es impar, por favor ingresar nuevamente un numero impar: 4\n",
      "El número ingresado no es impar, por favor ingresar nuevamente un numero impar: 6\n",
      "El número ingresado no es impar, por favor ingresar nuevamente un numero impar: 7\n",
      "El numero impar ingresado es:  7\n"
     ]
    }
   ],
   "source": [
    "numero=int(input(\"Por favor ingresa un numero impar: \"))\n",
    "while numero%2==0:\n",
    "    numero=int(input(\"El número ingresado no es impar, por favor ingresar nuevamente un numero impar: \"))\n",
    "else:\n",
    "    print(\"El numero impar ingresado es: \",numero)"
   ]
  },
  {
   "cell_type": "markdown",
   "id": "1b70c956",
   "metadata": {},
   "source": [
    "Ejercicio 3\n",
    "\n",
    "Realiza un programa que sume todos los números enteros pares desde el 0 hasta el 100\n",
    "\n",
    "Puedes utilizar la funciones sum() y range() para hacerlo más fácil.\n",
    "\n",
    "El tercer parámetro en la función range(inicio, fin, salto) indica un salto de números, pruébalo."
   ]
  },
  {
   "cell_type": "code",
   "execution_count": 1,
   "id": "d8713be3",
   "metadata": {},
   "outputs": [
    {
     "name": "stdout",
     "output_type": "stream",
     "text": [
      "2550\n"
     ]
    }
   ],
   "source": [
    "#FORMA 1 CON FUNCION \n",
    "suma=sum(range(0,101,2))\n",
    "print(suma)"
   ]
  },
  {
   "cell_type": "code",
   "execution_count": 49,
   "id": "458e0712",
   "metadata": {},
   "outputs": [
    {
     "name": "stdout",
     "output_type": "stream",
     "text": [
      "El resultado de la suma es:  2550\n"
     ]
    }
   ],
   "source": [
    "#FORMA 2 CON BUCLE FOR\n",
    "sum=0\n",
    "num=0\n",
    "while num<=100:\n",
    "    if num%2==0:\n",
    "        sum+=num\n",
    "    num+=1\n",
    "print(\"El resultado de la suma es: \",sum)"
   ]
  },
  {
   "cell_type": "markdown",
   "id": "12fce28a",
   "metadata": {},
   "source": [
    "Ejercicio 4\n",
    "\n",
    "Realiza un programa que pida al usuario cuantos números quiere introducir. Luego lee todos los números y realiza una media aritmética.\n"
   ]
  },
  {
   "cell_type": "code",
   "execution_count": 56,
   "id": "55d8467d",
   "metadata": {},
   "outputs": [
    {
     "name": "stdout",
     "output_type": "stream",
     "text": [
      "Ingresa la cantidad de números que deseas introducir para evaluar una media aritmetica: 4\n",
      "Ingresa un número: 1\n",
      "Ingresa un número: 2\n",
      "Ingresa un número: 3\n",
      "Ingresa un número: 4\n",
      "La cantidad de numeros introducidos es:  4 . La suma de los numeros introducidos es:  10.0 . La media aritmetica de los numeros introducidos es:  2.5\n"
     ]
    }
   ],
   "source": [
    "repeticion=int(input(\"Ingresa la cantidad de números que deseas introducir para evaluar una media aritmetica: \"))\n",
    "sum=0\n",
    "for i in range(repeticion):\n",
    "    sum+=float(input(\"Ingresa un número: \"))\n",
    "print(\"La cantidad de numeros introducidos es: \",repeticion, \". La suma de los numeros introducidos es: \", sum, \". La media aritmetica de los numeros introducidos es: \",sum/repeticion)"
   ]
  },
  {
   "cell_type": "markdown",
   "id": "66a8bb1b",
   "metadata": {},
   "source": [
    "Ejercicio 5\n",
    "\n",
    "\n",
    "Realiza un programa que pida al usuario un número entero del 0 al 9, y que mientras el número no sea correcto se repita el proceso. Luego debe comprobar si el número se encuentra en la lista de números y notificarlo:\n",
    "\n",
    "Concepto útil\n",
    "\n",
    "La sintaxis [valor] in [lista] permite comprobar si un valor se encuentra en una lista (devuelve True o False)."
   ]
  },
  {
   "cell_type": "code",
   "execution_count": 1,
   "id": "8ec0f8df",
   "metadata": {},
   "outputs": [
    {
     "name": "stdout",
     "output_type": "stream",
     "text": [
      "Ingresa un numero entero entre el 0 y el 9: 10\n",
      "Dato incorrecto, vuelve  a digitar el numero \n",
      "Ingresa un numero entero entre el 0 y el 9: 12\n",
      "Dato incorrecto, vuelve  a digitar el numero \n",
      "Ingresa un numero entero entre el 0 y el 9: 4\n",
      "El numero ingresado:  4  no se encuentra en la lista numeros\n"
     ]
    }
   ],
   "source": [
    "numeros=[1,3,5,7,9]\n",
    "while True:\n",
    "    num=int(input(\"Ingresa un numero entero entre el 0 y el 9: \"))\n",
    "    if num>=0 and num<=9:\n",
    "        break\n",
    "    else:\n",
    "        print(\"Dato incorrecto, vuelve  a digitar el numero \")\n",
    "        \n",
    "#Verificacion si el numero esta en la lista        \n",
    "if num in numeros:\n",
    "            print(\"El numero ingresado: \",num,\" se encuentra en la lista numeros: \",numeros)\n",
    "else:\n",
    "            print(\"El numero ingresado: \",num,\" no se encuentra en la lista numeros\")"
   ]
  },
  {
   "cell_type": "markdown",
   "id": "c7997b0a",
   "metadata": {},
   "source": [
    "Ejercicio 6\n",
    "\n",
    "Utilizando la función range() y la conversión a listas genera las siguientes listas dinámicamente:\n",
    "\n",
    "Todos los números del 0 al 10 [0, 1, 2, ..., 10]\n",
    "Todos los números del -10 al 0 [-10, -9, -8, ..., 0]\n",
    "Todos los números pares del 0 al 20 [0, 2, 4, ..., 20]\n",
    "Todos los números impares entre -20 y 0 [-19, -17, -15, ..., -1]\n",
    "Todos los números múltiples de 5 del 0 al 50 [0, 5, 10, ..., 50]\n",
    "Concepto útil\n",
    "\n",
    "Se pueden generar saltos en el range() estableciendo su tercer parámetro range(inicio, fin, salto), experimenta.\n",
    "\n"
   ]
  },
  {
   "cell_type": "code",
   "execution_count": 71,
   "id": "8c35dbf4",
   "metadata": {},
   "outputs": [
    {
     "name": "stdout",
     "output_type": "stream",
     "text": [
      "[0, 1, 2, 3, 4, 5, 6, 7, 8, 9, 10]\n",
      "[-10, -9, -8, -7, -6, -5, -4, -3, -2, -1, 0]\n",
      "[0, 2, 4, 6, 8, 10, 12, 14, 16, 18, 20]\n",
      "[-19, -17, -15, -13, -11, -9, -7, -5, -3, -1]\n",
      "[0, 5, 10, 15, 20, 25, 30, 35, 40, 45, 50]\n"
     ]
    }
   ],
   "source": [
    "lista1=list(range(0,11))\n",
    "print(lista1)\n",
    "\n",
    "lista2=list(range(-10,1))\n",
    "print(lista2)\n",
    "\n",
    "lista3=list(range(0,21,2))\n",
    "print(lista3)\n",
    "\n",
    "lista4=list(range(-19,0,2))\n",
    "print(lista4)\n",
    "\n",
    "lista5=list(range(0,51,5))\n",
    "print(lista5)"
   ]
  },
  {
   "cell_type": "markdown",
   "id": "0d14599d",
   "metadata": {},
   "source": [
    "Ejercicio 7\n",
    "\n",
    "\n",
    "Dadas dos listas, debes generar una tercera con todos los elementos que se repitan en ellas, pero no debe repetirse ningún elemento en la nueva lista:\n",
    "\n",
    "\n",
    "lista_1 = [\"h\",'o','l','a',' ', 'm','u','n','d','o']\n",
    "lista_2 = [\"h\",'o','l','a',' ', 'l','u','n','a']\n",
    "\n",
    "# Completa el ejercicio aquí"
   ]
  },
  {
   "cell_type": "code",
   "execution_count": 75,
   "id": "f3784d8c",
   "metadata": {},
   "outputs": [
    {
     "name": "stdout",
     "output_type": "stream",
     "text": [
      "['h', 'o', 'l', 'a', ' ', 'u', 'n']\n"
     ]
    }
   ],
   "source": [
    "lista_1 = [\"h\",'o','l','a',' ', 'm','u','n','d','o'] \n",
    "lista_2 = [\"h\",'o','l','a',' ', 'l','u','n','a']\n",
    "\n",
    "lista_3=[]\n",
    "for l1 in lista_1:\n",
    "    #Verifica que la letra este repetida en la lista_2 y que no este en la lista nueva creada lista_3\n",
    "    if l1 in lista_2 and l1 not in lista_3:\n",
    "        lista_3.append(l1)\n",
    "print(lista_3)"
   ]
  },
  {
   "cell_type": "code",
   "execution_count": null,
   "id": "070f3868",
   "metadata": {},
   "outputs": [],
   "source": []
  }
 ],
 "metadata": {
  "kernelspec": {
   "display_name": "Python 3",
   "language": "python",
   "name": "python3"
  },
  "language_info": {
   "codemirror_mode": {
    "name": "ipython",
    "version": 3
   },
   "file_extension": ".py",
   "mimetype": "text/x-python",
   "name": "python",
   "nbconvert_exporter": "python",
   "pygments_lexer": "ipython3",
   "version": "3.9.1"
  }
 },
 "nbformat": 4,
 "nbformat_minor": 5
}
