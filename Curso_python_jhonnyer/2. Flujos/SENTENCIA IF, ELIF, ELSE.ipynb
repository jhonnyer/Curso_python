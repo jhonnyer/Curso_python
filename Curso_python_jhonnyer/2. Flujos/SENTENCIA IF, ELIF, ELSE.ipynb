{
 "cells": [
  {
   "cell_type": "code",
   "execution_count": 4,
   "id": "5e69d4b6",
   "metadata": {},
   "outputs": [
    {
     "name": "stdout",
     "output_type": "stream",
     "text": [
      "Se cumple la condición\n",
      "También se muestre este print\n"
     ]
    }
   ],
   "source": [
    "if True:  # equivale a if not False\n",
    "    print(\"Se cumple la condición\")\n",
    "    print(\"También se muestre este print\")"
   ]
  },
  {
   "cell_type": "code",
   "execution_count": 8,
   "id": "3ef26cd8",
   "metadata": {},
   "outputs": [
    {
     "name": "stdout",
     "output_type": "stream",
     "text": [
      "Fin\n"
     ]
    }
   ],
   "source": [
    "if not True:  # equivale a if False\n",
    "    print(\"Se cumple la condición\")\n",
    "    print(\"También se muestre este print\")\n",
    "else:\n",
    "    print(\"Fin\")"
   ]
  },
  {
   "cell_type": "code",
   "execution_count": 4,
   "id": "13d93cda",
   "metadata": {},
   "outputs": [
    {
     "name": "stdout",
     "output_type": "stream",
     "text": [
      "a vale 5\n"
     ]
    }
   ],
   "source": [
    "a = 5\n",
    "if a == 2:\n",
    "    print(\"a vale 2\")\n",
    "if a == 5:\n",
    "    print(\"a vale 5\")"
   ]
  },
  {
   "cell_type": "code",
   "execution_count": 5,
   "id": "26867e8c",
   "metadata": {},
   "outputs": [
    {
     "name": "stdout",
     "output_type": "stream",
     "text": [
      "a vale 5\n"
     ]
    }
   ],
   "source": [
    "a = 5\n",
    "if a == 2:\n",
    "    print(\"a vale 2\")\n",
    "else: \n",
    "    print(\"a vale 5\")"
   ]
  },
  {
   "cell_type": "code",
   "execution_count": 13,
   "id": "42b582b7",
   "metadata": {},
   "outputs": [
    {
     "name": "stdout",
     "output_type": "stream",
     "text": [
      "Inserte el valor de a, debe ser un numero entero: 4\n",
      "Inserte el valor de b, debe ser un numero entero: 3\n",
      "El valor de a es:  4\n",
      "El valor de b es:  3\n"
     ]
    }
   ],
   "source": [
    "#a = 3\n",
    "#b = 2\n",
    "a=int(input(\"Inserte el valor de a, debe ser un numero entero: \"))\n",
    "b=int(input(\"Inserte el valor de b, debe ser un numero entero: \"))\n",
    "if a == 5:\n",
    "    print(\"El valor de a es: \",a)\n",
    "    if b == 10:\n",
    "        print(\"El valor de b es: \",b)\n",
    "    else: \n",
    "        print(\"El valor de b es: \",b)\n",
    "else:\n",
    "    print(\"El valor de a es: \",a)\n",
    "    print(\"El valor de b es: \",b)\n",
    "    "
   ]
  },
  {
   "cell_type": "code",
   "execution_count": 17,
   "id": "10882779",
   "metadata": {},
   "outputs": [
    {
     "name": "stdout",
     "output_type": "stream",
     "text": [
      "El valor de a es:  5\n",
      "El valor de b es:  10\n",
      "El valor de a es: 5 \n",
      "El valor de b es: 10\n"
     ]
    }
   ],
   "source": [
    "a = 5\n",
    "b = 10\n",
    "if a == 5 and b==10:\n",
    "    print(\"El valor de a es: \",a)\n",
    "    print(\"El valor de b es: \",b)\n",
    "    print(\"El valor de a es: \"+str(a)+\" \\nEl valor de b es: \"+str(b))"
   ]
  },
  {
   "cell_type": "code",
   "execution_count": 18,
   "id": "98661b4e",
   "metadata": {},
   "outputs": [
    {
     "name": "stdout",
     "output_type": "stream",
     "text": [
      "11 es un número impar\n"
     ]
    }
   ],
   "source": [
    "n = 11\n",
    "if n % 2 == 0:\n",
    "    print(n,\"es un número par\")\n",
    "else:\n",
    "    print(n,\"es un número impar\")"
   ]
  },
  {
   "cell_type": "code",
   "execution_count": 21,
   "id": "13225804",
   "metadata": {},
   "outputs": [
    {
     "name": "stdout",
     "output_type": "stream",
     "text": [
      "Saliendo del sistema...\n"
     ]
    }
   ],
   "source": [
    "comando = \"SALIR\"\n",
    "\n",
    "if comando == \"ENTRAR\":\n",
    "    print(\"Bienvenido al sistema\")\n",
    "elif comando == \"SALUDAR\":\n",
    "    print(\"Hola, espero que te lo estés pasando bien aprendiendo Python\")\n",
    "elif comando == \"SALIR\":\n",
    "    print(\"Saliendo del sistema...\")\n",
    "else:\n",
    "    print(\"Este comando no se reconoce\")"
   ]
  },
  {
   "cell_type": "code",
   "execution_count": 22,
   "id": "b99c5a90",
   "metadata": {},
   "outputs": [
    {
     "name": "stdout",
     "output_type": "stream",
     "text": [
      "Introduce una nota: 5\n",
      "Suficiente\n"
     ]
    }
   ],
   "source": [
    "nota = float(input(\"Introduce una nota: \"))\n",
    "\n",
    "if nota >= 9:\n",
    "    print(\"Sobresaliente\")\n",
    "elif nota >= 7:\n",
    "    print(\"Notable\")\n",
    "elif nota >= 6:\n",
    "    print(\"Bien\")\n",
    "elif nota >= 5:\n",
    "    print(\"Suficiente\")\n",
    "else:\n",
    "    print(\"Insuficiente\")"
   ]
  },
  {
   "cell_type": "code",
   "execution_count": 9,
   "id": "4ab033d8",
   "metadata": {},
   "outputs": [
    {
     "name": "stdout",
     "output_type": "stream",
     "text": [
      "Introduce una nota: 10\n",
      "Sobresaliente\n",
      "Notable\n",
      "Bien\n",
      "Suficiente\n"
     ]
    }
   ],
   "source": [
    "nota = float(input(\"Introduce una nota: \"))\n",
    "#verificacion de nota no funcionando correctamente porque cumple varias condiciones\n",
    "if nota >= 9:\n",
    "    print(\"Sobresaliente\")\n",
    "if nota >= 7:\n",
    "    print(\"Notable\")\n",
    "if nota >= 6:\n",
    "    print(\"Bien\")\n",
    "if nota >= 5:\n",
    "    print(\"Suficiente\")\n",
    "else:\n",
    "    print(\"Insuficiente\")"
   ]
  },
  {
   "cell_type": "code",
   "execution_count": 25,
   "id": "7a0dd0d5",
   "metadata": {},
   "outputs": [
    {
     "name": "stdout",
     "output_type": "stream",
     "text": [
      "Introduce una nota: 1\n",
      "Insuficiente\n"
     ]
    }
   ],
   "source": [
    "nota = float(input(\"Introduce una nota: \"))\n",
    "#verificacion de notafuncionando correctamente porque VERIFICA VARIAS CONDICIONES\n",
    "if nota >= 9:\n",
    "    print(\"Sobresaliente\")\n",
    "if nota >= 7 and nota < 9:\n",
    "    print(\"Notable\")\n",
    "if nota >= 6 and nota < 7:\n",
    "    print(\"Bien\")\n",
    "if nota >= 5 and nota < 6:\n",
    "    print(\"Suficiente\")\n",
    "if nota < 5:\n",
    "    print(\"Insuficiente\")"
   ]
  },
  {
   "cell_type": "markdown",
   "id": "8ca8324d",
   "metadata": {},
   "source": [
    "EJERCICIO: \n",
    "\n",
    "Utilizando condicion if-elif-else hacer un programa que compare longitud de dos variables (cadena_1 y cadena_2) y en funcion del resultado almacenar el valor en otra variable llamada resultado.\n",
    "\n",
    "Si cadena_1 es mas larga que cadena_2, la variable resultado debe tener el valor entero 1.\n",
    "Si cadena_1 es mas corta que cadena_2, el resultado debe tener el valor 2\n",
    "Si cadena_1 y cadena_2 tiene la misma longitud, la variable resultado debe tener valor 0"
   ]
  },
  {
   "cell_type": "code",
   "execution_count": 32,
   "id": "59c886d8",
   "metadata": {},
   "outputs": [
    {
     "name": "stdout",
     "output_type": "stream",
     "text": [
      "2\n"
     ]
    }
   ],
   "source": [
    "cadena_1=[2,4,5,67,78]\n",
    "cadena_2=[4,5,6,7,8,9,3,3,5,6,7,8]\n",
    "\n",
    "long_cad1=len(cadena_1)\n",
    "long_cad2=len(cadena_2)\n",
    "\n",
    "if long_cad1>long_cad2:\n",
    "    resultado=1\n",
    "elif long_cad1<long_cad2:\n",
    "    resultado=2\n",
    "else:\n",
    "    resultado=0\n",
    "print(resultado)\n",
    "    "
   ]
  },
  {
   "cell_type": "code",
   "execution_count": null,
   "id": "a8167171",
   "metadata": {},
   "outputs": [],
   "source": []
  }
 ],
 "metadata": {
  "kernelspec": {
   "display_name": "Python 3",
   "language": "python",
   "name": "python3"
  },
  "language_info": {
   "codemirror_mode": {
    "name": "ipython",
    "version": 3
   },
   "file_extension": ".py",
   "mimetype": "text/x-python",
   "name": "python",
   "nbconvert_exporter": "python",
   "pygments_lexer": "ipython3",
   "version": "3.9.1"
  }
 },
 "nbformat": 4,
 "nbformat_minor": 5
}
