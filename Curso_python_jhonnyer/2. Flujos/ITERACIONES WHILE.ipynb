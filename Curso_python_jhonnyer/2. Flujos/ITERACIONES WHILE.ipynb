{
 "cells": [
  {
   "cell_type": "code",
   "execution_count": 1,
   "id": "999aae37",
   "metadata": {},
   "outputs": [
    {
     "name": "stdout",
     "output_type": "stream",
     "text": [
      "c vale 1\n",
      "c vale 2\n",
      "c vale 3\n",
      "c vale 4\n",
      "c vale 5\n",
      "c vale 6\n"
     ]
    }
   ],
   "source": [
    "c = 0\n",
    "while c <= 5:\n",
    "    c+=1\n",
    "    print(\"c vale\", c)"
   ]
  },
  {
   "cell_type": "code",
   "execution_count": 2,
   "id": "67379157",
   "metadata": {},
   "outputs": [
    {
     "name": "stdout",
     "output_type": "stream",
     "text": [
      "c vale 1\n",
      "c vale 2\n",
      "c vale 3\n",
      "c vale 4\n",
      "c vale 5\n",
      "c vale 6\n",
      "Se ha completado la iteracion, el valor de c es:  6\n"
     ]
    }
   ],
   "source": [
    "#cICLO WHILE CON CONDICION ELSE ENCADENADA\n",
    "c = 0\n",
    "while c <= 5:\n",
    "    c+=1\n",
    "    print(\"c vale\", c)\n",
    "else:\n",
    "    print(\"Se ha completado la iteracion, el valor de c es: \",c)"
   ]
  },
  {
   "cell_type": "code",
   "execution_count": 9,
   "id": "adf71e33",
   "metadata": {},
   "outputs": [
    {
     "name": "stdout",
     "output_type": "stream",
     "text": [
      "c vale 1\n",
      "c vale 2\n",
      "El bucle ha sido roto cuando la variable c equivale a:  3\n"
     ]
    }
   ],
   "source": [
    "#cICLO WHILE CON CONDICION IF Y BREAK PARA ROMPER EL BUCLE SI SE CUMPLE LA CONDICION\n",
    "c = 0\n",
    "while c <= 5:\n",
    "    c+=1\n",
    "    if (c==3):\n",
    "        print(\"El bucle ha sido roto cuando la variable c equivale a: \",c)\n",
    "        break\n",
    "    print(\"c vale\", c)\n",
    "else:\n",
    "    print(\"Se ha completado la iteracion, el valor de c es: \",c)"
   ]
  },
  {
   "cell_type": "code",
   "execution_count": 10,
   "id": "622c028f",
   "metadata": {},
   "outputs": [
    {
     "name": "stdout",
     "output_type": "stream",
     "text": [
      "c vale 1\n",
      "c vale 2\n",
      "El bucle ha sido roto cuando la variable c equivale a:  3\n",
      "c vale 4\n",
      "c vale 5\n",
      "c vale 6\n",
      "Se ha completado la iteracion, el valor de c es:  6\n"
     ]
    }
   ],
   "source": [
    "#cICLO WHILE CON CONDICION IF Y CONTINUE PARA ROMPER EL BUCLE SI SE CUMPLE LA CONDICION Y CONTINUAR OTRA ITERACION\n",
    "c = 0\n",
    "while c <= 5:\n",
    "    c+=1\n",
    "    if (c==3):\n",
    "        print(\"El bucle ha sido roto cuando la variable c equivale a: \",c)\n",
    "        continue \n",
    "    print(\"c vale\", c)\n",
    "else:\n",
    "    print(\"Se ha completado la iteracion, el valor de c es: \",c)"
   ]
  },
  {
   "cell_type": "code",
   "execution_count": 11,
   "id": "8e54b0c3",
   "metadata": {},
   "outputs": [
    {
     "name": "stdout",
     "output_type": "stream",
     "text": [
      "c vale 1\n",
      "c vale 2\n",
      "El bucle ha sido roto cuando la variable c equivale a:  3\n",
      "El bucle ha sido roto cuando la variable c equivale a:  4\n",
      "c vale 5\n",
      "c vale 6\n",
      "Se ha completado la iteracion, el valor de c es:  6\n"
     ]
    }
   ],
   "source": [
    "#cICLO WHILE CON CONDICION IF Y CONTINUE PARA ROMPER EL BUCLE SI SE CUMPLE LA CONDICION Y CONTINUAR OTRA ITERACION\n",
    "c = 0\n",
    "while c <= 5:\n",
    "    c+=1\n",
    "    if c==3 or c==4:\n",
    "        print(\"El bucle ha sido roto cuando la variable c equivale a: \",c)\n",
    "        continue \n",
    "    print(\"c vale\", c)\n",
    "else:\n",
    "    print(\"Se ha completado la iteracion, el valor de c es: \",c)"
   ]
  },
  {
   "cell_type": "code",
   "execution_count": 1,
   "id": "f15579c2",
   "metadata": {},
   "outputs": [
    {
     "name": "stdout",
     "output_type": "stream",
     "text": [
      "Bienvenido al menú interactivo\n",
      "¿Qué quieres hacer? Escribe una opción\n",
      "    1) Saludar\n",
      "    2) Sumar dos números\n",
      "    3) Salir\n",
      "1\n",
      "Hola, espero que te lo estés pasando bien \n",
      "\n",
      "¿Qué quieres hacer? Escribe una opción\n",
      "    1) Saludar\n",
      "    2) Sumar dos números\n",
      "    3) Salir\n",
      "2\n",
      "Introduce el primer número: 3\n",
      "Introduce el segundo número: 4\n",
      "El resultado de la suma es:  7.0\n",
      "¿Qué quieres hacer? Escribe una opción\n",
      "    1) Saludar\n",
      "    2) Sumar dos números\n",
      "    3) Salir\n",
      "3\n",
      "¡Hasta luego! Ha sido un placer ayudarte \n",
      "\n"
     ]
    }
   ],
   "source": [
    "print(\"Bienvenido al menú interactivo\")\n",
    "while(True):\n",
    "    print(\"\"\"¿Qué quieres hacer? Escribe una opción\n",
    "    1) Saludar\n",
    "    2) Sumar dos números\n",
    "    3) Salir\"\"\")\n",
    "    opcion = input()\n",
    "    if opcion == '1':\n",
    "        print(\"Hola, espero que te lo estés pasando bien \\n\")\n",
    "    elif opcion == '2':\n",
    "        n1 = float(input(\"Introduce el primer número: \"))\n",
    "        n2 = float(input(\"Introduce el segundo número: \"))\n",
    "        print(\"El resultado de la suma es: \",n1+n2)\n",
    "    elif opcion =='3':\n",
    "        print(\"¡Hasta luego! Ha sido un placer ayudarte \\n\")\n",
    "        break\n",
    "    else:\n",
    "        print(\"Comando desconocido, vuelve a intentarlo \\n\")"
   ]
  },
  {
   "cell_type": "markdown",
   "id": "c41046a2",
   "metadata": {},
   "source": [
    "EJERCICIO:\n",
    "\n",
    "Realiza un programa que lea un numero por teclado y lo almacena en una variable llamada numero. Si el numero introducido no es multiple de cinco, debe introducirse nuevamente hasta que lo sea"
   ]
  },
  {
   "cell_type": "code",
   "execution_count": 21,
   "id": "806dd4f4",
   "metadata": {},
   "outputs": [
    {
     "name": "stdout",
     "output_type": "stream",
     "text": [
      "Escribe un  numero entero multiplo de 5: 8\n",
      "El numero digitado no es multiplo de 5, escribe nuevamente un numero entero 92\n",
      "El numero digitado no es multiplo de 5, escribe nuevamente un numero entero 90\n",
      "El numero digitado es 90, y es multiplo de 5\n"
     ]
    }
   ],
   "source": [
    "numero=int(input(\"Escribe un  numero entero multiplo de 5: \"))\n",
    "while numero%5!=0:\n",
    "    numero=int(input(\"El numero digitado no es multiplo de 5, escribe nuevamente un numero entero \"))\n",
    "else:\n",
    "    print(\"El numero digitado es \"+str(numero)+\", y es multiplo de 5\")"
   ]
  },
  {
   "cell_type": "code",
   "execution_count": null,
   "id": "278a6591",
   "metadata": {},
   "outputs": [],
   "source": []
  },
  {
   "cell_type": "code",
   "execution_count": null,
   "id": "34b98e36",
   "metadata": {},
   "outputs": [],
   "source": []
  }
 ],
 "metadata": {
  "kernelspec": {
   "display_name": "Python 3",
   "language": "python",
   "name": "python3"
  },
  "language_info": {
   "codemirror_mode": {
    "name": "ipython",
    "version": 3
   },
   "file_extension": ".py",
   "mimetype": "text/x-python",
   "name": "python",
   "nbconvert_exporter": "python",
   "pygments_lexer": "ipython3",
   "version": "3.9.1"
  }
 },
 "nbformat": 4,
 "nbformat_minor": 5
}
